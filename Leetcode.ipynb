{
 "cells": [
  {
   "attachments": {},
   "cell_type": "markdown",
   "id": "e6f78289-d276-4a3a-8450-d955d2ec29f2",
   "metadata": {
    "editable": true,
    "slideshow": {
     "slide_type": ""
    },
    "tags": []
   },
   "source": [
    "<a id=\"contents\"></a>\n",
    "<div style=\"background-color:#3B9050; padding: 6px; border-radius: 5px; font-size: 25px;\">\n",
    "<b style=\"color: white;\">Solutions to Leetcode problems</b>\n",
    "</div>\n",
    "<hr>\n",
    "\n",
    "\n",
    "- [**7. Reverse Integer**](#7)\n",
    "- [**53. Maximum Subarray**](#53)\n",
    "- [**75. Sort Colors**](#75)\n",
    "- [**111. Minimum Depth of Binary Tree**](#111)\n",
    "- [**121. Best Time to Buy and Sell Stock**](#121)\n",
    "- [**135. Candy**](#135)\n",
    "- [**300. Longest Increasing Subsequence**](#300)\n",
    "- [**316. Remove Duplicate Letters**](#316)\n",
    "- [**386. Lexicographical Numbers**](#386)\n",
    "- [**440. K-th Smallest in Lexicographical Order**](#440)\n",
    "- [**451. Sort Characters By Frequency**](#451)\n",
    "- [**463. Island Perimeter**](#463)\n",
    "- [**515. Find Largest Value in Each Tree Row**](#515)\n",
    "- [**594. Longest Harmonious Subsequence**](#594)\n",
    "- [**724. Find Pivot Index**](#724)\n",
    "- [**766. Toeplitz Matrix**](#766)\n",
    "- [**773. Sliding Puzzle**](#773)\n",
    "- [**905. Sort Array By Parity**](#905)\n",
    "- [**916. Word Subsets**](#916)\n",
    "- [**917. Reverse Only Letters**](#917)\n",
    "- [**918. Maximum Sum Circular Subarray**](#918)\n",
    "- [**925. Long Pressed Name**](#925)\n",
    "- [**1030. Matrix Cells in Distance Order**](#1030)\n",
    "- [**1046. Last Stone Weight**](#1046)\n",
    "- [**1061. Lexicographically Smallest Equivalent String**](#1061)\n",
    "- [**1081. Smallest Subsequence of Distinct Characters**](#1081)\n",
    "- [**1089. Duplicate Zeros**](#1089)\n",
    "- [**1103. Distribute Candies to People**](#1103)\n",
    "- [**1160. Find Words That Can Be Formed by Characters**](#1160)\n",
    "- [**1200. Minimum Absolute Difference**](#1200)\n",
    "- [**1252. Cells with Odd Values in a Matrix**](#1252)\n",
    "- [**1298. Maximum Candies You Can Get from Boxes**](#1298)\n",
    "- [**1346. Check If N and Its Double Exist**](#1346)\n",
    "- [**1365. How Many Numbers Are Smaller Than the Current Number**](#1365)\n",
    "- [**1422. Maximum Score After Splitting a String**](#1422)\n",
    "- [**1432. Max Difference You Can Get From Changing an Integer**](#1432)\n",
    "- [**1455. Check If a Word Occurs As a Prefix of Any Word in a Sentence**](#1455)\n",
    "- [**1464. Maximum Product of Two Elements in an Array**](#1464)\n",
    "- [**1498. Number of Subsequences That Satisfy the Given Sum Condition**](#1498)\n",
    "- [**1524. Number of Sub-arrays With Odd Sum**](#1524)\n",
    "- [**1572. Matrix Diagonal Sum**](#1572)\n",
    "- [**1749. Maximum Absolute Sum of Any Subarray**](#1749)\n",
    "- [**1760. Minimum Limit of Balls in a Bag**](#1760)\n",
    "- [**1861. Rotating the Box**](#1861)\n",
    "- [**1876. Substrings of Size Three with Distinct Characters**](#1876)\n",
    "- [**1920. Build Array from Permutation**](#1920)\n",
    "- [**1929. Concatenation of Array**](#1929)\n",
    "- [**1930. Unique Length-3 Palindromic Subsequences**](#1930)\n",
    "- [**1975. Maximum Matrix Sum**](#1975)\n",
    "- [**1991. Find the Middle Index in Array**](#1991) [= 724]\n",
    "- [**2014. Longest Subsequence Repeated k Times**](#2014)\n",
    "- [**2016. Maximum Difference Between Increasing Elements**](#2016)\n",
    "- [**2040. Kth Smallest Product of Two Sorted Arrays**](#2040)\n",
    "- [**2081. Sum of k-Mirror Numbers**](#2081)\n",
    "- [**2097. Valid Arrangement of Pairs**](#2097)\n",
    "- [**2099. Find Subsequence of Length K With the Largest Sum**](#2099)\n",
    "- [**2138. Divide a String Into Groups of Size k**](#2138)\n",
    "- [**2160. Minimum Sum of Four Digit Number After Splitting Digits**](#2160)\n",
    "- [**2200. Find All K-Distant Indices in an Array**](#2200)\n",
    "- [**2270. Number of Ways to Split Array**](#2270)\n",
    "- [**2290. Minimum Obstacle Removal to Reach Corner**](#2290)\n",
    "- [**2294. Partition Array Such That Maximum Difference Is K**](#2294)\n",
    "- [**2311. Longest Binary Subsequence Less Than or Equal to K**](#2311)\n",
    "- [**2381. Shifting Letters II**](#2381)\n",
    "- [**2434. Using a Robot to Print the Lexicographically Smallest String**](#2434)\n",
    "- [**2460. Apply Operations to an Array**](#2460)\n",
    "- [**2469. Convert the Temperature**](#2469)\n",
    "- [**2471. Minimum Number of Operations to Sort a Binary Tree by Level**](#2471)\n",
    "- [**2558. Take Gifts From the Richest Pile**](#2558)\n",
    "- [**2559. Count Vowel Strings in Ranges**](#2559)\n",
    "- [**2566. Maximum Difference by Remapping a Digit**](#2566)\n",
    "- [**2593. Find Score of an Array After Marking All Elements**](#2593)\n",
    "- [**2616. Minimize the Maximum Difference of Pairs**](#2616)\n",
    "- [**2769. Find the Maximum Achievable Number**](#2769)\n",
    "- [**2923. Find Champion I**](#2923)\n",
    "- [**2924. Find Champion II**](#2924)\n",
    "- [**2928. Distribute Candies Among Children I**](#2928)\n",
    "- [**2929. Distribute Candies Among Children II**](#2929)\n",
    "- [**2966. Divide Array Into Arrays With Max Difference**](#2966)\n",
    "- [**2974. Minimum Number Game**](#2974)\n",
    "- [**3085. Minimum Deletions to Make String K-Special**](#3085)\n",
    "- [**3151. Special Array I**](#3151)\n",
    "- [**3170. Lexicographically Minimum String After Removing Stars**](#3170)\n",
    "- [**3330. Find the Original Typed String I**](#3330)\n",
    "- [**3340. Check Balanced String**](#3340)\n",
    "- [**3354. Make Array Elements Equal to Zero**](#3354)\n",
    "- [**3364. Minimum Positive Sum Subarray**](#3364)\n",
    "- [**3393. Count Paths With the Given XOR Value**](#3393)\n",
    "- [**3402. Minimum Operations to Make Columns Strictly Increasing**](#3402)\n",
    "- [**3405. Count the Number of Arrays with K Matching Adjacent Elements**](#3405)\n",
    "- [**3407. Substring Matching Pattern**](#3407)\n",
    "- [**3423. Maximum Difference Between Adjacent Elements in a Circular Array**](#3423)\n",
    "- [**3442. Maximum Difference Between Even and Odd Frequency I**](#3442)\n",
    "- [**3443. Maximum Manhattan Distance After K Changes**](#3443)\n",
    "- [**3445. Maximum Difference Between Even and Odd Frequency II**](#3445)\n",
    "- [**3587. Minimum Adjacent Swaps to Alternate Parity**](#3587)\n",
    "- [**3588. Find Maximum Area of a Triangle**](#3588)"
   ]
  },
  {
   "cell_type": "markdown",
   "id": "960d6b66-d31d-485b-b53b-856e462ff782",
   "metadata": {
    "editable": true,
    "slideshow": {
     "slide_type": ""
    },
    "tags": []
   },
   "source": [
    "<a id=\"7\"></a>\n",
    "<div style=\"background-color:#F6C249; padding: 8px; border-radius: 5px; font-size: 20px;\">\n",
    "<b style=\"color: white;\">7. Reverse Integer</b>\n",
    "</div>"
   ]
  },
  {
   "cell_type": "markdown",
   "id": "386ca84d-3d6b-4145-a22f-587d9e72e33b",
   "metadata": {},
   "source": [
    "[https://leetcode.com/problems/reverse-integer/](https://leetcode.com/problems/reverse-integer/)"
   ]
  },
  {
   "cell_type": "code",
   "execution_count": null,
   "id": "7630001d-3412-418b-8529-0426e7415174",
   "metadata": {},
   "outputs": [],
   "source": [
    "class Solution(object):\n",
    "    def reverse(self, x):\n",
    "        \"\"\"\n",
    "        :type x: int\n",
    "        :rtype: int\n",
    "        \"\"\"\n",
    "        \n",
    "        A1, A2 = -2147483648, 2147483647\n",
    "        d1 = A1 % 10\n",
    "        d1 = -(10 - d1) if (d1 > 0) else d1\n",
    "        a1 = (A1 - d1) / 10\n",
    "        a2, d2 = divmod(A2, 10)\n",
    "        \n",
    "        output = 0\n",
    "        \n",
    "        while x < 0:\n",
    "            d = x % 10\n",
    "            d = -(10 - d) if (d > 0) else d\n",
    "            x = (x - d) / 10\n",
    "            if (output < a1) or ((output == a1) and (d < d1)):\n",
    "                return 0\n",
    "            output = 10 * output + d\n",
    "        \n",
    "        while x > 0:\n",
    "            x, d = divmod(x, 10)\n",
    "            if (output > a2) or ((output == a2) and (d > d2)):\n",
    "                return 0\n",
    "            output = 10 * output + d\n",
    "        \n",
    "        return output"
   ]
  },
  {
   "cell_type": "markdown",
   "id": "59450447-624a-4ddf-8114-64e5d9ea2b0a",
   "metadata": {},
   "source": [
    "<a href=\"#contents\">Back to top</a>"
   ]
  },
  {
   "cell_type": "markdown",
   "id": "4b24a054-e52f-474f-b1a8-d251e83afa2b",
   "metadata": {
    "editable": true,
    "slideshow": {
     "slide_type": ""
    },
    "tags": []
   },
   "source": [
    "<a id=\"53\"></a>\n",
    "<div style=\"background-color:#F6C249; padding: 8px; border-radius: 5px; font-size: 20px;\">\n",
    "<b style=\"color: white;\">53. Maximum Subarray</b>\n",
    "</div>"
   ]
  },
  {
   "cell_type": "markdown",
   "id": "ceb0050e-405a-4cc6-8899-99d03740262d",
   "metadata": {},
   "source": [
    "[https://leetcode.com/problems/maximum-subarray/](https://leetcode.com/problems/maximum-subarray/)"
   ]
  },
  {
   "cell_type": "code",
   "execution_count": null,
   "id": "251b4ee7-7be4-4676-b04f-2f1955a78a67",
   "metadata": {},
   "outputs": [],
   "source": [
    "class Solution(object):\n",
    "    def maxSubArray(self, nums):\n",
    "        \"\"\"\n",
    "        :type nums: List[int]\n",
    "        :rtype: int\n",
    "        \"\"\"\n",
    "        \n",
    "        answer = nums[0]\n",
    "        curr_max = 0\n",
    "        for num in nums:\n",
    "            curr_max = max(curr_max, 0) + num\n",
    "            answer = max(answer, curr_max)\n",
    "        \n",
    "        return answer"
   ]
  },
  {
   "cell_type": "markdown",
   "id": "e8978c81-f276-4a62-ade0-1f40c451e895",
   "metadata": {},
   "source": [
    "<a href=\"#contents\">Back to top</a>"
   ]
  },
  {
   "cell_type": "markdown",
   "id": "6d878d0b-9c69-4876-8ed2-8b2413a3af3d",
   "metadata": {
    "editable": true,
    "slideshow": {
     "slide_type": ""
    },
    "tags": []
   },
   "source": [
    "<a id=\"75\"></a>\n",
    "<div style=\"background-color:#F6C249; padding: 8px; border-radius: 5px; font-size: 20px;\">\n",
    "<b style=\"color: white;\">75. Sort Colors</b>\n",
    "</div>"
   ]
  },
  {
   "cell_type": "markdown",
   "id": "df57db62-85c1-4f7c-940d-1d8b68b390ab",
   "metadata": {},
   "source": [
    "[https://leetcode.com/problems/sort-colors/](https://leetcode.com/problems/sort-colors/)"
   ]
  },
  {
   "cell_type": "code",
   "execution_count": null,
   "id": "0d7101e8-6af0-45ff-8dd6-a8102cc2ac6d",
   "metadata": {},
   "outputs": [],
   "source": [
    "class Solution(object):\n",
    "    def sortColors(self, nums):\n",
    "        \"\"\"\n",
    "        :type nums: List[int]\n",
    "        :rtype: None Do not return anything, modify nums in-place instead.\n",
    "        \"\"\"\n",
    "        \n",
    "        n = len(nums)\n",
    "        i, j, k = 0, 0, n - 1\n",
    "        while j <= k:\n",
    "            if nums[j] == 0:\n",
    "                nums[i], nums[j] = nums[j], nums[i]\n",
    "                i += 1\n",
    "                j += 1\n",
    "            elif nums[j] == 1:\n",
    "                j += 1\n",
    "            else:\n",
    "                nums[j], nums[k] = nums[k], nums[j]\n",
    "                k -= 1"
   ]
  },
  {
   "cell_type": "markdown",
   "id": "2e3d0a6d-d7e7-4388-8b26-1f1da4a453a1",
   "metadata": {},
   "source": [
    "<a href=\"#contents\">Back to top</a>"
   ]
  },
  {
   "cell_type": "markdown",
   "id": "6468c332-54bd-4b7f-a02e-0a722dd7fff2",
   "metadata": {
    "editable": true,
    "slideshow": {
     "slide_type": ""
    },
    "tags": []
   },
   "source": [
    "<a id=\"111\"></a>\n",
    "<div style=\"background-color:#52B6A3; padding: 8px; border-radius: 5px; font-size: 20px;\">\n",
    "<b style=\"color: white;\">111. Minimum Depth of Binary Tree</b>\n",
    "</div>"
   ]
  },
  {
   "cell_type": "markdown",
   "id": "174d1f5b-a26b-44c0-9cd8-2fd007eb0cd1",
   "metadata": {},
   "source": [
    "[https://leetcode.com/problems/minimum-depth-of-binary-tree/](https://leetcode.com/problems/minimum-depth-of-binary-tree/)"
   ]
  },
  {
   "cell_type": "code",
   "execution_count": null,
   "id": "5e8e5b83-294d-4979-91fa-e59bbdadd826",
   "metadata": {},
   "outputs": [],
   "source": [
    "# Definition for a binary tree node.\n",
    "# class TreeNode(object):\n",
    "#     def __init__(self, val=0, left=None, right=None):\n",
    "#         self.val = val\n",
    "#         self.left = left\n",
    "#         self.right = right\n",
    "class Solution(object):\n",
    "    def minDepth(self, root):\n",
    "        \"\"\"\n",
    "        :type root: Optional[TreeNode]\n",
    "        :rtype: int\n",
    "        \"\"\"\n",
    "        \n",
    "        if not root:\n",
    "            return 0\n",
    "        \n",
    "        min_depth = 1\n",
    "        nodes = [root]\n",
    "        while nodes:\n",
    "            new_nodes = []\n",
    "            for node in nodes:\n",
    "                if not node.left and not node.right:\n",
    "                    return min_depth\n",
    "                if node.left:\n",
    "                    new_nodes.append(node.left)\n",
    "                if node.right:\n",
    "                    new_nodes.append(node.right)\n",
    "            \n",
    "            nodes = new_nodes\n",
    "            min_depth += 1\n",
    "        \n",
    "        return min_depth"
   ]
  },
  {
   "cell_type": "markdown",
   "id": "75538dc2-5de9-4b19-8ca2-5e5f967cfd5a",
   "metadata": {},
   "source": [
    "<a href=\"#contents\">Back to top</a>"
   ]
  },
  {
   "cell_type": "markdown",
   "id": "687cc9a9-7a88-48ce-a864-96765bb53763",
   "metadata": {
    "editable": true,
    "slideshow": {
     "slide_type": ""
    },
    "tags": []
   },
   "source": [
    "<a id=\"121\"></a>\n",
    "<div style=\"background-color:#52B6A3; padding: 8px; border-radius: 5px; font-size: 20px;\">\n",
    "<b style=\"color: white;\">121. Best Time to Buy and Sell Stock</b>\n",
    "</div>"
   ]
  },
  {
   "cell_type": "markdown",
   "id": "f0043dda-1389-4a08-b04b-30d2f32538ab",
   "metadata": {},
   "source": [
    "[https://leetcode.com/problems/best-time-to-buy-and-sell-stock/](https://leetcode.com/problems/best-time-to-buy-and-sell-stock/)"
   ]
  },
  {
   "cell_type": "code",
   "execution_count": null,
   "id": "c43e6216-ac7b-4814-b94b-a94d55bace83",
   "metadata": {},
   "outputs": [],
   "source": [
    "class Solution(object):\n",
    "    def maxProfit(self, prices):\n",
    "        \"\"\"\n",
    "        :type prices: List[int]\n",
    "        :rtype: int\n",
    "        \"\"\"\n",
    "        \n",
    "        n = len(prices)\n",
    "        profit, min_price = 0, prices[0]\n",
    "        for price in prices:\n",
    "            if price < min_price:\n",
    "                min_price = price\n",
    "            elif price - min_price > profit:\n",
    "                profit = price - min_price\n",
    "        \n",
    "        return profit"
   ]
  },
  {
   "cell_type": "markdown",
   "id": "a51dee64-6872-427f-b7a7-216d09679cdc",
   "metadata": {},
   "source": [
    "<a href=\"#contents\">Back to top</a>"
   ]
  },
  {
   "cell_type": "markdown",
   "id": "abf0e710-9c65-44f4-b764-929c84303d28",
   "metadata": {
    "editable": true,
    "slideshow": {
     "slide_type": ""
    },
    "tags": []
   },
   "source": [
    "<a id=\"135\"></a>\n",
    "<div style=\"background-color:#EB4B62; padding: 8px; border-radius: 5px; font-size: 20px;\">\n",
    "<b style=\"color: white;\">135. Candy</b>\n",
    "</div>"
   ]
  },
  {
   "cell_type": "markdown",
   "id": "90d96b74-2ad7-4daa-b6a8-bd900427c435",
   "metadata": {},
   "source": [
    "[https://leetcode.com/problems/candy/](https://leetcode.com/problems/candy/)"
   ]
  },
  {
   "cell_type": "code",
   "execution_count": null,
   "id": "628f4dd5-93bd-4f53-ab71-24af1d215365",
   "metadata": {},
   "outputs": [],
   "source": [
    "class Solution(object):\n",
    "    def candy(self, ratings):\n",
    "        \"\"\"\n",
    "        :type ratings: List[int]\n",
    "        :rtype: int\n",
    "        \"\"\"\n",
    "        \n",
    "        n = len(ratings)\n",
    "        candies = n * [1]\n",
    "        \n",
    "        for i in range(1, n):\n",
    "            if ratings[i] > ratings[i - 1]:\n",
    "                candies[i] = candies[i - 1] + 1\n",
    "        \n",
    "        for i in range(n - 2, -1, -1):\n",
    "            if ratings[i] > ratings[i + 1]:\n",
    "                candies[i] = max(candies[i], candies[i + 1] + 1)\n",
    "        \n",
    "        n_candies = sum(candies)\n",
    "        \n",
    "        return n_candies"
   ]
  },
  {
   "cell_type": "markdown",
   "id": "ca64a322-7ad0-47ce-8f70-7e6b9e07def6",
   "metadata": {},
   "source": [
    "<a href=\"#contents\">Back to top</a>"
   ]
  },
  {
   "cell_type": "markdown",
   "id": "3051a291-5cb9-4fce-b3b6-106a9fc3d7ae",
   "metadata": {
    "editable": true,
    "slideshow": {
     "slide_type": ""
    },
    "tags": []
   },
   "source": [
    "<a id=\"316\"></a>\n",
    "<div style=\"background-color:#F6C249; padding: 8px; border-radius: 5px; font-size: 20px;\">\n",
    "<b style=\"color: white;\">316. Remove Duplicate Letters</b>\n",
    "</div>"
   ]
  },
  {
   "cell_type": "markdown",
   "id": "8e36aa33-9575-483f-b364-def7ed8b54f5",
   "metadata": {},
   "source": [
    "[https://leetcode.com/problems/remove-duplicate-letters/](https://leetcode.com/problems/remove-duplicate-letters/)"
   ]
  },
  {
   "cell_type": "code",
   "execution_count": null,
   "id": "d07c9975-b357-467e-82b1-d7f9c29739a6",
   "metadata": {},
   "outputs": [],
   "source": [
    "class Solution(object):\n",
    "    def removeDuplicateLetters(self, s):\n",
    "        \"\"\"\n",
    "        :type s: str\n",
    "        :rtype: str\n",
    "        \"\"\"\n",
    "        \n",
    "        last_occurrence = {x: i for i, x in enumerate(s)}\n",
    "        \n",
    "        stack = []\n",
    "        in_stack = set()\n",
    "        for i, x in enumerate(s):\n",
    "            if x not in in_stack:\n",
    "                while stack and (x < stack[-1]) and (last_occurrence[stack[-1]] > i):\n",
    "                    in_stack.remove(stack.pop())\n",
    "                stack.append(x)\n",
    "                in_stack.add(x)\n",
    "        \n",
    "        t = \"\".join(stack)\n",
    "        \n",
    "        return t"
   ]
  },
  {
   "cell_type": "markdown",
   "id": "6ae8a94c-f030-48d7-8017-bf2fd71735d8",
   "metadata": {},
   "source": [
    "<a href=\"#contents\">Back to top</a>"
   ]
  },
  {
   "cell_type": "markdown",
   "id": "8c715413-5532-4bc7-902b-c974b8c3805e",
   "metadata": {
    "editable": true,
    "slideshow": {
     "slide_type": ""
    },
    "tags": []
   },
   "source": [
    "<a id=\"300\"></a>\n",
    "<div style=\"background-color:#F6C249; padding: 8px; border-radius: 5px; font-size: 20px;\">\n",
    "<b style=\"color: white;\">300. Longest Increasing Subsequence</b>\n",
    "</div>"
   ]
  },
  {
   "cell_type": "markdown",
   "id": "9a20be2e-79e5-4361-a4ca-b553d8d6317d",
   "metadata": {},
   "source": [
    "[https://leetcode.com/problems/longest-increasing-subsequence/](https://leetcode.com/problems/longest-increasing-subsequence/)"
   ]
  },
  {
   "cell_type": "code",
   "execution_count": null,
   "id": "375e1adb-dcbe-4b8b-93d0-c84a8c3081ab",
   "metadata": {},
   "outputs": [],
   "source": [
    "class Solution(object):\n",
    "    def lengthOfLIS(self, nums):\n",
    "        \"\"\"\n",
    "        :type nums: List[int]\n",
    "        :rtype: int\n",
    "        \"\"\"\n",
    "        \n",
    "        n = len(nums)\n",
    "        dp = [nums[0]]\n",
    "        for i in range(1, n):\n",
    "            j = bisect.bisect_left(dp, nums[i])\n",
    "            if j < len(dp):\n",
    "                dp[j] = nums[i]\n",
    "            else:\n",
    "                dp.append(nums[i])\n",
    "        \n",
    "        return len(dp)"
   ]
  },
  {
   "cell_type": "markdown",
   "id": "e9c38ae1-21be-49bb-8606-a64a97448c49",
   "metadata": {},
   "source": [
    "<a href=\"#contents\">Back to top</a>"
   ]
  },
  {
   "cell_type": "markdown",
   "id": "4ef87d01-8fd2-42d0-9419-2628f9aec904",
   "metadata": {
    "editable": true,
    "slideshow": {
     "slide_type": ""
    },
    "tags": []
   },
   "source": [
    "<a id=\"386\"></a>\n",
    "<div style=\"background-color:#F6C249; padding: 8px; border-radius: 5px; font-size: 20px;\">\n",
    "<b style=\"color: white;\">386. Lexicographical Numbers</b>\n",
    "</div>"
   ]
  },
  {
   "cell_type": "markdown",
   "id": "63c0a807-77f1-4144-98c3-084e9c6596cd",
   "metadata": {},
   "source": [
    "[https://leetcode.com/problems/lexicographical-numbers/](https://leetcode.com/problems/lexicographical-numbers/)"
   ]
  },
  {
   "cell_type": "code",
   "execution_count": null,
   "id": "9d3bf32c-9d63-48ec-9f1a-ad8003275937",
   "metadata": {},
   "outputs": [],
   "source": [
    "class Solution(object):\n",
    "    def lexicalOrder(self, n):\n",
    "        \"\"\"\n",
    "        :type n: int\n",
    "        :rtype: List[int]\n",
    "        \"\"\"\n",
    "        \n",
    "        answer = []\n",
    "        x = 1\n",
    "        while len(answer) < n:\n",
    "            if x <= n:\n",
    "                answer.append(x)\n",
    "                x *= 10\n",
    "            else:\n",
    "                x /= 10\n",
    "                while x % 10 == 9:\n",
    "                    x /= 10\n",
    "                x += 1\n",
    "        \n",
    "        return answer"
   ]
  },
  {
   "cell_type": "markdown",
   "id": "bd0f57c8-d619-452f-8dc9-7ed9673fac5c",
   "metadata": {},
   "source": [
    "<a href=\"#contents\">Back to top</a>"
   ]
  },
  {
   "cell_type": "markdown",
   "id": "437bf8a0-53da-4d44-a6ff-6640fa8ba24a",
   "metadata": {
    "editable": true,
    "slideshow": {
     "slide_type": ""
    },
    "tags": []
   },
   "source": [
    "<a id=\"440\"></a>\n",
    "<div style=\"background-color:#EB4B62; padding: 8px; border-radius: 5px; font-size: 20px;\">\n",
    "<b style=\"color: white;\">440. K-th Smallest in Lexicographical Order</b>\n",
    "</div>"
   ]
  },
  {
   "cell_type": "markdown",
   "id": "19248c53-37a4-4d39-97a6-ed93777503c1",
   "metadata": {},
   "source": [
    "[https://leetcode.com/problems/k-th-smallest-in-lexicographical-order/](https://leetcode.com/problems/k-th-smallest-in-lexicographical-order/)"
   ]
  },
  {
   "cell_type": "code",
   "execution_count": null,
   "id": "035d7203-ffec-47af-a2cb-7f6a48aa8873",
   "metadata": {},
   "outputs": [],
   "source": [
    "class Solution(object):\n",
    "    def findKthNumber(self, n, k):\n",
    "        \"\"\"\n",
    "        :type n: int\n",
    "        :type k: int\n",
    "        :rtype: int\n",
    "        \"\"\"\n",
    "        \n",
    "        answer = 1\n",
    "        k -= 1\n",
    "        while k > 0:\n",
    "            steps = self.counter(n, answer)\n",
    "            if steps <= k:\n",
    "                answer += 1\n",
    "                k -= steps\n",
    "            else:\n",
    "                answer *= 10\n",
    "                k -= 1\n",
    "        \n",
    "        return answer\n",
    "    \n",
    "    \n",
    "    def counter(self, n, node):\n",
    "        steps = 0\n",
    "        start, end = node, node + 1\n",
    "        while start <= n:\n",
    "            steps += min(n + 1, end) - start\n",
    "            start *= 10\n",
    "            end *= 10\n",
    "        \n",
    "        return steps"
   ]
  },
  {
   "cell_type": "markdown",
   "id": "d31159cc-33b8-4619-86bc-40521319566e",
   "metadata": {},
   "source": [
    "<a href=\"#contents\">Back to top</a>"
   ]
  },
  {
   "cell_type": "markdown",
   "id": "82144fd4-fe6e-4b50-9dc2-80a3e7f1265a",
   "metadata": {
    "editable": true,
    "slideshow": {
     "slide_type": ""
    },
    "tags": []
   },
   "source": [
    "<a id=\"451\"></a>\n",
    "<div style=\"background-color:#F6C249; padding: 8px; border-radius: 5px; font-size: 20px;\">\n",
    "<b style=\"color: white;\">451. Sort Characters By Frequency</b>\n",
    "</div>"
   ]
  },
  {
   "cell_type": "markdown",
   "id": "4e23709d-5399-4104-8813-43dd77213cbb",
   "metadata": {},
   "source": [
    "[https://leetcode.com/problems/sort-characters-by-frequency/](https://leetcode.com/problems/sort-characters-by-frequency/)"
   ]
  },
  {
   "cell_type": "code",
   "execution_count": null,
   "id": "61fa1a06-305e-4139-ad10-7c718c64c9b1",
   "metadata": {},
   "outputs": [],
   "source": [
    "class Solution(object):\n",
    "    def frequencySort(self, s):\n",
    "        \"\"\"\n",
    "        :type s: str\n",
    "        :rtype: str\n",
    "        \"\"\"\n",
    "        \n",
    "        counter = defaultdict(int)\n",
    "        for x in s:\n",
    "            counter[x] += 1\n",
    "        \n",
    "        elements = sorted(counter.keys(), key=lambda x: counter[x], reverse=True)\n",
    "        output = \"\".join(counter[x] * x for x in elements)\n",
    "        \n",
    "        return output"
   ]
  },
  {
   "cell_type": "markdown",
   "id": "8aa7468f-83d7-4e9f-a1e1-77d11ab26fdd",
   "metadata": {},
   "source": [
    "<a href=\"#contents\">Back to top</a>"
   ]
  },
  {
   "cell_type": "markdown",
   "id": "487b06e5-d94f-4a79-9195-e64b6d260904",
   "metadata": {
    "editable": true,
    "slideshow": {
     "slide_type": ""
    },
    "tags": []
   },
   "source": [
    "<a id=\"463\"></a>\n",
    "<div style=\"background-color:#52B6A3; padding: 8px; border-radius: 5px; font-size: 20px;\">\n",
    "<b style=\"color: white;\">463. Island Perimeter</b>\n",
    "</div>"
   ]
  },
  {
   "cell_type": "markdown",
   "id": "bb922e51-8941-49b8-9cee-d4760076e19b",
   "metadata": {},
   "source": [
    "[https://leetcode.com/problems/island-perimeter/](https://leetcode.com/problems/island-perimeter/)"
   ]
  },
  {
   "cell_type": "code",
   "execution_count": null,
   "id": "776e7ab5-fcce-416e-b66a-370d7cfbfee4",
   "metadata": {},
   "outputs": [],
   "source": [
    "class Solution(object):\n",
    "    def islandPerimeter(self, grid):\n",
    "        \"\"\"\n",
    "        :type grid: List[List[int]]\n",
    "        :rtype: int\n",
    "        \"\"\"\n",
    "        \n",
    "        m, n = len(grid), len(grid[0])\n",
    "        perimeter = 0\n",
    "        for i in range(m):\n",
    "            for j in range(n):\n",
    "                if grid[i][j] == 1:\n",
    "                    perimeter += 4\n",
    "                    if (i >= 1) and (grid[i - 1][j] == 1):\n",
    "                        perimeter -= 2\n",
    "                    if (j >= 1) and (grid[i][j - 1] == 1):\n",
    "                        perimeter -= 2\n",
    "        \n",
    "        return perimeter"
   ]
  },
  {
   "cell_type": "markdown",
   "id": "18b37fb0-a86b-4c82-bee0-7b9f6b61fe28",
   "metadata": {},
   "source": [
    "<a href=\"#contents\">Back to top</a>"
   ]
  },
  {
   "cell_type": "markdown",
   "id": "a770ff15-786e-4f18-b32c-9c723bb2249c",
   "metadata": {
    "editable": true,
    "slideshow": {
     "slide_type": ""
    },
    "tags": []
   },
   "source": [
    "<a id=\"515\"></a>\n",
    "<div style=\"background-color:#F6C249; padding: 8px; border-radius: 5px; font-size: 20px;\">\n",
    "<b style=\"color: white;\">515. Find Largest Value in Each Tree Row</b>\n",
    "</div>"
   ]
  },
  {
   "cell_type": "markdown",
   "id": "4f14adc9-11e9-4904-a5bc-441a2859eb6e",
   "metadata": {},
   "source": [
    "[https://leetcode.com/problems/find-largest-value-in-each-tree-row/](https://leetcode.com/problems/find-largest-value-in-each-tree-row/)"
   ]
  },
  {
   "cell_type": "code",
   "execution_count": null,
   "id": "aa42d9eb-2c93-4d28-a201-444d227244b2",
   "metadata": {},
   "outputs": [],
   "source": [
    "# Definition for a binary tree node.\n",
    "# class TreeNode(object):\n",
    "#     def __init__(self, val=0, left=None, right=None):\n",
    "#         self.val = val\n",
    "#         self.left = left\n",
    "#         self.right = right\n",
    "class Solution(object):\n",
    "    def largestValues(self, root):\n",
    "        \"\"\"\n",
    "        :type root: Optional[TreeNode]\n",
    "        :rtype: List[int]\n",
    "        \"\"\"\n",
    "        \n",
    "        if not root:\n",
    "            return []\n",
    "        \n",
    "        max_vals = []\n",
    "        nodes = [root]\n",
    "        while nodes:\n",
    "            val = None\n",
    "            new_nodes = []\n",
    "            for node in nodes:\n",
    "                if (val is None) or (node.val > val):\n",
    "                    val = node.val\n",
    "                if node.left:\n",
    "                    new_nodes.append(node.left)\n",
    "                if node.right:\n",
    "                    new_nodes.append(node.right)\n",
    "            max_vals.append(val)\n",
    "            nodes = new_nodes\n",
    "        \n",
    "        return max_vals"
   ]
  },
  {
   "cell_type": "markdown",
   "id": "50564744-0cd0-4bdf-9963-88122997dcf4",
   "metadata": {},
   "source": [
    "<a href=\"#contents\">Back to top</a>"
   ]
  },
  {
   "cell_type": "markdown",
   "id": "594c1bf1-7910-4685-8828-ae0d443da651",
   "metadata": {
    "editable": true,
    "slideshow": {
     "slide_type": ""
    },
    "tags": []
   },
   "source": [
    "<a id=\"594\"></a>\n",
    "<div style=\"background-color:#52B6A3; padding: 8px; border-radius: 5px; font-size: 20px;\">\n",
    "<b style=\"color: white;\">594. Longest Harmonious Subsequence</b>\n",
    "</div>"
   ]
  },
  {
   "cell_type": "markdown",
   "id": "2a3b6b2b-b459-4280-8606-6240c41495f0",
   "metadata": {},
   "source": [
    "[https://leetcode.com/problems/longest-harmonious-subsequence/](https://leetcode.com/problems/longest-harmonious-subsequence/)"
   ]
  },
  {
   "cell_type": "code",
   "execution_count": null,
   "id": "a114342a-cbcc-4ad9-9b09-19bb5cecf5a6",
   "metadata": {},
   "outputs": [],
   "source": [
    "class Solution(object):\n",
    "    def findLHS(self, nums):\n",
    "        \"\"\"\n",
    "        :type nums: List[int]\n",
    "        :rtype: int\n",
    "        \"\"\"\n",
    "        \n",
    "        freq = defaultdict(int)\n",
    "        for num in nums:\n",
    "            freq[num] += 1\n",
    "        \n",
    "        answer = 0\n",
    "        for num in freq:\n",
    "            if num + 1 in freq:\n",
    "                answer = max(freq[num] + freq[num + 1], answer)\n",
    "        \n",
    "        return answer"
   ]
  },
  {
   "cell_type": "markdown",
   "id": "12210414-47c9-4ef7-bea1-f3ba9e0194b8",
   "metadata": {},
   "source": [
    "<a href=\"#contents\">Back to top</a>"
   ]
  },
  {
   "cell_type": "markdown",
   "id": "f9bbac6b-e9c1-4fbe-85b4-f505bcfc8e5a",
   "metadata": {
    "editable": true,
    "slideshow": {
     "slide_type": ""
    },
    "tags": []
   },
   "source": [
    "<a id=\"724\"></a>\n",
    "<div style=\"background-color:#52B6A3; padding: 8px; border-radius: 5px; font-size: 20px;\">\n",
    "<b style=\"color: white;\">724. Find Pivot Index</b>\n",
    "</div>"
   ]
  },
  {
   "cell_type": "markdown",
   "id": "39da2d73-a401-4cc6-a391-d693a9379ad7",
   "metadata": {},
   "source": [
    "[https://leetcode.com/problems/find-pivot-index/](https://leetcode.com/problems/find-pivot-index/)"
   ]
  },
  {
   "cell_type": "code",
   "execution_count": null,
   "id": "7a6fe3c7-2391-4b86-9032-9238925bba7d",
   "metadata": {},
   "outputs": [],
   "source": [
    "class Solution(object):\n",
    "    def pivotIndex(self, nums):\n",
    "        \"\"\"\n",
    "        :type nums: List[int]\n",
    "        :rtype: int\n",
    "        \"\"\"\n",
    "        \n",
    "        n = len(nums)\n",
    "        left, right = 0, sum(nums) - nums[0]\n",
    "        \n",
    "        if left == right:\n",
    "            return 0\n",
    "        \n",
    "        for i in range(1, n):\n",
    "            left += nums[i - 1]\n",
    "            right -= nums[i]\n",
    "            if left == right:\n",
    "                return i\n",
    "        \n",
    "        return -1"
   ]
  },
  {
   "cell_type": "markdown",
   "id": "717e1353-a252-42d5-8631-d1c85d01971e",
   "metadata": {},
   "source": [
    "<a href=\"#contents\">Back to top</a>"
   ]
  },
  {
   "cell_type": "markdown",
   "id": "e50c6566-ed27-4bfc-b493-4377be64cc38",
   "metadata": {
    "editable": true,
    "slideshow": {
     "slide_type": ""
    },
    "tags": []
   },
   "source": [
    "<a id=\"766\"></a>\n",
    "<div style=\"background-color:#52B6A3; padding: 8px; border-radius: 5px; font-size: 20px;\">\n",
    "<b style=\"color: white;\">766. Toeplitz Matrix</b>\n",
    "</div>"
   ]
  },
  {
   "cell_type": "markdown",
   "id": "57653d35-86b1-4adb-af1f-dce163232268",
   "metadata": {},
   "source": [
    "[https://leetcode.com/problems/toeplitz-matrix/](https://leetcode.com/problems/toeplitz-matrix/)"
   ]
  },
  {
   "cell_type": "code",
   "execution_count": null,
   "id": "56cce26f-1fc1-4eeb-878d-691e475d631d",
   "metadata": {},
   "outputs": [],
   "source": [
    "class Solution(object):\n",
    "    def isToeplitzMatrix(self, matrix):\n",
    "        \"\"\"\n",
    "        :type matrix: List[List[int]]\n",
    "        :rtype: bool\n",
    "        \"\"\"\n",
    "        \n",
    "        m, n = len(matrix), len(matrix[0])\n",
    "        for i in range(1, m):\n",
    "            for j in range(1, n):\n",
    "                if matrix[i][j] != matrix[i - 1][j - 1]:\n",
    "                    return False\n",
    "        \n",
    "        return True"
   ]
  },
  {
   "cell_type": "markdown",
   "id": "e350f662-b9db-44dd-8892-8ea0789ea8a9",
   "metadata": {},
   "source": [
    "<a href=\"#contents\">Back to top</a>"
   ]
  },
  {
   "cell_type": "markdown",
   "id": "76aab78c-e90c-4c66-993c-771bed800142",
   "metadata": {
    "editable": true,
    "slideshow": {
     "slide_type": ""
    },
    "tags": []
   },
   "source": [
    "<a id=\"773\"></a>\n",
    "<div style=\"background-color:#EB4B62; padding: 8px; border-radius: 5px; font-size: 20px;\">\n",
    "<b style=\"color: white;\">773. Sliding Puzzle</b>\n",
    "</div>"
   ]
  },
  {
   "cell_type": "markdown",
   "id": "d1cc5edf-6b66-49bd-bd05-c84ed5b096c0",
   "metadata": {},
   "source": [
    "[https://leetcode.com/problems/sliding-puzzle/](https://leetcode.com/problems/sliding-puzzle/)"
   ]
  },
  {
   "cell_type": "code",
   "execution_count": null,
   "id": "3dc0c57b-ba38-4863-86ed-0a73939bb59e",
   "metadata": {},
   "outputs": [],
   "source": [
    "class Solution(object):\n",
    "    def slidingPuzzle(self, board):\n",
    "        \"\"\"\n",
    "        :type board: List[List[int]]\n",
    "        :rtype: int\n",
    "        \"\"\"\n",
    "        \n",
    "        m, n = len(board), len(board[0])\n",
    "        neighbours = [set() for _ in range(m * n)]\n",
    "        for k in range(m * n):\n",
    "            for e in {-1, 1}:\n",
    "                i, j = k // (m + 1), k % (m + 1)\n",
    "                p, q = i + e, j + e\n",
    "                if 0 <= p < m:\n",
    "                    neighbours[k].add(p * (m + 1) + j)\n",
    "                if 0 <= q < n:\n",
    "                    neighbours[k].add(i * (m + 1) + q)\n",
    "        \n",
    "        \n",
    "        board0 = tuple(range(1, m * n)) + (0,)\n",
    "        state = board0\n",
    "        d = {state: 0}\n",
    "        states = {state}\n",
    "        moves = 0\n",
    "        while states:\n",
    "            moves += 1\n",
    "            new_states = set()\n",
    "            for state in states:\n",
    "                new_state = list(state)\n",
    "                i = new_state.index(0)\n",
    "                for j in neighbours[i]:\n",
    "                    new_state[i], new_state[j] = new_state[j], new_state[i]\n",
    "                    s = tuple(new_state)\n",
    "                    if s not in d:\n",
    "                        d[s] = moves\n",
    "                        new_states.add(s)\n",
    "                    new_state[i], new_state[j] = new_state[j], new_state[i]\n",
    "            \n",
    "            states = new_states\n",
    "        \n",
    "        \n",
    "        board = tuple(s for row in board for s in row)\n",
    "        output = d[board] if (board in d) else -1\n",
    "        \n",
    "        return output"
   ]
  },
  {
   "cell_type": "markdown",
   "id": "ac38a423-1ef6-4e3d-a90b-07456e2ff79b",
   "metadata": {},
   "source": [
    "<a href=\"#contents\">Back to top</a>"
   ]
  },
  {
   "cell_type": "markdown",
   "id": "0c9679ee-bea6-467d-af46-fe40db256cd9",
   "metadata": {
    "editable": true,
    "slideshow": {
     "slide_type": ""
    },
    "tags": []
   },
   "source": [
    "<a id=\"905\"></a>\n",
    "<div style=\"background-color:#52B6A3; padding: 8px; border-radius: 5px; font-size: 20px;\">\n",
    "<b style=\"color: white;\">905. Sort Array By Parity</b>\n",
    "</div>"
   ]
  },
  {
   "cell_type": "markdown",
   "id": "071d9dc6-8ed9-4acd-8385-49f32a7f7604",
   "metadata": {},
   "source": [
    "[https://leetcode.com/problems/sort-array-by-parity/](https://leetcode.com/problems/sort-array-by-parity/)"
   ]
  },
  {
   "cell_type": "code",
   "execution_count": null,
   "id": "f3b2127c-81ab-4865-93ba-c4314793dc05",
   "metadata": {},
   "outputs": [],
   "source": [
    "class Solution(object):\n",
    "    def sortArrayByParity(self, nums):\n",
    "        \"\"\"\n",
    "        :type nums: List[int]\n",
    "        :rtype: List[int]\n",
    "        \"\"\"\n",
    "        \n",
    "        n = len(nums)\n",
    "        i, j = 0, n - 1\n",
    "        while i < j:\n",
    "            while (i < j) and (nums[i] % 2 == 0):\n",
    "                i += 1\n",
    "            while (i < j) and (nums[j] % 2 == 1):\n",
    "                j -= 1\n",
    "            nums[i], nums[j] = nums[j], nums[i]\n",
    "        \n",
    "        return nums"
   ]
  },
  {
   "cell_type": "markdown",
   "id": "afc96a8e-ed3d-4481-9c99-83c77dfef865",
   "metadata": {},
   "source": [
    "<a href=\"#contents\">Back to top</a>"
   ]
  },
  {
   "cell_type": "markdown",
   "id": "3236ffc8-5836-4b04-9a4b-54639b635b7f",
   "metadata": {
    "editable": true,
    "slideshow": {
     "slide_type": ""
    },
    "tags": []
   },
   "source": [
    "<a id=\"916\"></a>\n",
    "<div style=\"background-color:#F6C249; padding: 8px; border-radius: 5px; font-size: 20px;\">\n",
    "<b style=\"color: white;\">916. Word Subsets</b>\n",
    "</div>"
   ]
  },
  {
   "cell_type": "markdown",
   "id": "7ced65f7-8b65-4e50-be51-b3db9816e191",
   "metadata": {},
   "source": [
    "[https://leetcode.com/problems/word-subsets/](https://leetcode.com/problems/word-subsets/)"
   ]
  },
  {
   "cell_type": "code",
   "execution_count": null,
   "id": "7a3c1499-c790-4601-b7aa-2c4f7e34690a",
   "metadata": {},
   "outputs": [],
   "source": [
    "class Solution(object):\n",
    "    def wordSubsets(self, words1, words2):\n",
    "        \"\"\"\n",
    "        :type words1: List[str]\n",
    "        :type words2: List[str]\n",
    "        :rtype: List[str]\n",
    "        \"\"\"\n",
    "        \n",
    "        bmax = defaultdict(int)\n",
    "        for word in words2:\n",
    "            b = defaultdict(int)\n",
    "            for char in word:\n",
    "                b[char] += 1\n",
    "            \n",
    "            for char in b:\n",
    "                bmax[char] = max(bmax[char], b[char])\n",
    "        \n",
    "        answer = []\n",
    "        for word in words1:\n",
    "            a = defaultdict(int)\n",
    "            for char in word:\n",
    "                a[char] += 1\n",
    "            \n",
    "            if all(bmax[char] <= a[char] for char in bmax):\n",
    "                answer.append(word)\n",
    "        \n",
    "        return answer"
   ]
  },
  {
   "cell_type": "markdown",
   "id": "500e4d22-fa7e-4e90-be37-a7a5bfebde8c",
   "metadata": {},
   "source": [
    "<a href=\"#contents\">Back to top</a>"
   ]
  },
  {
   "cell_type": "markdown",
   "id": "9e5deae5-8af1-4501-b4ba-7cc9e7047dad",
   "metadata": {
    "editable": true,
    "slideshow": {
     "slide_type": ""
    },
    "tags": []
   },
   "source": [
    "<a id=\"917\"></a>\n",
    "<div style=\"background-color:#52B6A3; padding: 8px; border-radius: 5px; font-size: 20px;\">\n",
    "<b style=\"color: white;\">917. Reverse Only Letters</b>\n",
    "</div>"
   ]
  },
  {
   "cell_type": "markdown",
   "id": "8d7958af-d234-4640-8e29-0b9b34ebfa03",
   "metadata": {},
   "source": [
    "[https://leetcode.com/problems/reverse-only-letters/](https://leetcode.com/problems/reverse-only-letters/)"
   ]
  },
  {
   "cell_type": "code",
   "execution_count": null,
   "id": "294f82d9-c011-4b5e-99f5-8df0ab0033c8",
   "metadata": {},
   "outputs": [],
   "source": [
    "class Solution(object):\n",
    "    def reverseOnlyLetters(self, s):\n",
    "        \"\"\"\n",
    "        :type s: str\n",
    "        :rtype: str\n",
    "        \"\"\"\n",
    "        \n",
    "        s = list(s)\n",
    "        n = len(s)\n",
    "        i, j = 0, n - 1\n",
    "        while i < j:\n",
    "            if s[i].isalpha() and s[j].isalpha():\n",
    "                s[i], s[j] = s[j], s[i]\n",
    "                i += 1\n",
    "                j -= 1\n",
    "            elif (not s[i].isalpha()) and (not s[j].isalpha()):\n",
    "                i += 1\n",
    "                j -= 1\n",
    "            elif not s[i].isalpha():\n",
    "                i += 1\n",
    "            else:\n",
    "                j -= 1\n",
    "        \n",
    "        s = \"\".join(s)\n",
    "        \n",
    "        return s"
   ]
  },
  {
   "cell_type": "markdown",
   "id": "ddf93bd1-213a-4934-9b0e-f1314c7ed168",
   "metadata": {},
   "source": [
    "<a href=\"#contents\">Back to top</a>"
   ]
  },
  {
   "cell_type": "markdown",
   "id": "04c51a04-5877-430f-a2f5-baddea905c70",
   "metadata": {
    "editable": true,
    "slideshow": {
     "slide_type": ""
    },
    "tags": []
   },
   "source": [
    "<a id=\"918\"></a>\n",
    "<div style=\"background-color:#F6C249; padding: 8px; border-radius: 5px; font-size: 20px;\">\n",
    "<b style=\"color: white;\">918. Maximum Sum Circular Subarray</b>\n",
    "</div>"
   ]
  },
  {
   "cell_type": "markdown",
   "id": "00de5306-9b82-4bef-9a7e-34107047cf59",
   "metadata": {},
   "source": [
    "[https://leetcode.com/problems/maximum-sum-circular-subarray/](https://leetcode.com/problems/maximum-sum-circular-subarray/)"
   ]
  },
  {
   "cell_type": "code",
   "execution_count": null,
   "id": "8405e592-5cca-470b-8704-4f15f9037e11",
   "metadata": {},
   "outputs": [],
   "source": [
    "class Solution(object):\n",
    "    def maxSubarraySumCircular(self, nums):\n",
    "        \"\"\"\n",
    "        :type nums: List[int]\n",
    "        :rtype: int\n",
    "        \"\"\"\n",
    "        \n",
    "        total_sum = 0\n",
    "        max_sum, min_sum = nums[0], nums[0]\n",
    "        max_curr, min_curr = 0, 0\n",
    "        for num in nums:\n",
    "            total_sum += num\n",
    "            \n",
    "            max_curr = max(max_curr, 0) + num\n",
    "            max_sum = max(max_sum, max_curr)\n",
    "            \n",
    "            min_curr = min(min_curr, 0) + num\n",
    "            min_sum = min(min_sum, min_curr)\n",
    "        \n",
    "        answer = max_sum\n",
    "        if min_sum != total_sum:\n",
    "            answer = max(answer, total_sum - min_sum)\n",
    "        \n",
    "        return answer"
   ]
  },
  {
   "cell_type": "markdown",
   "id": "fd98973a-bc57-444c-a9c9-7d05e852495d",
   "metadata": {},
   "source": [
    "<a href=\"#contents\">Back to top</a>"
   ]
  },
  {
   "cell_type": "markdown",
   "id": "677a08da-a2a3-48bf-8d15-b99a673d3eec",
   "metadata": {
    "editable": true,
    "slideshow": {
     "slide_type": ""
    },
    "tags": []
   },
   "source": [
    "<a id=\"925\"></a>\n",
    "<div style=\"background-color:#52B6A3; padding: 8px; border-radius: 5px; font-size: 20px;\">\n",
    "<b style=\"color: white;\">925. Long Pressed Name</b>\n",
    "</div>"
   ]
  },
  {
   "cell_type": "markdown",
   "id": "21edeaf3-ca8e-4cc3-9e8a-78f3be595822",
   "metadata": {},
   "source": [
    "[https://leetcode.com/problems/long-pressed-name/](https://leetcode.com/problems/long-pressed-name/)"
   ]
  },
  {
   "cell_type": "code",
   "execution_count": null,
   "id": "2ce6ff1b-006c-4598-85ca-41320161e153",
   "metadata": {},
   "outputs": [],
   "source": [
    "class Solution(object):\n",
    "    def isLongPressedName(self, name, typed):\n",
    "        \"\"\"\n",
    "        :type name: str\n",
    "        :type typed: str\n",
    "        :rtype: bool\n",
    "        \"\"\"\n",
    "        \n",
    "        m, n = len(name), len(typed)\n",
    "        i, j = 0, 0\n",
    "        while (i < m) and (j < n):\n",
    "            if name[i] == typed[j]:\n",
    "                i += 1\n",
    "                j += 1\n",
    "            elif j > 0:\n",
    "                if typed[j] == typed[j - 1]:\n",
    "                    j += 1\n",
    "                else:\n",
    "                    return False\n",
    "            else:\n",
    "                return False\n",
    "        \n",
    "        if (i < m) and (j == n):\n",
    "            return False\n",
    "        elif (i == m) and (j < n):\n",
    "            return all(typed[k] == typed[j - 1] for k in range(j, n))\n",
    "        else:\n",
    "            return True"
   ]
  },
  {
   "cell_type": "markdown",
   "id": "b5f98e75-21a8-4984-80ef-9caf994e26f8",
   "metadata": {},
   "source": [
    "<a href=\"#contents\">Back to top</a>"
   ]
  },
  {
   "cell_type": "markdown",
   "id": "4aa2addd-b08f-4ab7-b67f-046e5c18e153",
   "metadata": {
    "editable": true,
    "slideshow": {
     "slide_type": ""
    },
    "tags": []
   },
   "source": [
    "<a id=\"1030\"></a>\n",
    "<div style=\"background-color:#52B6A3; padding: 8px; border-radius: 5px; font-size: 20px;\">\n",
    "<b style=\"color: white;\">1030. Matrix Cells in Distance Order</b>\n",
    "</div>"
   ]
  },
  {
   "cell_type": "markdown",
   "id": "de58b493-510f-4925-837e-bc1d4a5584eb",
   "metadata": {},
   "source": [
    "[https://leetcode.com/problems/matrix-cells-in-distance-order/](https://leetcode.com/problems/matrix-cells-in-distance-order/)"
   ]
  },
  {
   "cell_type": "code",
   "execution_count": null,
   "id": "dbb2ce91-8369-4146-8c90-153afa30258e",
   "metadata": {},
   "outputs": [],
   "source": [
    "class Solution(object):\n",
    "    def allCellsDistOrder(self, rows, cols, rCenter, cCenter):\n",
    "        \"\"\"\n",
    "        :type rows: int\n",
    "        :type cols: int\n",
    "        :type rCenter: int\n",
    "        :type cCenter: int\n",
    "        :rtype: List[List[int]]\n",
    "        \"\"\"\n",
    "        \n",
    "        distances = [[] for _ in range(rows + cols - 1)]\n",
    "        for i, j in product(range(rows), range(cols)):\n",
    "            d = abs(i - rCenter) + abs(j - cCenter)\n",
    "            distances[d].append([i, j])\n",
    "        \n",
    "        output = [pair for array in distances for pair in array]\n",
    "        \n",
    "        return output"
   ]
  },
  {
   "cell_type": "markdown",
   "id": "92e525ee-9fdf-4ec0-8db6-a424979e47be",
   "metadata": {},
   "source": [
    "<a href=\"#contents\">Back to top</a>"
   ]
  },
  {
   "cell_type": "markdown",
   "id": "60aaead3-70aa-4513-85a4-847ede59481b",
   "metadata": {
    "editable": true,
    "slideshow": {
     "slide_type": ""
    },
    "tags": []
   },
   "source": [
    "<a id=\"1046\"></a>\n",
    "<div style=\"background-color:#52B6A3; padding: 8px; border-radius: 5px; font-size: 20px;\">\n",
    "<b style=\"color: white;\">1046. Last Stone Weight</b>\n",
    "</div>"
   ]
  },
  {
   "cell_type": "markdown",
   "id": "6b6533c4-51a4-461b-8ba3-5c793a360ff3",
   "metadata": {},
   "source": [
    "[https://leetcode.com/problems/last-stone-weight/](https://leetcode.com/problems/last-stone-weight/)"
   ]
  },
  {
   "cell_type": "code",
   "execution_count": null,
   "id": "514eba85-b61d-46e7-bc1e-b7865d387514",
   "metadata": {},
   "outputs": [],
   "source": [
    "class Solution(object):\n",
    "    def lastStoneWeight(self, stones):\n",
    "        \"\"\"\n",
    "        :type stones: List[int]\n",
    "        :rtype: int\n",
    "        \"\"\"\n",
    "        \n",
    "        heap = [-stone for stone in stones]\n",
    "        heapq.heapify(heap)\n",
    "        while len(heap) > 1:\n",
    "            y = heapq.heappop(heap)\n",
    "            x = heapq.heappop(heap)\n",
    "            if x != y:\n",
    "                heapq.heappush(heap, y - x)\n",
    "        \n",
    "        output = -heapq.heappop(heap) if (len(heap) == 1) else 0\n",
    "        \n",
    "        return output"
   ]
  },
  {
   "cell_type": "markdown",
   "id": "4b8e23e4-6fa7-4ab6-829e-6a56aa3e40f0",
   "metadata": {},
   "source": [
    "<a href=\"#contents\">Back to top</a>"
   ]
  },
  {
   "cell_type": "markdown",
   "id": "e08836e9-5608-41f1-b5fe-873bb6e93249",
   "metadata": {
    "editable": true,
    "slideshow": {
     "slide_type": ""
    },
    "tags": []
   },
   "source": [
    "<a id=\"1061\"></a>\n",
    "<div style=\"background-color:#F6C249; padding: 8px; border-radius: 5px; font-size: 20px;\">\n",
    "<b style=\"color: white;\">1061. Lexicographically Smallest Equivalent String</b>\n",
    "</div>"
   ]
  },
  {
   "cell_type": "markdown",
   "id": "73c36f25-c6b1-4753-8c98-874930641db2",
   "metadata": {},
   "source": [
    "[https://leetcode.com/problems/lexicographically-smallest-equivalent-string/](https://leetcode.com/problems/lexicographically-smallest-equivalent-string/)"
   ]
  },
  {
   "cell_type": "code",
   "execution_count": null,
   "id": "02963b47-187b-44f0-9f43-c1dc46d538eb",
   "metadata": {},
   "outputs": [],
   "source": [
    "class Solution(object):\n",
    "    def smallestEquivalentString(self, s1, s2, baseStr):\n",
    "        \"\"\"\n",
    "        :type s1: str\n",
    "        :type s2: str\n",
    "        :type baseStr: str\n",
    "        :rtype: str\n",
    "        \"\"\"\n",
    "        \n",
    "        dsu = DSU()\n",
    "        \n",
    "        for char in string.ascii_lowercase:\n",
    "            dsu.make(char)\n",
    "        \n",
    "        for char1, char2 in zip(s1, s2):\n",
    "            dsu.union(char1, char2)\n",
    "        \n",
    "        minStr = \"\".join(dsu.find(char) for char in baseStr)\n",
    "        \n",
    "        return minStr\n",
    "\n",
    "\n",
    "class DSU(object):\n",
    "    def __init__(self):\n",
    "        self.parent = {}\n",
    "    \n",
    "    def make(self, x):\n",
    "        self.parent[x] = x\n",
    "    \n",
    "    def find(self, x):\n",
    "        while x != self.parent[x]:\n",
    "            x, self.parent[x] = self.parent[x], self.parent[self.parent[x]]\n",
    "        return self.parent[x]\n",
    "    \n",
    "    def union(self, x, y):\n",
    "        x, y = self.find(x), self.find(y)\n",
    "        if x < y:\n",
    "            self.parent[y] = x\n",
    "        elif x > y:\n",
    "            self.parent[x] = y"
   ]
  },
  {
   "cell_type": "markdown",
   "id": "770f4e3a-04bb-4b5f-8eeb-4ce383714c26",
   "metadata": {},
   "source": [
    "<a href=\"#contents\">Back to top</a>"
   ]
  },
  {
   "cell_type": "markdown",
   "id": "d5717bf7-ebe1-4066-9fdf-d9bc5b4dfb4e",
   "metadata": {
    "editable": true,
    "slideshow": {
     "slide_type": ""
    },
    "tags": []
   },
   "source": [
    "<a id=\"1081\"></a>\n",
    "<div style=\"background-color:#F6C249; padding: 8px; border-radius: 5px; font-size: 20px;\">\n",
    "<b style=\"color: white;\">1081. Smallest Subsequence of Distinct Characters</b>\n",
    "</div>"
   ]
  },
  {
   "cell_type": "markdown",
   "id": "55fcfd25-e68b-46aa-acc9-7149abbdfc93",
   "metadata": {},
   "source": [
    "[https://leetcode.com/problems/smallest-subsequence-of-distinct-characters/](https://leetcode.com/problems/smallest-subsequence-of-distinct-characters/)"
   ]
  },
  {
   "cell_type": "code",
   "execution_count": null,
   "id": "c2283be8-c61f-47fc-847e-509bc025309f",
   "metadata": {},
   "outputs": [],
   "source": [
    "class Solution(object):\n",
    "    def smallestSubsequence(self, s):\n",
    "        \"\"\"\n",
    "        :type s: str\n",
    "        :rtype: str\n",
    "        \"\"\"\n",
    "        \n",
    "        last_occurrence = {x: i for i, x in enumerate(s)}\n",
    "        \n",
    "        stack = []\n",
    "        in_stack = set()\n",
    "        for i, x in enumerate(s):\n",
    "            if x not in in_stack:\n",
    "                while stack and (x < stack[-1]) and (last_occurrence[stack[-1]] > i):\n",
    "                    in_stack.remove(stack.pop())\n",
    "                stack.append(x)\n",
    "                in_stack.add(x)\n",
    "        \n",
    "        t = \"\".join(stack)\n",
    "        \n",
    "        return t"
   ]
  },
  {
   "cell_type": "markdown",
   "id": "e655834b-ab7a-4ace-8aba-e076a404d72a",
   "metadata": {},
   "source": [
    "<a href=\"#contents\">Back to top</a>"
   ]
  },
  {
   "cell_type": "markdown",
   "id": "d95e8570-c543-42ee-a047-58569e625b80",
   "metadata": {
    "editable": true,
    "slideshow": {
     "slide_type": ""
    },
    "tags": []
   },
   "source": [
    "<a id=\"1089\"></a>\n",
    "<div style=\"background-color:#52B6A3; padding: 8px; border-radius: 5px; font-size: 20px;\">\n",
    "<b style=\"color: white;\">1089. Duplicate Zeros</b>\n",
    "</div>"
   ]
  },
  {
   "cell_type": "markdown",
   "id": "7c37d714-bde6-439a-8658-78280f9c97dc",
   "metadata": {},
   "source": [
    "[https://leetcode.com/problems/duplicate-zeros/](https://leetcode.com/problems/duplicate-zeros/)"
   ]
  },
  {
   "cell_type": "code",
   "execution_count": null,
   "id": "9cb4cf09-8556-4e97-bb16-8b3d6af5987c",
   "metadata": {},
   "outputs": [],
   "source": [
    "class Solution(object):\n",
    "    def duplicateZeros(self, arr):\n",
    "        \"\"\"\n",
    "        :type arr: List[int]\n",
    "        :rtype: None Do not return anything, modify arr in-place instead.\n",
    "        \"\"\"\n",
    "        \n",
    "        n = len(arr)\n",
    "        for i in range(n - 2, -1, -1):\n",
    "            if arr[i] == 0:\n",
    "                arr.pop()\n",
    "                arr.insert(i, 0)"
   ]
  },
  {
   "cell_type": "markdown",
   "id": "bee0c6bf-710c-47c3-b656-ce21a4d9579c",
   "metadata": {},
   "source": [
    "<a href=\"#contents\">Back to top</a>"
   ]
  },
  {
   "cell_type": "markdown",
   "id": "5ba72c57-6518-491f-845b-f7e49fb3f91f",
   "metadata": {
    "editable": true,
    "slideshow": {
     "slide_type": ""
    },
    "tags": []
   },
   "source": [
    "<a id=\"1103\"></a>\n",
    "<div style=\"background-color:#52B6A3; padding: 8px; border-radius: 5px; font-size: 20px;\">\n",
    "<b style=\"color: white;\">1103. Distribute Candies to People</b>\n",
    "</div>"
   ]
  },
  {
   "cell_type": "markdown",
   "id": "4c2312a4-5683-4f34-bc69-034af42b9463",
   "metadata": {},
   "source": [
    "[https://leetcode.com/problems/distribute-candies-to-people/](https://leetcode.com/problems/distribute-candies-to-people/)"
   ]
  },
  {
   "cell_type": "code",
   "execution_count": null,
   "id": "2ad9596a-a3fa-4865-a0d5-dc49f3ae0be5",
   "metadata": {},
   "outputs": [],
   "source": [
    "class Solution(object):\n",
    "    def distributeCandies(self, candies, num_people):\n",
    "        \"\"\"\n",
    "        :type candies: int\n",
    "        :type num_people: int\n",
    "        :rtype: List[int]\n",
    "        \"\"\"\n",
    "        \n",
    "        output = num_people * [0]\n",
    "        i, portion = 0, 1\n",
    "        while candies:\n",
    "            if candies <= portion:\n",
    "                output[i] += candies\n",
    "                candies = 0\n",
    "                break\n",
    "            \n",
    "            output[i] += portion\n",
    "            candies -= portion\n",
    "            portion += 1\n",
    "            i += 1\n",
    "            if i == num_people:\n",
    "                i = 0\n",
    "        \n",
    "        return output"
   ]
  },
  {
   "cell_type": "markdown",
   "id": "1a3fa877-a30d-493d-974d-5a700cb0b029",
   "metadata": {},
   "source": [
    "<a href=\"#contents\">Back to top</a>"
   ]
  },
  {
   "cell_type": "markdown",
   "id": "743d37ce-f0a7-4a69-a4a2-f5494ea676df",
   "metadata": {
    "editable": true,
    "slideshow": {
     "slide_type": ""
    },
    "tags": []
   },
   "source": [
    "<a id=\"1160\"></a>\n",
    "<div style=\"background-color:#52B6A3; padding: 8px; border-radius: 5px; font-size: 20px;\">\n",
    "<b style=\"color: white;\">1160. Find Words That Can Be Formed by Characters</b>\n",
    "</div>"
   ]
  },
  {
   "cell_type": "markdown",
   "id": "a81e4430-8b4a-48f8-955e-4dc00b8af08b",
   "metadata": {},
   "source": [
    "[https://leetcode.com/problems/find-words-that-can-be-formed-by-characters/](https://leetcode.com/problems/find-words-that-can-be-formed-by-characters/)"
   ]
  },
  {
   "cell_type": "code",
   "execution_count": null,
   "id": "7c98bb8a-d748-4dbd-ac70-97c0f7eaec91",
   "metadata": {},
   "outputs": [],
   "source": [
    "class Solution(object):\n",
    "    def countCharacters(self, words, chars):\n",
    "        \"\"\"\n",
    "        :type words: List[str]\n",
    "        :type chars: str\n",
    "        :rtype: int\n",
    "        \"\"\"\n",
    "        \n",
    "        counter0 = defaultdict(int)\n",
    "        for s in chars:\n",
    "            counter0[s] += 1\n",
    "        \n",
    "        output = 0\n",
    "        for word in words:\n",
    "            counter = defaultdict(int)\n",
    "            for s in word:\n",
    "                counter[s] += 1\n",
    "            \n",
    "            for s in counter:\n",
    "                if counter[s] > counter0[s]:\n",
    "                    break\n",
    "            else:\n",
    "                output += len(word)\n",
    "        \n",
    "        return output"
   ]
  },
  {
   "cell_type": "markdown",
   "id": "5a06b542-524f-4c27-a1cb-53000dd71aab",
   "metadata": {},
   "source": [
    "<a href=\"#contents\">Back to top</a>"
   ]
  },
  {
   "cell_type": "markdown",
   "id": "8cbc5341-1282-4a7b-8981-6e614e521753",
   "metadata": {
    "editable": true,
    "slideshow": {
     "slide_type": ""
    },
    "tags": []
   },
   "source": [
    "<a id=\"1200\"></a>\n",
    "<div style=\"background-color:#52B6A3; padding: 8px; border-radius: 5px; font-size: 20px;\">\n",
    "<b style=\"color: white;\">1200. Minimum Absolute Difference</b>\n",
    "</div>"
   ]
  },
  {
   "cell_type": "markdown",
   "id": "669b6015-43d1-4eef-afbd-8ebf37c0534d",
   "metadata": {},
   "source": [
    "[https://leetcode.com/problems/minimum-absolute-difference/](https://leetcode.com/problems/minimum-absolute-difference/)"
   ]
  },
  {
   "cell_type": "code",
   "execution_count": null,
   "id": "ef0ffcc9-d297-4796-9203-313b9fb65ee0",
   "metadata": {},
   "outputs": [],
   "source": [
    "class Solution(object):\n",
    "    def minimumAbsDifference(self, arr):\n",
    "        \"\"\"\n",
    "        :type arr: List[int]\n",
    "        :rtype: List[List[int]]\n",
    "        \"\"\"\n",
    "        \n",
    "        arr.sort()\n",
    "        n = len(arr)\n",
    "        pairs = []\n",
    "        min_abs_diff = arr[1] - arr[0]\n",
    "        for i in range(n - 1):\n",
    "            diff = arr[i + 1] - arr[i]\n",
    "            if diff < min_abs_diff:\n",
    "                min_abs_diff = diff\n",
    "                pairs = [[arr[i], arr[i + 1]]]\n",
    "            elif diff == min_abs_diff:\n",
    "                pairs.append([arr[i], arr[i + 1]])\n",
    "        \n",
    "        return pairs"
   ]
  },
  {
   "cell_type": "markdown",
   "id": "0f77326f-4f2d-489a-8e02-94df7e271ba2",
   "metadata": {},
   "source": [
    "<a href=\"#contents\">Back to top</a>"
   ]
  },
  {
   "cell_type": "markdown",
   "id": "00ffd6cf-f6d1-4136-9fae-6879cd6a734d",
   "metadata": {
    "editable": true,
    "slideshow": {
     "slide_type": ""
    },
    "tags": []
   },
   "source": [
    "<a id=\"1252\"></a>\n",
    "<div style=\"background-color:#52B6A3; padding: 8px; border-radius: 5px; font-size: 20px;\">\n",
    "<b style=\"color: white;\">1252. Cells with Odd Values in a Matrix</b>\n",
    "</div>"
   ]
  },
  {
   "cell_type": "markdown",
   "id": "46307dae-254e-4825-b703-8db1490023f7",
   "metadata": {},
   "source": [
    "[https://leetcode.com/problems/cells-with-odd-values-in-a-matrix/](https://leetcode.com/problems/cells-with-odd-values-in-a-matrix/)"
   ]
  },
  {
   "cell_type": "code",
   "execution_count": null,
   "id": "4bc73ea4-9f26-4a86-ab84-f534f2f05dfe",
   "metadata": {},
   "outputs": [],
   "source": [
    "class Solution(object):\n",
    "    def oddCells(self, m, n, indices):\n",
    "        \"\"\"\n",
    "        :type m: int\n",
    "        :type n: int\n",
    "        :type indices: List[List[int]]\n",
    "        :rtype: int\n",
    "        \"\"\"\n",
    "        \n",
    "        dr, dc = defaultdict(int), defaultdict(int)\n",
    "        for i, j in indices:\n",
    "            dr[i] += 1\n",
    "            dc[j] += 1\n",
    "        \n",
    "        n_odd_nums = 0\n",
    "        for i in range(m):\n",
    "            for j in range(n):\n",
    "                if (dr[i] + dc[j]) % 2 == 1:\n",
    "                    n_odd_nums += 1\n",
    "        \n",
    "        return n_odd_nums"
   ]
  },
  {
   "cell_type": "markdown",
   "id": "b1d87e9b-3ad2-4381-ba04-a0f4d82aef9f",
   "metadata": {},
   "source": [
    "<a href=\"#contents\">Back to top</a>"
   ]
  },
  {
   "cell_type": "markdown",
   "id": "0e9eae03-4c53-44b3-b70e-ea43b01191f2",
   "metadata": {
    "editable": true,
    "slideshow": {
     "slide_type": ""
    },
    "tags": []
   },
   "source": [
    "<a id=\"1298\"></a>\n",
    "<div style=\"background-color:#EB4B62; padding: 8px; border-radius: 5px; font-size: 20px;\">\n",
    "<b style=\"color: white;\">1298. Maximum Candies You Can Get from Boxes</b>\n",
    "</div>"
   ]
  },
  {
   "cell_type": "markdown",
   "id": "5c9e3086-e1da-4697-ac62-c65f781b2406",
   "metadata": {},
   "source": [
    "[https://leetcode.com/problems/maximum-candies-you-can-get-from-boxes/](https://leetcode.com/problems/maximum-candies-you-can-get-from-boxes/)"
   ]
  },
  {
   "cell_type": "code",
   "execution_count": null,
   "id": "efa62510-71ff-4c36-84db-ddd2ee20fdcc",
   "metadata": {},
   "outputs": [],
   "source": [
    "class Solution(object):\n",
    "    def maxCandies(self, status, candies, keys, containedBoxes, initialBoxes):\n",
    "        \"\"\"\n",
    "        :type status: List[int]\n",
    "        :type candies: List[int]\n",
    "        :type keys: List[List[int]]\n",
    "        :type containedBoxes: List[List[int]]\n",
    "        :type initialBoxes: List[int]\n",
    "        :rtype: int\n",
    "        \"\"\"\n",
    "        \n",
    "        open_boxes, closed_boxes = set(), set()\n",
    "        for i in initialBoxes:\n",
    "            if status[i] == 1:\n",
    "                open_boxes.add(i)\n",
    "            else:\n",
    "                closed_boxes.add(i)\n",
    "        \n",
    "        n_candies = 0\n",
    "        while open_boxes:\n",
    "            i = open_boxes.pop()\n",
    "            n_candies += candies[i]\n",
    "            candies[i] = 0\n",
    "            \n",
    "            for j in keys[i]:\n",
    "                if candies[j] > 0:\n",
    "                    status[j] = 1\n",
    "                    if j in closed_boxes:\n",
    "                        closed_boxes.remove(j)\n",
    "                        open_boxes.add(j)\n",
    "            \n",
    "            for j in containedBoxes[i]:\n",
    "                if candies[j] > 0:\n",
    "                    if status[j] == 1:\n",
    "                        open_boxes.add(j)\n",
    "                    else:\n",
    "                        closed_boxes.add(j)\n",
    "        \n",
    "        return n_candies"
   ]
  },
  {
   "cell_type": "markdown",
   "id": "6b6c7f2f-ec8d-45ac-bcbc-982c9e6b3e3e",
   "metadata": {},
   "source": [
    "<a href=\"#contents\">Back to top</a>"
   ]
  },
  {
   "cell_type": "markdown",
   "id": "b1dd6931-a596-4583-9b5c-c8c36dbc04dd",
   "metadata": {
    "editable": true,
    "slideshow": {
     "slide_type": ""
    },
    "tags": []
   },
   "source": [
    "<a id=\"1346\"></a>\n",
    "<div style=\"background-color:#52B6A3; padding: 8px; border-radius: 5px; font-size: 20px;\">\n",
    "<b style=\"color: white;\">1346. Check If N and Its Double Exist</b>\n",
    "</div>"
   ]
  },
  {
   "cell_type": "markdown",
   "id": "a246c21c-516a-42de-be48-07d78799062f",
   "metadata": {},
   "source": [
    "[https://leetcode.com/problems/check-if-n-and-its-double-exist/](https://leetcode.com/problems/check-if-n-and-its-double-exist/)"
   ]
  },
  {
   "cell_type": "code",
   "execution_count": null,
   "id": "09c1af56-2938-4412-8741-f49362862361",
   "metadata": {},
   "outputs": [],
   "source": [
    "class Solution(object):\n",
    "    def checkIfExist(self, arr):\n",
    "        \"\"\"\n",
    "        :type arr: List[int]\n",
    "        :rtype: bool\n",
    "        \"\"\"\n",
    "        \n",
    "        seen = set()\n",
    "        for x in arr:\n",
    "            if (2 * x in seen) or ((x % 2 == 0) and (x // 2 in seen)):\n",
    "                return True\n",
    "            seen.add(x)\n",
    "        \n",
    "        return False"
   ]
  },
  {
   "cell_type": "markdown",
   "id": "2e67e4c9-c7bd-4220-8390-7a99141c7d29",
   "metadata": {},
   "source": [
    "<a href=\"#contents\">Back to top</a>"
   ]
  },
  {
   "cell_type": "markdown",
   "id": "6c07b5dd-04e9-4516-8c21-88698f6aedb9",
   "metadata": {
    "editable": true,
    "slideshow": {
     "slide_type": ""
    },
    "tags": []
   },
   "source": [
    "<a id=\"1365\"></a>\n",
    "<div style=\"background-color:#52B6A3; padding: 8px; border-radius: 5px; font-size: 20px;\">\n",
    "<b style=\"color: white;\">1365. How Many Numbers Are Smaller Than the Current Number</b>\n",
    "</div>"
   ]
  },
  {
   "cell_type": "markdown",
   "id": "a8da298d-4735-4125-b827-12142ed65d67",
   "metadata": {},
   "source": [
    "[https://leetcode.com/problems/how-many-numbers-are-smaller-than-the-current-number/](https://leetcode.com/problems/how-many-numbers-are-smaller-than-the-current-number/)"
   ]
  },
  {
   "cell_type": "code",
   "execution_count": null,
   "id": "71c666ab-e437-4e48-b93e-a2837e86f801",
   "metadata": {},
   "outputs": [],
   "source": [
    "class Solution(object):\n",
    "    def smallerNumbersThanCurrent(self, nums):\n",
    "        \"\"\"\n",
    "        :type nums: List[int]\n",
    "        :rtype: List[int]\n",
    "        \"\"\"\n",
    "        \n",
    "        d = {}\n",
    "        for i, num in enumerate(sorted(nums)):\n",
    "            if num not in d:\n",
    "                d[num] = i\n",
    "        output = [d[num] for num in nums]\n",
    "        \n",
    "        return output"
   ]
  },
  {
   "cell_type": "markdown",
   "id": "c3084e24-b484-4baa-a874-1b64b89b6938",
   "metadata": {},
   "source": [
    "<a href=\"#contents\">Back to top</a>"
   ]
  },
  {
   "cell_type": "markdown",
   "id": "a35d621c-6344-4a48-b4ed-817e5d7080d6",
   "metadata": {
    "editable": true,
    "slideshow": {
     "slide_type": ""
    },
    "tags": []
   },
   "source": [
    "<a id=\"1422\"></a>\n",
    "<div style=\"background-color:#52B6A3; padding: 8px; border-radius: 5px; font-size: 20px;\">\n",
    "<b style=\"color: white;\">1422. Maximum Score After Splitting a String</b>\n",
    "</div>"
   ]
  },
  {
   "cell_type": "markdown",
   "id": "e93af2b6-ae12-40c2-a1c0-b6b5ee113732",
   "metadata": {},
   "source": [
    "[https://leetcode.com/problems/maximum-score-after-splitting-a-string/](https://leetcode.com/problems/maximum-score-after-splitting-a-string/)"
   ]
  },
  {
   "cell_type": "code",
   "execution_count": null,
   "id": "f1463ca3-c54e-42d4-8e68-a289885edaae",
   "metadata": {},
   "outputs": [],
   "source": [
    "class Solution(object):\n",
    "    def maxScore(self, s):\n",
    "        \"\"\"\n",
    "        :type s: str\n",
    "        :rtype: int\n",
    "        \"\"\"\n",
    "        \n",
    "        score, ones = 0, 0\n",
    "        max_score = -1\n",
    "        for i in range(len(s) - 1):\n",
    "            if s[i] == \"0\":\n",
    "                score += 1\n",
    "            else:\n",
    "                score -= 1\n",
    "                ones += 1\n",
    "            max_score = max(max_score, score)\n",
    "        \n",
    "        ones += 1 * (s[-1] == \"1\")\n",
    "        max_score += ones\n",
    "        \n",
    "        return max_score"
   ]
  },
  {
   "cell_type": "markdown",
   "id": "ac762b74-6d18-4b8a-a0f8-87773e3a6cbb",
   "metadata": {},
   "source": [
    "<a href=\"#contents\">Back to top</a>"
   ]
  },
  {
   "cell_type": "markdown",
   "id": "b0cae8f6-8a72-4def-b779-f24523208fdb",
   "metadata": {
    "editable": true,
    "slideshow": {
     "slide_type": ""
    },
    "tags": []
   },
   "source": [
    "<a id=\"1432\"></a>\n",
    "<div style=\"background-color:#F6C249; padding: 8px; border-radius: 5px; font-size: 20px;\">\n",
    "<b style=\"color: white;\">1432. Max Difference You Can Get From Changing an Integer</b>\n",
    "</div>"
   ]
  },
  {
   "cell_type": "markdown",
   "id": "684cbc35-7d0e-44bb-8017-8447540ca221",
   "metadata": {},
   "source": [
    "[https://leetcode.com/problems/max-difference-you-can-get-from-changing-an-integer/](https://leetcode.com/problems/max-difference-you-can-get-from-changing-an-integer/)"
   ]
  },
  {
   "cell_type": "code",
   "execution_count": null,
   "id": "196c68db-8098-4c13-a1d3-2b2def4bd056",
   "metadata": {},
   "outputs": [],
   "source": [
    "class Solution(object):\n",
    "    def maxDiff(self, num):\n",
    "        \"\"\"\n",
    "        :type num: int\n",
    "        :rtype: int\n",
    "        \"\"\"\n",
    "        \n",
    "        s = str(num)\n",
    "        answer = 0\n",
    "        d_max, d_min, val_min = None, None, 0\n",
    "        for i, d in enumerate(s):\n",
    "            if (d_max is None) and (d != \"9\"):\n",
    "                d_max = d\n",
    "            if (d_min is None) and (d not in {\"0\", \"1\"}):\n",
    "                d_min = d\n",
    "                val_min = 1 if (i == 0) else 0\n",
    "            \n",
    "            x = 9 if (d == d_max) else int(d)\n",
    "            y = val_min if (d == d_min) else int(d)\n",
    "            answer = 10 * answer + (x - y)\n",
    "        \n",
    "        return answer"
   ]
  },
  {
   "cell_type": "markdown",
   "id": "384b59c4-5779-49fd-8bf7-035330b6ad16",
   "metadata": {},
   "source": [
    "<a href=\"#contents\">Back to top</a>"
   ]
  },
  {
   "cell_type": "markdown",
   "id": "a44b8726-89bb-41d0-a7ec-16f062ce9718",
   "metadata": {
    "editable": true,
    "slideshow": {
     "slide_type": ""
    },
    "tags": []
   },
   "source": [
    "<a id=\"1455\"></a>\n",
    "<div style=\"background-color:#52B6A3; padding: 8px; border-radius: 5px; font-size: 20px;\">\n",
    "<b style=\"color: white;\">1455. Check If a Word Occurs As a Prefix of Any Word in a Sentence</b>\n",
    "</div>"
   ]
  },
  {
   "cell_type": "markdown",
   "id": "eae488c7-7d0e-4a1a-907b-f603e3fc4da1",
   "metadata": {},
   "source": [
    "[https://leetcode.com/problems/check-if-a-word-occurs-as-a-prefix-of-any-word-in-a-sentence/](https://leetcode.com/problems/check-if-a-word-occurs-as-a-prefix-of-any-word-in-a-sentence/)"
   ]
  },
  {
   "cell_type": "code",
   "execution_count": null,
   "id": "03fa2891-4347-47c1-a887-da974b16eaf8",
   "metadata": {},
   "outputs": [],
   "source": [
    "class Solution(object):\n",
    "    def isPrefixOfWord(self, sentence, searchWord):\n",
    "        \"\"\"\n",
    "        :type sentence: str\n",
    "        :type searchWord: str\n",
    "        :rtype: int\n",
    "        \"\"\"\n",
    "        \n",
    "        for i, s in enumerate(sentence.split(), 1):\n",
    "            if s.startswith(searchWord):\n",
    "                return i\n",
    "        else:\n",
    "            return -1"
   ]
  },
  {
   "cell_type": "markdown",
   "id": "0113b984-610d-4fa3-b912-d372f8d5557e",
   "metadata": {},
   "source": [
    "<a href=\"#contents\">Back to top</a>"
   ]
  },
  {
   "cell_type": "markdown",
   "id": "6bb8fe43-6f77-4781-8c52-68cb909508d9",
   "metadata": {
    "editable": true,
    "slideshow": {
     "slide_type": ""
    },
    "tags": []
   },
   "source": [
    "<a id=\"1464\"></a>\n",
    "<div style=\"background-color:#52B6A3; padding: 8px; border-radius: 5px; font-size: 20px;\">\n",
    "<b style=\"color: white;\">1464. Maximum Product of Two Elements in an Array</b>\n",
    "</div>"
   ]
  },
  {
   "cell_type": "markdown",
   "id": "7cd4b680-10f2-45c7-bb15-90da2b906f17",
   "metadata": {},
   "source": [
    "[https://leetcode.com/problems/maximum-product-of-two-elements-in-an-array/](https://leetcode.com/problems/maximum-product-of-two-elements-in-an-array/)"
   ]
  },
  {
   "cell_type": "code",
   "execution_count": null,
   "id": "5c91b885-a2a0-48e3-818c-446ddae48542",
   "metadata": {},
   "outputs": [],
   "source": [
    "class Solution(object):\n",
    "    def maxProduct(self, nums):\n",
    "        \"\"\"\n",
    "        :type nums: List[int]\n",
    "        :rtype: int\n",
    "        \"\"\"\n",
    "        \n",
    "        first_max, second_max = None, None\n",
    "        for num in nums:\n",
    "            if first_max is None:\n",
    "                first_max = num\n",
    "            elif first_max < num:\n",
    "                second_max, first_max = first_max, num\n",
    "            elif (second_max is None) or (second_max < num):\n",
    "                second_max = num\n",
    "        \n",
    "        output = (first_max - 1) * (second_max - 1)\n",
    "        \n",
    "        return output"
   ]
  },
  {
   "cell_type": "markdown",
   "id": "2e94ce74-1b1e-4635-bdd0-d17798648060",
   "metadata": {},
   "source": [
    "<a href=\"#contents\">Back to top</a>"
   ]
  },
  {
   "cell_type": "markdown",
   "id": "361d34e7-0fd7-468b-8802-dc8330476410",
   "metadata": {
    "editable": true,
    "slideshow": {
     "slide_type": ""
    },
    "tags": []
   },
   "source": [
    "<a id=\"1498\"></a>\n",
    "<div style=\"background-color:#F6C249; padding: 8px; border-radius: 5px; font-size: 20px;\">\n",
    "<b style=\"color: white;\">1498. Number of Subsequences That Satisfy the Given Sum Condition</b>\n",
    "</div>"
   ]
  },
  {
   "cell_type": "markdown",
   "id": "a1717545-b122-41f6-8408-fc95bb223f1b",
   "metadata": {},
   "source": [
    "[https://leetcode.com/problems/number-of-subsequences-that-satisfy-the-given-sum-condition/](https://leetcode.com/problems/number-of-subsequences-that-satisfy-the-given-sum-condition/)"
   ]
  },
  {
   "cell_type": "code",
   "execution_count": null,
   "id": "4296a5dc-3043-4f05-a9e6-c15fb8ebef48",
   "metadata": {},
   "outputs": [],
   "source": [
    "class Solution(object):\n",
    "    def numSubseq(self, nums, target):\n",
    "        \"\"\"\n",
    "        :type nums: List[int]\n",
    "        :type target: int\n",
    "        :rtype: int\n",
    "        \"\"\"\n",
    "        \n",
    "        MOD = 10**9 + 7\n",
    "        \n",
    "        nums.sort()\n",
    "        \n",
    "        n = len(nums)\n",
    "        i, j = 0, n - 1\n",
    "        count = pow(2, j - i, MOD)\n",
    "        inv = pow(2, MOD - 2, MOD)\n",
    "        answer = 0\n",
    "        while i <= j:\n",
    "            if nums[i] + nums[j] > target:\n",
    "                j -= 1\n",
    "            else:\n",
    "                answer += count\n",
    "                i += 1\n",
    "            count = (count * inv) % MOD\n",
    "        \n",
    "        answer %= MOD\n",
    "        \n",
    "        return answer"
   ]
  },
  {
   "cell_type": "markdown",
   "id": "1bfbef38-72dc-4b0b-903c-4b189549abbc",
   "metadata": {},
   "source": [
    "<a href=\"#contents\">Back to top</a>"
   ]
  },
  {
   "cell_type": "markdown",
   "id": "6b52bbe1-630f-4b9c-9268-a2a15abf1a05",
   "metadata": {
    "editable": true,
    "slideshow": {
     "slide_type": ""
    },
    "tags": []
   },
   "source": [
    "<a id=\"1524\"></a>\n",
    "<div style=\"background-color:#F6C249; padding: 8px; border-radius: 5px; font-size: 20px;\">\n",
    "<b style=\"color: white;\">1524. Number of Sub-arrays With Odd Sum</b>\n",
    "</div>"
   ]
  },
  {
   "cell_type": "markdown",
   "id": "11d7699f-1992-4495-91fd-c7bcd94ebdb8",
   "metadata": {},
   "source": [
    "[https://leetcode.com/problems/number-of-sub-arrays-with-odd-sum/](https://leetcode.com/problems/number-of-sub-arrays-with-odd-sum/)"
   ]
  },
  {
   "cell_type": "code",
   "execution_count": null,
   "id": "008eb62f-ff68-4518-aa22-c778a687d18e",
   "metadata": {},
   "outputs": [],
   "source": [
    "class Solution(object):\n",
    "    def numOfSubarrays(self, arr):\n",
    "        \"\"\"\n",
    "        :type arr: List[int]\n",
    "        :rtype: int\n",
    "        \"\"\"\n",
    "        \n",
    "        n = len(arr)\n",
    "        answer = 0\n",
    "        dp = 0\n",
    "        for i in range(n):\n",
    "            if arr[i] & 1 == 1:\n",
    "                dp = i + 1 - dp\n",
    "            answer += dp\n",
    "        \n",
    "        MOD = 10**9 + 7\n",
    "        answer %= MOD\n",
    "        \n",
    "        return answer"
   ]
  },
  {
   "cell_type": "markdown",
   "id": "8349017c-8bf7-4609-b19e-64a023b537ae",
   "metadata": {},
   "source": [
    "<a href=\"#contents\">Back to top</a>"
   ]
  },
  {
   "cell_type": "markdown",
   "id": "c50563e1-b0d7-4001-9436-94bbd179ac3d",
   "metadata": {
    "editable": true,
    "slideshow": {
     "slide_type": ""
    },
    "tags": []
   },
   "source": [
    "<a id=\"1572\"></a>\n",
    "<div style=\"background-color:#52B6A3; padding: 8px; border-radius: 5px; font-size: 20px;\">\n",
    "<b style=\"color: white;\">1572. Matrix Diagonal Sum</b>\n",
    "</div>"
   ]
  },
  {
   "cell_type": "markdown",
   "id": "7d70423a-8570-430a-bcf7-19656fcdbf1e",
   "metadata": {},
   "source": [
    "[https://leetcode.com/problems/matrix-diagonal-sum/](https://leetcode.com/problems/matrix-diagonal-sum/)"
   ]
  },
  {
   "cell_type": "code",
   "execution_count": null,
   "id": "ee8b0fee-1f92-4e64-8c6d-4f838d29e433",
   "metadata": {},
   "outputs": [],
   "source": [
    "class Solution(object):\n",
    "    def diagonalSum(self, mat):\n",
    "        \"\"\"\n",
    "        :type mat: List[List[int]]\n",
    "        :rtype: int\n",
    "        \"\"\"\n",
    "        \n",
    "        n = len(mat)\n",
    "        output = sum(mat[i][i] + mat[i][n - i - 1] for i in range(n))\n",
    "        if n % 2 == 1:\n",
    "            center = n // 2\n",
    "            output -= mat[center][center]\n",
    "        \n",
    "        return output"
   ]
  },
  {
   "cell_type": "markdown",
   "id": "e4b7561c-7a54-46ff-9e55-111319f0641d",
   "metadata": {},
   "source": [
    "<a href=\"#contents\">Back to top</a>"
   ]
  },
  {
   "cell_type": "markdown",
   "id": "b5661717-1553-45b1-8958-7f7633054063",
   "metadata": {
    "editable": true,
    "slideshow": {
     "slide_type": ""
    },
    "tags": []
   },
   "source": [
    "<a id=\"1749\"></a>\n",
    "<div style=\"background-color:#F6C249; padding: 8px; border-radius: 5px; font-size: 20px;\">\n",
    "<b style=\"color: white;\">1749. Maximum Absolute Sum of Any Subarray</b>\n",
    "</div>"
   ]
  },
  {
   "cell_type": "markdown",
   "id": "20e1120c-d15d-4e41-935c-9732d93cb18b",
   "metadata": {},
   "source": [
    "[https://leetcode.com/problems/maximum-absolute-sum-of-any-subarray/](https://leetcode.com/problems/maximum-absolute-sum-of-any-subarray/)"
   ]
  },
  {
   "cell_type": "code",
   "execution_count": null,
   "id": "2acc183b-54ec-4248-b9e6-85c9701ee6d8",
   "metadata": {},
   "outputs": [],
   "source": [
    "class Solution(object):\n",
    "    def maxAbsoluteSum(self, nums):\n",
    "        \"\"\"\n",
    "        :type nums: List[int]\n",
    "        :rtype: int\n",
    "        \"\"\"\n",
    "        \n",
    "        prefix = 0\n",
    "        min_val, max_val = 0, 0\n",
    "        for num in nums:\n",
    "            prefix += num\n",
    "            if prefix < min_val:\n",
    "                min_val = prefix\n",
    "            elif prefix > max_val:\n",
    "                max_val = prefix\n",
    "        \n",
    "        answer = max_val - min_val\n",
    "        \n",
    "        return answer"
   ]
  },
  {
   "cell_type": "markdown",
   "id": "f2dcad4e-b56b-4585-a803-99bda366c022",
   "metadata": {},
   "source": [
    "<a href=\"#contents\">Back to top</a>"
   ]
  },
  {
   "cell_type": "markdown",
   "id": "10432c7e-2af4-4b55-999f-c15bb1f3459d",
   "metadata": {
    "editable": true,
    "slideshow": {
     "slide_type": ""
    },
    "tags": []
   },
   "source": [
    "<a id=\"1760\"></a>\n",
    "<div style=\"background-color:#F6C249; padding: 8px; border-radius: 5px; font-size: 20px;\">\n",
    "<b style=\"color: white;\">1760. Minimum Limit of Balls in a Bag</b>\n",
    "</div>"
   ]
  },
  {
   "cell_type": "markdown",
   "id": "e6be9a81-998d-4314-8fc0-277d2a58f0f6",
   "metadata": {},
   "source": [
    "[https://leetcode.com/problems/minimum-limit-of-balls-in-a-bag/](https://leetcode.com/problems/minimum-limit-of-balls-in-a-bag/)"
   ]
  },
  {
   "cell_type": "code",
   "execution_count": null,
   "id": "74cdd64e-a68a-4f69-87bf-6d0a7ffd34ff",
   "metadata": {},
   "outputs": [],
   "source": [
    "class Solution(object):\n",
    "    def minimumSize(self, nums, maxOperations):\n",
    "        \"\"\"\n",
    "        :type nums: List[int]\n",
    "        :type maxOperations: int\n",
    "        :rtype: int\n",
    "        \"\"\"\n",
    "        \n",
    "        i, j = 1, max(nums)\n",
    "        while i < j:\n",
    "            maxSize = (i + j) // 2\n",
    "            k = 0\n",
    "            for x in nums:\n",
    "                k += (x - 1) // maxSize\n",
    "                if k > maxOperations:\n",
    "                    i = maxSize + 1\n",
    "                    break\n",
    "            else:\n",
    "                j = maxSize\n",
    "        \n",
    "        return i"
   ]
  },
  {
   "cell_type": "markdown",
   "id": "5ffc0bf2-06bd-4771-9c2e-32a47c087b77",
   "metadata": {},
   "source": [
    "<a href=\"#contents\">Back to top</a>"
   ]
  },
  {
   "cell_type": "markdown",
   "id": "1c1737ca-9966-453c-a205-f59132f3ba4e",
   "metadata": {
    "editable": true,
    "slideshow": {
     "slide_type": ""
    },
    "tags": []
   },
   "source": [
    "<a id=\"1861\"></a>\n",
    "<div style=\"background-color:#F6C249; padding: 8px; border-radius: 5px; font-size: 20px;\">\n",
    "<b style=\"color: white;\">1861. Rotating the Box</b>\n",
    "</div>"
   ]
  },
  {
   "cell_type": "markdown",
   "id": "0c5c721f-3ac5-4826-8ece-4835b5ea0597",
   "metadata": {},
   "source": [
    "[https://leetcode.com/problems/rotating-the-box/](https://leetcode.com/problems/rotating-the-box/)"
   ]
  },
  {
   "cell_type": "code",
   "execution_count": null,
   "id": "813c05c1-ff06-4a3d-ad3a-e261b4197056",
   "metadata": {},
   "outputs": [],
   "source": [
    "class Solution(object):\n",
    "    def rotateTheBox(self, box):\n",
    "        \"\"\"\n",
    "        :type box: List[List[str]]\n",
    "        :rtype: List[List[str]]\n",
    "        \"\"\"\n",
    "        \n",
    "        m, n = len(box), len(box[0])\n",
    "        result = [m * [\".\"] for _ in range(n)]\n",
    "        for i in range(m):\n",
    "            k = n - 1\n",
    "            for j in range(n - 1, -1, -1):\n",
    "                if box[i][j] == \"*\":\n",
    "                    result[j][m - i - 1] = \"*\"\n",
    "                    k = j - 1\n",
    "                elif box[i][j] == \"#\":\n",
    "                    result[k][m - i - 1] = \"#\"\n",
    "                    k -= 1\n",
    "        \n",
    "        return result"
   ]
  },
  {
   "cell_type": "markdown",
   "id": "521ccc71-0a59-4b17-8668-2d1a04278b7c",
   "metadata": {},
   "source": [
    "<a href=\"#contents\">Back to top</a>"
   ]
  },
  {
   "cell_type": "markdown",
   "id": "1b10dc0f-ca3c-4f4c-bbc6-e5df42322cc8",
   "metadata": {
    "editable": true,
    "slideshow": {
     "slide_type": ""
    },
    "tags": []
   },
   "source": [
    "<a id=\"1876\"></a>\n",
    "<div style=\"background-color:#52B6A3; padding: 8px; border-radius: 5px; font-size: 20px;\">\n",
    "<b style=\"color: white;\">1876. Substrings of Size Three with Distinct Characters</b>\n",
    "</div>"
   ]
  },
  {
   "cell_type": "markdown",
   "id": "443c77ed-040b-4575-97d4-a0060998138a",
   "metadata": {},
   "source": [
    "[https://leetcode.com/problems/substrings-of-size-three-with-distinct-characters/](https://leetcode.com/problems/substrings-of-size-three-with-distinct-characters/)"
   ]
  },
  {
   "cell_type": "code",
   "execution_count": null,
   "id": "6028fd09-875a-4f76-84d9-51028df841cd",
   "metadata": {},
   "outputs": [],
   "source": [
    "class Solution(object):\n",
    "    def countGoodSubstrings(self, s):\n",
    "        \"\"\"\n",
    "        :type s: str\n",
    "        :rtype: int\n",
    "        \"\"\"\n",
    "        \n",
    "        output = 0\n",
    "        n, i = len(s), 0\n",
    "        chars = set()\n",
    "        for j in range(n):\n",
    "            while s[j] in chars:\n",
    "                chars.remove(s[i])\n",
    "                i += 1\n",
    "            \n",
    "            chars.add(s[j])\n",
    "            \n",
    "            if j - i == 2:\n",
    "                output += 1\n",
    "                chars.remove(s[i])\n",
    "                i += 1\n",
    "        \n",
    "        return output"
   ]
  },
  {
   "cell_type": "markdown",
   "id": "267e473b-0996-4133-a6f4-14f553f37124",
   "metadata": {},
   "source": [
    "<a href=\"#contents\">Back to top</a>"
   ]
  },
  {
   "cell_type": "markdown",
   "id": "81defc9c-24f5-4811-8f79-0ab0db8e829f",
   "metadata": {
    "editable": true,
    "slideshow": {
     "slide_type": ""
    },
    "tags": []
   },
   "source": [
    "<a id=\"1920\"></a>\n",
    "<div style=\"background-color:#52B6A3; padding: 8px; border-radius: 5px; font-size: 20px;\">\n",
    "<b style=\"color: white;\">1920. Build Array from Permutation</b>\n",
    "</div>"
   ]
  },
  {
   "cell_type": "markdown",
   "id": "a52b8cc7-a774-4b58-9843-994170ebca94",
   "metadata": {},
   "source": [
    "[https://leetcode.com/problems/build-array-from-permutation/](https://leetcode.com/problems/build-array-from-permutation/)"
   ]
  },
  {
   "cell_type": "code",
   "execution_count": null,
   "id": "8b797951-9743-4522-a6b6-d54d350b6e8d",
   "metadata": {},
   "outputs": [],
   "source": [
    "class Solution(object):\n",
    "    def buildArray(self, nums):\n",
    "        \"\"\"\n",
    "        :type nums: List[int]\n",
    "        :rtype: List[int]\n",
    "        \"\"\"\n",
    "        \n",
    "        ans = [nums[num] for num in nums]\n",
    "        \n",
    "        return ans"
   ]
  },
  {
   "cell_type": "markdown",
   "id": "e3b8ce0c-7349-4416-a3df-d8db52e3aecb",
   "metadata": {},
   "source": [
    "<a href=\"#contents\">Back to top</a>"
   ]
  },
  {
   "cell_type": "markdown",
   "id": "73334b00-adf1-4ee8-808c-d02e38dc4ec3",
   "metadata": {
    "editable": true,
    "slideshow": {
     "slide_type": ""
    },
    "tags": []
   },
   "source": [
    "<a id=\"1929\"></a>\n",
    "<div style=\"background-color:#52B6A3; padding: 8px; border-radius: 5px; font-size: 20px;\">\n",
    "<b style=\"color: white;\">1929. Concatenation of Array</b>\n",
    "</div>"
   ]
  },
  {
   "cell_type": "markdown",
   "id": "874265a1-dd86-4b5d-a525-53e069097667",
   "metadata": {},
   "source": [
    "[https://leetcode.com/problems/concatenation-of-array/](https://leetcode.com/problems/concatenation-of-array/)"
   ]
  },
  {
   "cell_type": "code",
   "execution_count": null,
   "id": "27a19776-0375-4ba0-a60a-a48d28fe5eee",
   "metadata": {},
   "outputs": [],
   "source": [
    "class Solution(object):\n",
    "    def getConcatenation(self, nums):\n",
    "        \"\"\"\n",
    "        :type nums: List[int]\n",
    "        :rtype: List[int]\n",
    "        \"\"\"\n",
    "        \n",
    "        return nums + nums"
   ]
  },
  {
   "cell_type": "markdown",
   "id": "6161ee43-129d-4e1c-860d-871ec9b1f9d3",
   "metadata": {},
   "source": [
    "<a href=\"#contents\">Back to top</a>"
   ]
  },
  {
   "cell_type": "markdown",
   "id": "aae397de-0758-45b8-adea-cee35fd94119",
   "metadata": {
    "editable": true,
    "slideshow": {
     "slide_type": ""
    },
    "tags": []
   },
   "source": [
    "<a id=\"1930\"></a>\n",
    "<div style=\"background-color:#F6C249; padding: 8px; border-radius: 5px; font-size: 20px;\">\n",
    "<b style=\"color: white;\">1930. Unique Length-3 Palindromic Subsequences</b>\n",
    "</div>"
   ]
  },
  {
   "cell_type": "markdown",
   "id": "fec73f7d-265e-4eb1-8db8-937651d844b7",
   "metadata": {},
   "source": [
    "[https://leetcode.com/problems/unique-length-3-palindromic-subsequences/](https://leetcode.com/problems/unique-length-3-palindromic-subsequences/)"
   ]
  },
  {
   "cell_type": "code",
   "execution_count": null,
   "id": "edfc053e-2648-46de-a400-c64de9d99813",
   "metadata": {},
   "outputs": [],
   "source": [
    "class Solution(object):\n",
    "    def countPalindromicSubsequence(self, s):\n",
    "        \"\"\"\n",
    "        :type s: str\n",
    "        :rtype: int\n",
    "        \"\"\"\n",
    "        \n",
    "        n = len(s)\n",
    "        first_idx, last_idx = 26 * [-1], 26 * [-1]\n",
    "        for i, char in enumerate(s):\n",
    "            j = ord(char) - ord(\"a\")\n",
    "            if first_idx[j] == -1:\n",
    "                first_idx[j] = i\n",
    "            last_idx[j] = i\n",
    "        \n",
    "        count = sum(len(set(s[i+1:j])) for i, j in zip(first_idx, last_idx) if i != -1)\n",
    "        \n",
    "        return count"
   ]
  },
  {
   "cell_type": "markdown",
   "id": "b1c1579c-1efe-472f-95a2-7cbfd3d77a2a",
   "metadata": {},
   "source": [
    "<a href=\"#contents\">Back to top</a>"
   ]
  },
  {
   "cell_type": "markdown",
   "id": "8cfc1234-b4b8-4778-b9fd-21541b04190c",
   "metadata": {
    "editable": true,
    "slideshow": {
     "slide_type": ""
    },
    "tags": []
   },
   "source": [
    "<a id=\"1975\"></a>\n",
    "<div style=\"background-color:#F6C249; padding: 8px; border-radius: 5px; font-size: 20px;\">\n",
    "<b style=\"color: white;\">1975. Maximum Matrix Sum</b>\n",
    "</div>"
   ]
  },
  {
   "cell_type": "markdown",
   "id": "dda30891-0e72-4b56-98c9-5d792cb0c3c2",
   "metadata": {},
   "source": [
    "[https://leetcode.com/problems/maximum-matrix-sum/](https://leetcode.com/problems/maximum-matrix-sum/)"
   ]
  },
  {
   "cell_type": "code",
   "execution_count": null,
   "id": "f7f47194-0c49-42d6-844e-b16b2197715a",
   "metadata": {},
   "outputs": [],
   "source": [
    "class Solution(object):\n",
    "    def maxMatrixSum(self, matrix):\n",
    "        \"\"\"\n",
    "        :type matrix: List[List[int]]\n",
    "        :rtype: int\n",
    "        \"\"\"\n",
    "        \n",
    "        output = 0\n",
    "        odd_neg_count, min_abs_val = False, float(\"inf\")\n",
    "        for row in matrix:\n",
    "            for val in row:\n",
    "                output += abs(val)\n",
    "                min_abs_val = min(min_abs_val, abs(val))\n",
    "                odd_neg_count ^= (val < 0)\n",
    "        \n",
    "        if odd_neg_count:\n",
    "            output -= 2 * min_abs_val\n",
    "        \n",
    "        return output"
   ]
  },
  {
   "cell_type": "markdown",
   "id": "0f5bb1f5-9d21-4493-8b35-7b5c357282ec",
   "metadata": {},
   "source": [
    "<a href=\"#contents\">Back to top</a>"
   ]
  },
  {
   "cell_type": "markdown",
   "id": "0cc5eb3e-0549-454c-947e-0e36b2714283",
   "metadata": {
    "editable": true,
    "slideshow": {
     "slide_type": ""
    },
    "tags": []
   },
   "source": [
    "<a id=\"1991\"></a>\n",
    "<div style=\"background-color:#52B6A3; padding: 8px; border-radius: 5px; font-size: 20px;\">\n",
    "<b style=\"color: white;\">1991. Find the Middle Index in Array</b>\n",
    "</div>"
   ]
  },
  {
   "cell_type": "markdown",
   "id": "730853ec-a62f-4cef-b0ca-b945d9964f8f",
   "metadata": {},
   "source": [
    "[https://leetcode.com/problems/find-the-middle-index-in-array/](https://leetcode.com/problems/find-the-middle-index-in-array/)"
   ]
  },
  {
   "cell_type": "code",
   "execution_count": null,
   "id": "05315f6b-5be6-4d4e-ac1d-73931ee29712",
   "metadata": {},
   "outputs": [],
   "source": [
    "class Solution(object):\n",
    "    def findMiddleIndex(self, nums):\n",
    "        \"\"\"\n",
    "        :type nums: List[int]\n",
    "        :rtype: int\n",
    "        \"\"\"\n",
    "        \n",
    "        n = len(nums)\n",
    "        left, right = 0, sum(nums) - nums[0]\n",
    "        \n",
    "        if left == right:\n",
    "            return 0\n",
    "        \n",
    "        for i in range(1, n):\n",
    "            left += nums[i - 1]\n",
    "            right -= nums[i]\n",
    "            if left == right:\n",
    "                return i\n",
    "        \n",
    "        return -1"
   ]
  },
  {
   "cell_type": "markdown",
   "id": "52ad5931-725a-4e8d-9020-3d1868064301",
   "metadata": {},
   "source": [
    "<a href=\"#contents\">Back to top</a>"
   ]
  },
  {
   "cell_type": "markdown",
   "id": "0c41b59b-eb03-42ba-bd9d-7528b2a17835",
   "metadata": {
    "editable": true,
    "slideshow": {
     "slide_type": ""
    },
    "tags": []
   },
   "source": [
    "<a id=\"2014\"></a>\n",
    "<div style=\"background-color:#EB4B62; padding: 8px; border-radius: 5px; font-size: 20px;\">\n",
    "<b style=\"color: white;\">2014. Longest Subsequence Repeated k Times</b>\n",
    "</div>"
   ]
  },
  {
   "cell_type": "markdown",
   "id": "f772c8c9-5762-4ead-a6fd-aa2759ab3615",
   "metadata": {},
   "source": [
    "[https://leetcode.com/problems/longest-subsequence-repeated-k-times/](https://leetcode.com/problems/longest-subsequence-repeated-k-times/)"
   ]
  },
  {
   "cell_type": "code",
   "execution_count": null,
   "id": "3b882504-fbf6-47cb-8dfd-5e3acc1a04f8",
   "metadata": {},
   "outputs": [],
   "source": [
    "class Solution(object):\n",
    "    def longestSubsequenceRepeatedK(self, s, k):\n",
    "        \"\"\"\n",
    "        :type s: str\n",
    "        :type k: int\n",
    "        :rtype: str\n",
    "        \"\"\"\n",
    "        \n",
    "        freq = defaultdict(int)\n",
    "        for char in s:\n",
    "            freq[char] += 1\n",
    "        \n",
    "        candidates = sorted((char for char, f in freq.items() if f >= k), reverse=True)\n",
    "        \n",
    "        answer = \"\"\n",
    "        queue = deque(candidates)\n",
    "        while queue:\n",
    "            t1 = queue.popleft()\n",
    "            \n",
    "            if len(t1) > len(answer):\n",
    "                answer = t1\n",
    "            \n",
    "            for char in candidates:\n",
    "                t2 = t1 + char\n",
    "                s_it = iter(s)\n",
    "                if all(char in s_it for char in k * t2):\n",
    "                    queue.append(t2)\n",
    "        \n",
    "        return answer"
   ]
  },
  {
   "cell_type": "markdown",
   "id": "8dbe1302-19a1-45b8-8f44-5ac84f61050d",
   "metadata": {},
   "source": [
    "<a href=\"#contents\">Back to top</a>"
   ]
  },
  {
   "cell_type": "markdown",
   "id": "a1ce5c3b-a755-4f39-8d8f-ec3267f62563",
   "metadata": {
    "editable": true,
    "slideshow": {
     "slide_type": ""
    },
    "tags": []
   },
   "source": [
    "<a id=\"2016\"></a>\n",
    "<div style=\"background-color:#52B6A3; padding: 8px; border-radius: 5px; font-size: 20px;\">\n",
    "<b style=\"color: white;\">2016. Maximum Difference Between Increasing Elements</b>\n",
    "</div>"
   ]
  },
  {
   "cell_type": "markdown",
   "id": "b2ea6993-04cb-4394-af0d-356d63815128",
   "metadata": {},
   "source": [
    "[https://leetcode.com/problems/maximum-difference-between-increasing-elements/](https://leetcode.com/problems/maximum-difference-between-increasing-elements/)"
   ]
  },
  {
   "cell_type": "code",
   "execution_count": null,
   "id": "62f77c09-7b64-498b-a211-dc029d2d7014",
   "metadata": {},
   "outputs": [],
   "source": [
    "class Solution(object):\n",
    "    def maximumDifference(self, nums):\n",
    "        \"\"\"\n",
    "        :type nums: List[int]\n",
    "        :rtype: int\n",
    "        \"\"\"\n",
    "        \n",
    "        n = len(nums)\n",
    "        answer = -1\n",
    "        min_val = nums[0]\n",
    "        for i in range(1, n):\n",
    "            if nums[i] > min_val:\n",
    "                answer = max(answer, nums[i] - min_val)\n",
    "            else:\n",
    "                min_val = nums[i]\n",
    "        \n",
    "        return answer"
   ]
  },
  {
   "cell_type": "markdown",
   "id": "c7bf4e36-da3e-429d-8e47-340120348221",
   "metadata": {},
   "source": [
    "<a href=\"#contents\">Back to top</a>"
   ]
  },
  {
   "cell_type": "markdown",
   "id": "a290d789-a7a4-47d6-bf51-cbc97041a366",
   "metadata": {
    "editable": true,
    "slideshow": {
     "slide_type": ""
    },
    "tags": []
   },
   "source": [
    "<a id=\"2040\"></a>\n",
    "<div style=\"background-color:#EB4B62; padding: 8px; border-radius: 5px; font-size: 20px;\">\n",
    "<b style=\"color: white;\">2040. Kth Smallest Product of Two Sorted Arrays</b>\n",
    "</div>"
   ]
  },
  {
   "cell_type": "markdown",
   "id": "e24f680a-0869-4661-8a53-f9c3dfa45897",
   "metadata": {},
   "source": [
    "[https://leetcode.com/problems/kth-smallest-product-of-two-sorted-arrays/](https://leetcode.com/problems/kth-smallest-product-of-two-sorted-arrays/)"
   ]
  },
  {
   "cell_type": "code",
   "execution_count": null,
   "id": "28e728e3-be35-44be-bd54-95d338b676e3",
   "metadata": {},
   "outputs": [],
   "source": [
    "class Solution(object):\n",
    "    def kthSmallestProduct(self, nums1, nums2, k):\n",
    "        \"\"\"\n",
    "        :type nums1: List[int]\n",
    "        :type nums2: List[int]\n",
    "        :type k: int\n",
    "        :rtype: int\n",
    "        \"\"\"\n",
    "        \n",
    "        pos1 = self.find_pos_idx(nums1)\n",
    "        pos2 = self.find_pos_idx(nums2)\n",
    "        \n",
    "        a1, a2 = nums1[0] * nums2[0], nums1[0] * nums2[-1]\n",
    "        b1, b2 = nums1[-1] * nums2[0], nums1[-1] * nums2[-1]\n",
    "        min_prod, max_prod = min(a1, a2, b1, b2), max(a1, a2, b1, b2)\n",
    "        \n",
    "        left, right = min_prod, max_prod\n",
    "        while left < right:\n",
    "            middle = left + (right - left) // 2\n",
    "            if self.counter(nums1, nums2, pos1, pos2, middle) < k:\n",
    "                left = middle + 1\n",
    "            else:\n",
    "                right = middle\n",
    "        \n",
    "        return left\n",
    "    \n",
    "    \n",
    "    def find_pos_idx(self, nums):\n",
    "        pos = 0\n",
    "        while (pos < len(nums)) and (nums[pos] < 0):\n",
    "            pos += 1\n",
    "        \n",
    "        return pos\n",
    "    \n",
    "    \n",
    "    def counter(self, nums1, nums2, pos1, pos2, val):\n",
    "        n1, n2 = len(nums1), len(nums2)\n",
    "        count = 0\n",
    "        \n",
    "        i1, i2 = 0, pos2 - 1\n",
    "        while (i1 < pos1) and (i2 >= 0):\n",
    "            if nums1[i1] * nums2[i2] > val:\n",
    "                i1 += 1\n",
    "            else:\n",
    "                count += pos1 - i1\n",
    "                i2 -= 1\n",
    "        \n",
    "        i1, i2 = 0, pos2\n",
    "        while (i1 < pos1) and (i2 < n2):\n",
    "            if nums1[i1] * nums2[i2] > val:\n",
    "                i2 += 1\n",
    "            else:\n",
    "                count += n2 - i2\n",
    "                i1 += 1\n",
    "        \n",
    "        i1, i2 = pos1, 0\n",
    "        while (i1 < n1) and (i2 < pos2):\n",
    "            if nums1[i1] * nums2[i2] > val:\n",
    "                i1 += 1\n",
    "            else:\n",
    "                count += n1 - i1\n",
    "                i2 += 1\n",
    "        \n",
    "        i1, i2 = pos1, n2 - 1\n",
    "        while (i1 < n1) and (i2 >= pos2):\n",
    "            if nums1[i1] * nums2[i2] > val:\n",
    "                i2 -= 1\n",
    "            else:\n",
    "                count += i2 - pos2 + 1\n",
    "                i1 += 1\n",
    "        \n",
    "        return count"
   ]
  },
  {
   "cell_type": "markdown",
   "id": "be2e2632-e9e5-4f4a-9ba4-ca8278199659",
   "metadata": {},
   "source": [
    "<a href=\"#contents\">Back to top</a>"
   ]
  },
  {
   "cell_type": "markdown",
   "id": "e7d5187f-9a80-4deb-ade3-bfde3ab1b63b",
   "metadata": {
    "editable": true,
    "slideshow": {
     "slide_type": ""
    },
    "tags": []
   },
   "source": [
    "<a id=\"2081\"></a>\n",
    "<div style=\"background-color:#EB4B62; padding: 8px; border-radius: 5px; font-size: 20px;\">\n",
    "<b style=\"color: white;\">2081. Sum of k-Mirror Numbers</b>\n",
    "</div>"
   ]
  },
  {
   "cell_type": "markdown",
   "id": "1fc4b664-0172-4aad-8eec-e849fc76f69d",
   "metadata": {},
   "source": [
    "[https://leetcode.com/problems/sum-of-k-mirror-numbers/](https://leetcode.com/problems/sum-of-k-mirror-numbers/)"
   ]
  },
  {
   "cell_type": "code",
   "execution_count": null,
   "id": "62e4907c-70bd-4077-9c26-7b650c55ed47",
   "metadata": {},
   "outputs": [],
   "source": [
    "class Solution(object):\n",
    "    def kMirror(self, k, n):\n",
    "        \"\"\"\n",
    "        :type k: int\n",
    "        :type n: int\n",
    "        :rtype: int\n",
    "        \"\"\"\n",
    "        \n",
    "        answer = 0\n",
    "        count = 0\n",
    "        left = 1\n",
    "        while count < n:\n",
    "            right = 10 * left\n",
    "            for use_last_digit in [False, True]:\n",
    "                num = left\n",
    "                while (num < right) and (count < n):\n",
    "                    palindrome = self.make_palindrome(num, use_last_digit)\n",
    "                    if self.is_k_mirror(k, palindrome):\n",
    "                        answer += palindrome\n",
    "                        count += 1\n",
    "                    num += 1\n",
    "            \n",
    "            left = right\n",
    "        \n",
    "        return answer\n",
    "    \n",
    "    \n",
    "    def make_palindrome(self, num, use_last_digit):\n",
    "        palindrome = num\n",
    "        if not use_last_digit:\n",
    "            num //= 10\n",
    "        while num:\n",
    "            palindrome = 10 * palindrome + num % 10\n",
    "            num //= 10\n",
    "        \n",
    "        return palindrome\n",
    "    \n",
    "    \n",
    "    def is_k_mirror(self, k, num):\n",
    "        s = []\n",
    "        while num:\n",
    "            s.append(num % k)\n",
    "            num //= k\n",
    "        \n",
    "        d = len(s)\n",
    "        val = all(s[i] == s[-(i + 1)] for i in range(d // 2))\n",
    "        \n",
    "        return val"
   ]
  },
  {
   "cell_type": "markdown",
   "id": "f53c352f-0347-42e0-902c-1133f0956662",
   "metadata": {},
   "source": [
    "<a href=\"#contents\">Back to top</a>"
   ]
  },
  {
   "cell_type": "markdown",
   "id": "c88d9bbd-2756-4658-8ca8-12cd605e7bc9",
   "metadata": {
    "editable": true,
    "slideshow": {
     "slide_type": ""
    },
    "tags": []
   },
   "source": [
    "<a id=\"2097\"></a>\n",
    "<div style=\"background-color:#EB4B62; padding: 8px; border-radius: 5px; font-size: 20px;\">\n",
    "<b style=\"color: white;\">2097. Valid Arrangment of Pairs</b>\n",
    "</div>"
   ]
  },
  {
   "cell_type": "markdown",
   "id": "3457da6c-e006-4dfc-885d-41df16cf84ef",
   "metadata": {},
   "source": [
    "[https://leetcode.com/problems/valid-arrangement-of-pairs/](https://leetcode.com/problems/valid-arrangement-of-pairs/)"
   ]
  },
  {
   "cell_type": "code",
   "execution_count": null,
   "id": "7ac57421-046b-46b9-aa91-4fa683a1482c",
   "metadata": {},
   "outputs": [],
   "source": [
    "class Solution(object):\n",
    "    def validArrangement(self, pairs):\n",
    "        \"\"\"\n",
    "        :type pairs: List[List[int]]\n",
    "        :rtype: List[List[int]]\n",
    "        \"\"\"\n",
    "        \n",
    "        adj = defaultdict(set)\n",
    "        in_out_deg_diff = defaultdict(int)\n",
    "        for u, v in pairs:\n",
    "            adj[u].add(v)\n",
    "            in_out_deg_diff[u] -= 1\n",
    "            in_out_deg_diff[v] += 1\n",
    "        \n",
    "        for u in in_out_deg_diff:\n",
    "            if in_out_deg_diff[u] == -1:\n",
    "                start = u\n",
    "                break\n",
    "        else:\n",
    "            start = pairs[0][0]\n",
    "        \n",
    "        \n",
    "        Euler_path = []\n",
    "        stack = [start]\n",
    "        while stack:\n",
    "            u = stack[-1]\n",
    "            if adj[u]:\n",
    "                stack.append(adj[u].pop())\n",
    "            else:\n",
    "                Euler_path.append(stack.pop())\n",
    "        \n",
    "        Euler_path.reverse()\n",
    "        output = [[Euler_path[i - 1], Euler_path[i]] for i in range(1, len(Euler_path))]\n",
    "        \n",
    "        return output"
   ]
  },
  {
   "cell_type": "markdown",
   "id": "ba6221d3-e25f-404a-a594-bbdc30dfad4b",
   "metadata": {},
   "source": [
    "<a href=\"#contents\">Back to top</a>"
   ]
  },
  {
   "cell_type": "markdown",
   "id": "bf733b98-1e64-491c-b3dc-9301ab4c90d0",
   "metadata": {
    "editable": true,
    "slideshow": {
     "slide_type": ""
    },
    "tags": []
   },
   "source": [
    "<a id=\"2099\"></a>\n",
    "<div style=\"background-color:#52B6A3; padding: 8px; border-radius: 5px; font-size: 20px;\">\n",
    "<b style=\"color: white;\">2099. Find Subsequence of Length K With the Largest Sum</b>\n",
    "</div>"
   ]
  },
  {
   "cell_type": "markdown",
   "id": "f775d45c-a1ee-44a9-8282-5777d277e003",
   "metadata": {},
   "source": [
    "[https://leetcode.com/problems/find-subsequence-of-length-k-with-the-largest-sum/](https://leetcode.com/problems/find-subsequence-of-length-k-with-the-largest-sum/)"
   ]
  },
  {
   "cell_type": "code",
   "execution_count": null,
   "id": "b4d0dbcf-9490-40b8-9046-6f1b5a102fed",
   "metadata": {},
   "outputs": [],
   "source": [
    "class Solution(object):\n",
    "    def maxSubsequence(self, nums, k):\n",
    "        \"\"\"\n",
    "        :type nums: List[int]\n",
    "        :type k: int\n",
    "        :rtype: List[int]\n",
    "        \"\"\"\n",
    "        \n",
    "        heap = []\n",
    "        for i, num in enumerate(nums):\n",
    "            if i < k:\n",
    "                heappush(heap, (num, i))\n",
    "            else:\n",
    "                heappushpop(heap, (num, i))\n",
    "        \n",
    "        array = [num for num, _ in sorted(heap, key=lambda x: x[1])]\n",
    "        \n",
    "        return array"
   ]
  },
  {
   "cell_type": "markdown",
   "id": "2bfc6897-a9af-4b5c-873a-d2fbb3f39ad1",
   "metadata": {},
   "source": [
    "<a href=\"#contents\">Back to top</a>"
   ]
  },
  {
   "cell_type": "markdown",
   "id": "f8c40bc9-cfc7-4e09-941d-d52b163bfc91",
   "metadata": {
    "editable": true,
    "slideshow": {
     "slide_type": ""
    },
    "tags": []
   },
   "source": [
    "<a id=\"2138\"></a>\n",
    "<div style=\"background-color:#52B6A3; padding: 8px; border-radius: 5px; font-size: 20px;\">\n",
    "<b style=\"color: white;\">2138. Divide a String Into Groups of Size k</b>\n",
    "</div>"
   ]
  },
  {
   "cell_type": "markdown",
   "id": "6f514097-0547-42e4-a729-dcee0c694157",
   "metadata": {},
   "source": [
    "[https://leetcode.com/problems/divide-a-string-into-groups-of-size-k/](https://leetcode.com/problems/divide-a-string-into-groups-of-size-k/)"
   ]
  },
  {
   "cell_type": "code",
   "execution_count": null,
   "id": "06702a2b-ff6f-432d-9909-4ec09696a811",
   "metadata": {},
   "outputs": [],
   "source": [
    "class Solution(object):\n",
    "    def divideString(self, s, k, fill):\n",
    "        \"\"\"\n",
    "        :type s: str\n",
    "        :type k: int\n",
    "        :type fill: str\n",
    "        :rtype: List[str]\n",
    "        \"\"\"\n",
    "        \n",
    "        n = len(s)\n",
    "        answer = []\n",
    "        for i in range(0, n, k):\n",
    "            answer.append(s[i:i+k])\n",
    "        \n",
    "        answer[-1] = answer[-1].ljust(k, fill)\n",
    "        \n",
    "        return answer"
   ]
  },
  {
   "cell_type": "markdown",
   "id": "a04e33da-c608-42b5-af10-97e1838cacf5",
   "metadata": {},
   "source": [
    "<a href=\"#contents\">Back to top</a>"
   ]
  },
  {
   "cell_type": "markdown",
   "id": "1271676a-8677-45ef-9ef1-373c969b681a",
   "metadata": {
    "editable": true,
    "slideshow": {
     "slide_type": ""
    },
    "tags": []
   },
   "source": [
    "<a id=\"2160\"></a>\n",
    "<div style=\"background-color:#52B6A3; padding: 8px; border-radius: 5px; font-size: 20px;\">\n",
    "<b style=\"color: white;\">2160. Minimum Sum of Four Digit Number After Splitting Digits</b>\n",
    "</div>"
   ]
  },
  {
   "cell_type": "markdown",
   "id": "abb059cc-de6b-4787-9330-c1133eab0cf6",
   "metadata": {},
   "source": [
    "[https://leetcode.com/problems/minimum-sum-of-four-digit-number-after-splitting-digits/](https://leetcode.com/problems/minimum-sum-of-four-digit-number-after-splitting-digits/)"
   ]
  },
  {
   "cell_type": "code",
   "execution_count": null,
   "id": "2db0e186-a19b-4e52-93f7-d2d75d0be69c",
   "metadata": {},
   "outputs": [],
   "source": [
    "class Solution(object):\n",
    "    def minimumSum(self, num):\n",
    "        \"\"\"\n",
    "        :type num: int\n",
    "        :rtype: int\n",
    "        \"\"\"\n",
    "        \n",
    "        digits = sorted(int(d) for d in str(num))\n",
    "        answer = (digits[0] + digits[1]) * 10 + (digits[2] + digits[3])\n",
    "        \n",
    "        return answer"
   ]
  },
  {
   "cell_type": "markdown",
   "id": "dd1bd7f2-381a-4976-a057-0b7c7e33237d",
   "metadata": {},
   "source": [
    "<a href=\"#contents\">Back to top</a>"
   ]
  },
  {
   "cell_type": "markdown",
   "id": "b2fb4edd-4f9b-4af1-a4d6-b7e553967ecf",
   "metadata": {
    "editable": true,
    "slideshow": {
     "slide_type": ""
    },
    "tags": []
   },
   "source": [
    "<a id=\"2200\"></a>\n",
    "<div style=\"background-color:#52B6A3; padding: 8px; border-radius: 5px; font-size: 20px;\">\n",
    "<b style=\"color: white;\">2200. Find All K-Distant Indices in an Array</b>\n",
    "</div>"
   ]
  },
  {
   "cell_type": "markdown",
   "id": "652596da-b1bf-4533-9261-0e63f6a1553e",
   "metadata": {},
   "source": [
    "[https://leetcode.com/problems/find-all-k-distant-indices-in-an-array/](https://leetcode.com/problems/find-all-k-distant-indices-in-an-array/)"
   ]
  },
  {
   "cell_type": "code",
   "execution_count": null,
   "id": "7aa4f5a8-8600-412a-9385-37ac132edc4c",
   "metadata": {},
   "outputs": [],
   "source": [
    "class Solution(object):\n",
    "    def findKDistantIndices(self, nums, key, k):\n",
    "        \"\"\"\n",
    "        :type nums: List[int]\n",
    "        :type key: int\n",
    "        :type k: int\n",
    "        :rtype: List[int]\n",
    "        \"\"\"\n",
    "        \n",
    "        n = len(nums)\n",
    "        answer = []\n",
    "        r = 0\n",
    "        for i in range(n):\n",
    "            if nums[i] == key:\n",
    "                l, r = max(i - k, r), min(i + k + 1, n)\n",
    "                answer.extend(range(l, r))\n",
    "        \n",
    "        return answer"
   ]
  },
  {
   "cell_type": "markdown",
   "id": "f5950bd7-1342-4909-9060-988e707fd77e",
   "metadata": {},
   "source": [
    "<a href=\"#contents\">Back to top</a>"
   ]
  },
  {
   "cell_type": "markdown",
   "id": "528fae80-f670-4466-b8d1-404f8d63f4d1",
   "metadata": {
    "editable": true,
    "slideshow": {
     "slide_type": ""
    },
    "tags": []
   },
   "source": [
    "<a id=\"2270\"></a>\n",
    "<div style=\"background-color:#F6C249; padding: 8px; border-radius: 5px; font-size: 20px;\">\n",
    "<b style=\"color: white;\">2270. Number of Ways to Split Array</b>\n",
    "</div>"
   ]
  },
  {
   "cell_type": "markdown",
   "id": "3a83331e-d616-421b-90f4-b78315a34b47",
   "metadata": {},
   "source": [
    "[https://leetcode.com/problems/number-of-ways-to-split-array/](https://leetcode.com/problems/number-of-ways-to-split-array/)"
   ]
  },
  {
   "cell_type": "code",
   "execution_count": null,
   "id": "a79028dd-7b60-4366-a80d-e219cf69ef16",
   "metadata": {},
   "outputs": [],
   "source": [
    "class Solution(object):\n",
    "    def waysToSplitArray(self, nums):\n",
    "        \"\"\"\n",
    "        :type nums: List[int]\n",
    "        :rtype: int\n",
    "        \"\"\"\n",
    "        \n",
    "        n = len(nums)\n",
    "        count = 0\n",
    "        left, half_total = 0, (sum(nums) + 1) // 2\n",
    "        for i in range(n - 1):\n",
    "            left += nums[i]\n",
    "            if left >= half_total:\n",
    "                count += 1\n",
    "        \n",
    "        return count"
   ]
  },
  {
   "cell_type": "markdown",
   "id": "4b0b584b-b2f5-465d-bb06-a96729201595",
   "metadata": {},
   "source": [
    "<a href=\"#contents\">Back to top</a>"
   ]
  },
  {
   "cell_type": "markdown",
   "id": "14a3e44a-6548-47b5-adad-4310a8e107fd",
   "metadata": {
    "editable": true,
    "slideshow": {
     "slide_type": ""
    },
    "tags": []
   },
   "source": [
    "<a id=\"2290\"></a>\n",
    "<div style=\"background-color:#EB4B62; padding: 8px; border-radius: 5px; font-size: 20px;\">\n",
    "<b style=\"color: white;\">2290. Minimum Obstacle Removal to Reach Corner</b>\n",
    "</div>"
   ]
  },
  {
   "cell_type": "markdown",
   "id": "49c5b55e-1c30-4a62-b349-fe11f996b33b",
   "metadata": {},
   "source": [
    "[https://leetcode.com/problems/minimum-obstacle-removal-to-reach-corner/](https://leetcode.com/problems/minimum-obstacle-removal-to-reach-corner/)"
   ]
  },
  {
   "cell_type": "code",
   "execution_count": null,
   "id": "a71ff7c9-fd7b-431b-a54a-08ddf67a01a9",
   "metadata": {},
   "outputs": [],
   "source": [
    "class Solution(object):\n",
    "    def minimumObstacles(self, grid):\n",
    "        \"\"\"\n",
    "        :type grid: List[List[int]]\n",
    "        :rtype: int\n",
    "        \"\"\"\n",
    "        \n",
    "        m, n = len(grid), len(grid[0])\n",
    "        start, end = (0, 0), (m - 1, n - 1)\n",
    "        distance = [n * [-1] for _ in range(m)]\n",
    "        distance[start[0]][start[1]] = 0\n",
    "        vertices = deque([start])\n",
    "        while vertices:\n",
    "            i, j = vertices.popleft()\n",
    "            for k in {-1, 1}:\n",
    "                if (0 <= i + k < m) and (distance[i + k][j] == -1):\n",
    "                    distance[i + k][j] = distance[i][j] + grid[i + k][j]\n",
    "                    if grid[i + k][j] == 0:\n",
    "                        vertices.appendleft((i + k, j))\n",
    "                    else:\n",
    "                        vertices.append((i + k, j))\n",
    "                if (0 <= j + k < n) and (distance[i][j + k] == -1):\n",
    "                    distance[i][j + k] = distance[i][j] + grid[i][j + k]\n",
    "                    if grid[i][j + k] == 0:\n",
    "                        vertices.appendleft((i, j + k))\n",
    "                    else:\n",
    "                        vertices.append((i, j + k))\n",
    "        \n",
    "        output = distance[end[0]][end[1]]\n",
    "        \n",
    "        return output"
   ]
  },
  {
   "cell_type": "markdown",
   "id": "c059468f-36e5-4e63-ae75-d397e2b29910",
   "metadata": {},
   "source": [
    "<a href=\"#contents\">Back to top</a>"
   ]
  },
  {
   "cell_type": "markdown",
   "id": "bad72c42-c844-4b58-aa50-427be8f9ee2b",
   "metadata": {
    "editable": true,
    "slideshow": {
     "slide_type": ""
    },
    "tags": []
   },
   "source": [
    "<a id=\"2294\"></a>\n",
    "<div style=\"background-color:#F6C249; padding: 8px; border-radius: 5px; font-size: 20px;\">\n",
    "<b style=\"color: white;\">2294. Partition Array Such That Maximum Difference Is K</b>\n",
    "</div>"
   ]
  },
  {
   "cell_type": "markdown",
   "id": "dc5c7812-4442-44f3-aff4-e5c76683f58c",
   "metadata": {},
   "source": [
    "[https://leetcode.com/problems/partition-array-such-that-maximum-difference-is-k/](https://leetcode.com/problems/partition-array-such-that-maximum-difference-is-k/)"
   ]
  },
  {
   "cell_type": "code",
   "execution_count": null,
   "id": "d957b667-1374-4e3a-b602-468975802a31",
   "metadata": {},
   "outputs": [],
   "source": [
    "class Solution(object):\n",
    "    def partitionArray(self, nums, k):\n",
    "        \"\"\"\n",
    "        :type nums: List[int]\n",
    "        :type k: int\n",
    "        :rtype: int\n",
    "        \"\"\"\n",
    "        \n",
    "        nums.sort()\n",
    "        \n",
    "        n = len(nums)\n",
    "        count = 1\n",
    "        current = nums[0]\n",
    "        for num in nums:\n",
    "            if num - current > k:\n",
    "                count += 1\n",
    "                current = num\n",
    "        \n",
    "        return count"
   ]
  },
  {
   "cell_type": "markdown",
   "id": "27ed0bab-2117-4bb9-a606-02ad9b841325",
   "metadata": {},
   "source": [
    "<a href=\"#contents\">Back to top</a>"
   ]
  },
  {
   "cell_type": "markdown",
   "id": "431f384e-8c29-404e-81de-3543bcb03b88",
   "metadata": {
    "editable": true,
    "slideshow": {
     "slide_type": ""
    },
    "tags": []
   },
   "source": [
    "<a id=\"2311\"></a>\n",
    "<div style=\"background-color:#F6C249; padding: 8px; border-radius: 5px; font-size: 20px;\">\n",
    "<b style=\"color: white;\">2311. Longest Binary Subsequence Less Than or Equal to K</b>\n",
    "</div>"
   ]
  },
  {
   "cell_type": "markdown",
   "id": "77226d01-459a-4746-a433-21f0a3483fe5",
   "metadata": {},
   "source": [
    "[https://leetcode.com/problems/longest-binary-subsequence-less-than-or-equal-to-k/](https://leetcode.com/problems/longest-binary-subsequence-less-than-or-equal-to-k/)"
   ]
  },
  {
   "cell_type": "code",
   "execution_count": null,
   "id": "d647acd0-82b4-41f4-90dc-a0e0cc0f403a",
   "metadata": {},
   "outputs": [],
   "source": [
    "class Solution(object):\n",
    "    def longestSubsequence(self, s, k):\n",
    "        \"\"\"\n",
    "        :type s: str\n",
    "        :type k: int\n",
    "        :rtype: int\n",
    "        \"\"\"\n",
    "        \n",
    "        bits = k.bit_length()\n",
    "        num = 0\n",
    "        count = 0\n",
    "        for i, char in enumerate(s[::-1]):\n",
    "            if char == \"1\":\n",
    "                if (i < bits) and (num + (1 << i) <= k):\n",
    "                    num += 1 << i\n",
    "                    count += 1\n",
    "            else:\n",
    "                count += 1\n",
    "        \n",
    "        return count"
   ]
  },
  {
   "cell_type": "markdown",
   "id": "97673a32-7c4c-4934-8858-87996f43ace0",
   "metadata": {},
   "source": [
    "<a href=\"#contents\">Back to top</a>"
   ]
  },
  {
   "cell_type": "markdown",
   "id": "9bb6a8d2-08c8-46a8-8f5d-c7db9bd542a9",
   "metadata": {
    "editable": true,
    "slideshow": {
     "slide_type": ""
    },
    "tags": []
   },
   "source": [
    "<a id=\"2381\"></a>\n",
    "<div style=\"background-color:#F6C249; padding: 8px; border-radius: 5px; font-size: 20px;\">\n",
    "<b style=\"color: white;\">2381. Shifting Letters II</b>\n",
    "</div>"
   ]
  },
  {
   "cell_type": "markdown",
   "id": "ae9ba1bb-5e11-48bb-8c70-e533ec506910",
   "metadata": {},
   "source": [
    "[https://leetcode.com/problems/shifting-letters-ii/](https://leetcode.com/problems/shifting-letters-ii/)"
   ]
  },
  {
   "cell_type": "code",
   "execution_count": null,
   "id": "b80313d1-74cc-48d3-a4f3-941ae4084ca3",
   "metadata": {},
   "outputs": [],
   "source": [
    "class Solution(object):\n",
    "    def shiftingLetters(self, s, shifts):\n",
    "        \"\"\"\n",
    "        :type s: str\n",
    "        :type shifts: List[List[int]]\n",
    "        :rtype: str\n",
    "        \"\"\"\n",
    "        \n",
    "        n = len(s)\n",
    "        diff_array = (n + 1) * [0]\n",
    "        for start, end, direction in shifts:\n",
    "            if direction == 0:\n",
    "                diff_array[start] -= 1\n",
    "                diff_array[end + 1] += 1\n",
    "            else:\n",
    "                diff_array[start] += 1\n",
    "                diff_array[end + 1] -= 1\n",
    "        \n",
    "        t = n * [0]\n",
    "        shift = 0\n",
    "        for i, char in enumerate(s):\n",
    "            shift += diff_array[i]\n",
    "            shift %= 26\n",
    "            j = (ord(char) - ord(\"a\") + shift) % 26 + ord(\"a\")\n",
    "            t[i] = chr(j)\n",
    "        \n",
    "        t = \"\".join(t)\n",
    "        \n",
    "        return t"
   ]
  },
  {
   "cell_type": "markdown",
   "id": "48507ecb-78a5-4550-beed-9e51067e3034",
   "metadata": {},
   "source": [
    "<a href=\"#contents\">Back to top</a>"
   ]
  },
  {
   "cell_type": "markdown",
   "id": "d7480382-d278-40ef-920d-b44cbf436d3f",
   "metadata": {
    "editable": true,
    "slideshow": {
     "slide_type": ""
    },
    "tags": []
   },
   "source": [
    "<a id=\"2434\"></a>\n",
    "<div style=\"background-color:#F6C249; padding: 8px; border-radius: 5px; font-size: 20px;\">\n",
    "<b style=\"color: white;\">2434. Using a Robot to Print the Lexicographically Smallest String</b>\n",
    "</div>"
   ]
  },
  {
   "cell_type": "markdown",
   "id": "98c8d321-13e1-4527-955e-5a5c95c2e23c",
   "metadata": {},
   "source": [
    "[https://leetcode.com/problems/using-a-robot-to-print-the-lexicographically-smallest-string/](https://leetcode.com/problems/using-a-robot-to-print-the-lexicographically-smallest-string/)"
   ]
  },
  {
   "cell_type": "code",
   "execution_count": null,
   "id": "3242493c-83d1-4ea6-9667-d3ef2ea4acc8",
   "metadata": {},
   "outputs": [],
   "source": [
    "class Solution(object):\n",
    "    def robotWithString(self, s):\n",
    "        \"\"\"\n",
    "        :type s: str\n",
    "        :rtype: str\n",
    "        \"\"\"\n",
    "        \n",
    "        n = len(s)\n",
    "        suffix = n * [0]\n",
    "        min_char, counter, idx = s[-1], 1, n - 1\n",
    "        suffix[-1] = (min_char, counter, idx)\n",
    "        for i in range(n - 2, -1, -1):\n",
    "            if s[i] == min_char:\n",
    "                counter += 1\n",
    "            elif s[i] < min_char:\n",
    "                min_char, counter, idx = s[i], 1, i\n",
    "            suffix[i] = (min_char, counter, idx)\n",
    "        \n",
    "        t, answer = deque(), deque()\n",
    "        i = 0\n",
    "        while i < n:\n",
    "            min_char, counter, idx = suffix[i]\n",
    "            \n",
    "            while t and (t[-1] <= min_char):\n",
    "                answer.append(t.pop())\n",
    "            \n",
    "            t.extend(s[j] for j in range(i, idx) if s[j] != min_char)\n",
    "            answer.extend(min_char for _ in range(counter))\n",
    "            i = idx + 1\n",
    "        \n",
    "        if t:\n",
    "            t.reverse()\n",
    "            answer.extend(t)\n",
    "        \n",
    "        answer = \"\".join(answer)\n",
    "        \n",
    "        return answer"
   ]
  },
  {
   "cell_type": "markdown",
   "id": "5644f131-03c1-436e-8a78-eaa56274db99",
   "metadata": {},
   "source": [
    "<a href=\"#contents\">Back to top</a>"
   ]
  },
  {
   "cell_type": "markdown",
   "id": "0efa3e80-2946-40d3-8412-338b1f46f0da",
   "metadata": {
    "editable": true,
    "slideshow": {
     "slide_type": ""
    },
    "tags": []
   },
   "source": [
    "<a id=\"2460\"></a>\n",
    "<div style=\"background-color:#52B6A3; padding: 8px; border-radius: 5px; font-size: 20px;\">\n",
    "<b style=\"color: white;\">2460. Apply Operations to an Array</b>\n",
    "</div>"
   ]
  },
  {
   "cell_type": "markdown",
   "id": "842ff2cc-2348-44c9-b02d-2522212eb1c8",
   "metadata": {},
   "source": [
    "[https://leetcode.com/problems/apply-operations-to-an-array/](https://leetcode.com/problems/apply-operations-to-an-array/)"
   ]
  },
  {
   "cell_type": "code",
   "execution_count": null,
   "id": "eef58ac0-fe94-43c9-8b07-a071cc311ad7",
   "metadata": {},
   "outputs": [],
   "source": [
    "class Solution(object):\n",
    "    def applyOperations(self, nums):\n",
    "        \"\"\"\n",
    "        :type nums: List[int]\n",
    "        :rtype: List[int]\n",
    "        \"\"\"\n",
    "        \n",
    "        n, w = len(nums), 0\n",
    "        for i in range(n):\n",
    "            if nums[i] == 0:\n",
    "                continue\n",
    "            \n",
    "            if (i < n - 1) and (nums[i] == nums[i + 1]):\n",
    "                nums[i] *= 2\n",
    "                nums[i + 1] = 0\n",
    "            \n",
    "            nums[w], nums[i] = nums[i], nums[w]\n",
    "            w += 1\n",
    "        \n",
    "        return nums"
   ]
  },
  {
   "cell_type": "markdown",
   "id": "162f24a8-1f28-4f5e-bee3-41fcf39f129b",
   "metadata": {},
   "source": [
    "<a href=\"#contents\">Back to top</a>"
   ]
  },
  {
   "cell_type": "markdown",
   "id": "16ccb54f-3d1d-4117-8e2b-e07bb53000cf",
   "metadata": {
    "editable": true,
    "slideshow": {
     "slide_type": ""
    },
    "tags": []
   },
   "source": [
    "<a id=\"2469\"></a>\n",
    "<div style=\"background-color:#52B6A3; padding: 8px; border-radius: 5px; font-size: 20px;\">\n",
    "<b style=\"color: white;\">2469. Convert the Temperature</b>\n",
    "</div>"
   ]
  },
  {
   "cell_type": "markdown",
   "id": "a331e85f-8f94-4b04-bf00-66bb2c89a638",
   "metadata": {},
   "source": [
    "[https://leetcode.com/problems/convert-the-temperature/](https://leetcode.com/problems/convert-the-temperature/)"
   ]
  },
  {
   "cell_type": "code",
   "execution_count": null,
   "id": "82f89027-4bd5-43b7-ae38-da76ae3b9bb9",
   "metadata": {},
   "outputs": [],
   "source": [
    "class Solution(object):\n",
    "    def convertTemperature(self, celsius):\n",
    "        \"\"\"\n",
    "        :type celsius: float\n",
    "        :rtype: List[float]\n",
    "        \"\"\"\n",
    "        \n",
    "        ans = [celsius + 273.15, celsius * 1.80 + 32.00]\n",
    "        \n",
    "        return ans"
   ]
  },
  {
   "cell_type": "markdown",
   "id": "659f75ca-99bc-4eb8-9be8-37a67238cc88",
   "metadata": {},
   "source": [
    "<a href=\"#contents\">Back to top</a>"
   ]
  },
  {
   "cell_type": "markdown",
   "id": "72e5e5da-2ef6-4361-9354-ae3ab1adbb6c",
   "metadata": {
    "editable": true,
    "slideshow": {
     "slide_type": ""
    },
    "tags": []
   },
   "source": [
    "<a id=\"2471\"></a>\n",
    "<div style=\"background-color:#F6C249; padding: 8px; border-radius: 5px; font-size: 20px;\">\n",
    "<b style=\"color: white;\">2471. Minimum Number of Operations to Sort a Binary Tree by Level</b>\n",
    "</div>"
   ]
  },
  {
   "cell_type": "markdown",
   "id": "94ad6093-9ff8-4d5a-91d3-e925acc2e3fd",
   "metadata": {},
   "source": [
    "[https://leetcode.com/problems/minimum-number-of-operations-to-sort-a-binary-tree-by-level/](https://leetcode.com/problems/minimum-number-of-operations-to-sort-a-binary-tree-by-level/)"
   ]
  },
  {
   "cell_type": "code",
   "execution_count": null,
   "id": "9d3d035e-a52b-4847-914c-44551aa41bb8",
   "metadata": {},
   "outputs": [],
   "source": [
    "# Definition for a binary tree node.\n",
    "# class TreeNode(object):\n",
    "#     def __init__(self, val=0, left=None, right=None):\n",
    "#         self.val = val\n",
    "#         self.left = left\n",
    "#         self.right = right\n",
    "class Solution(object):\n",
    "    def minimumOperations(self, root):\n",
    "        \"\"\"\n",
    "        :type root: Optional[TreeNode]\n",
    "        :rtype: int\n",
    "        \"\"\"\n",
    "        \n",
    "        output = 0\n",
    "        nodes = [root]\n",
    "        while nodes:\n",
    "            val_idx, new_nodes = [], []\n",
    "            for i, node in enumerate(nodes):\n",
    "                val_idx.append((node.val, i))\n",
    "                if node.left:\n",
    "                    new_nodes.append(node.left)\n",
    "                if node.right:\n",
    "                    new_nodes.append(node.right)\n",
    "            \n",
    "            val_idx.sort()\n",
    "            n, i = len(val_idx), 0\n",
    "            while i < n:\n",
    "                j = val_idx[i][1]\n",
    "                if i != j:\n",
    "                    val_idx[i], val_idx[j] = val_idx[j], val_idx[i]\n",
    "                    output += 1\n",
    "                    i -= 1\n",
    "                i += 1\n",
    "            \n",
    "            nodes = new_nodes\n",
    "        \n",
    "        return output"
   ]
  },
  {
   "cell_type": "markdown",
   "id": "cfbc7a22-f1f0-4b43-9843-d8d46d46a483",
   "metadata": {},
   "source": [
    "<a href=\"#contents\">Back to top</a>"
   ]
  },
  {
   "cell_type": "markdown",
   "id": "ff2b0b7a-0359-4949-91d0-fe143f9dbffc",
   "metadata": {
    "editable": true,
    "slideshow": {
     "slide_type": ""
    },
    "tags": []
   },
   "source": [
    "<a id=\"2558\"></a>\n",
    "<div style=\"background-color:#52B6A3; padding: 8px; border-radius: 5px; font-size: 20px;\">\n",
    "<b style=\"color: white;\">2558. Take Gifts From the Richest Pile</b>\n",
    "</div>"
   ]
  },
  {
   "cell_type": "markdown",
   "id": "d77e276a-1caf-46e0-b602-e895b36c7353",
   "metadata": {},
   "source": [
    "[https://leetcode.com/problems/take-gifts-from-the-richest-pile/](https://leetcode.com/problems/take-gifts-from-the-richest-pile/)"
   ]
  },
  {
   "cell_type": "code",
   "execution_count": null,
   "id": "6b269a80-555d-4123-ba24-de44ed0f515a",
   "metadata": {},
   "outputs": [],
   "source": [
    "class Solution(object):\n",
    "    def pickGifts(self, gifts, k):\n",
    "        \"\"\"\n",
    "        :type gifts: List[int]\n",
    "        :type k: int\n",
    "        :rtype: int\n",
    "        \"\"\"\n",
    "        \n",
    "        heap = [-x for x in gifts]\n",
    "        heapq.heapify(heap)\n",
    "        for _ in range(k):\n",
    "            heapq.heapreplace(heap, -int(sqrt(-heap[0])))\n",
    "        \n",
    "        return -sum(heap)"
   ]
  },
  {
   "cell_type": "markdown",
   "id": "fb02990e-e3cd-4ab2-9a9c-9851fcebf18b",
   "metadata": {},
   "source": [
    "<a href=\"#contents\">Back to top</a>"
   ]
  },
  {
   "cell_type": "markdown",
   "id": "c4c194c7-6732-450e-b80f-1e2d5bc2599c",
   "metadata": {
    "editable": true,
    "slideshow": {
     "slide_type": ""
    },
    "tags": []
   },
   "source": [
    "<a id=\"2559\"></a>\n",
    "<div style=\"background-color:#F6C249; padding: 8px; border-radius: 5px; font-size: 20px;\">\n",
    "<b style=\"color: white;\">2559. Count Vowel Strings in Ranges</b>\n",
    "</div>"
   ]
  },
  {
   "cell_type": "markdown",
   "id": "6ea993c9-4271-46c8-9e35-02cc053539b2",
   "metadata": {},
   "source": [
    "[https://leetcode.com/problems/count-vowel-strings-in-ranges/](https://leetcode.com/problems/count-vowel-strings-in-ranges/)"
   ]
  },
  {
   "cell_type": "code",
   "execution_count": null,
   "id": "ba11fb5f-0dcb-46d1-9800-4900c8fb6c6a",
   "metadata": {},
   "outputs": [],
   "source": [
    "class Solution(object):\n",
    "    def vowelStrings(self, words, queries):\n",
    "        \"\"\"\n",
    "        :type words: List[str]\n",
    "        :type queries: List[List[int]]\n",
    "        :rtype: List[int]\n",
    "        \"\"\"\n",
    "        \n",
    "        vowels = {\"a\", \"e\", \"i\", \"o\", \"u\"}\n",
    "        n = len(words)\n",
    "        prefix = (n + 1) * [0]\n",
    "        for i, word in enumerate(words):\n",
    "            prefix[i + 1] = prefix[i]\n",
    "            if (word[0] in vowels) and (word[-1] in vowels):\n",
    "                prefix[i + 1] += 1\n",
    "        \n",
    "        answer = [prefix[j + 1] - prefix[i] for i, j in queries]\n",
    "        \n",
    "        return answer"
   ]
  },
  {
   "cell_type": "markdown",
   "id": "708f1954-d19d-4432-80a2-6e6c30279d77",
   "metadata": {},
   "source": [
    "<a href=\"#contents\">Back to top</a>"
   ]
  },
  {
   "cell_type": "markdown",
   "id": "4690e098-feb0-4510-b0aa-4b733c0e1f61",
   "metadata": {
    "editable": true,
    "slideshow": {
     "slide_type": ""
    },
    "tags": []
   },
   "source": [
    "<a id=\"2566\"></a>\n",
    "<div style=\"background-color:#52B6A3; padding: 8px; border-radius: 5px; font-size: 20px;\">\n",
    "<b style=\"color: white;\">2566. Maximum Difference by Remapping a Digit</b>\n",
    "</div>"
   ]
  },
  {
   "cell_type": "markdown",
   "id": "5c73090d-a1c9-4730-aec9-1b788198dae0",
   "metadata": {},
   "source": [
    "[https://leetcode.com/problems/maximum-difference-by-remapping-a-digit/](https://leetcode.com/problems/maximum-difference-by-remapping-a-digit/)"
   ]
  },
  {
   "cell_type": "code",
   "execution_count": null,
   "id": "1000c975-2adf-4a7f-acd7-1efe575493e4",
   "metadata": {},
   "outputs": [],
   "source": [
    "class Solution(object):\n",
    "    def minMaxDifference(self, num):\n",
    "        \"\"\"\n",
    "        :type num: int\n",
    "        :rtype: int\n",
    "        \"\"\"\n",
    "        \n",
    "        s = str(num)\n",
    "        answer = 0\n",
    "        d_max, d_min = None, s[0]\n",
    "        for d in s:\n",
    "            if (d_max is None) and (d != \"9\"):\n",
    "                d_max = d\n",
    "            x = 9 if (d == d_max) else int(d)\n",
    "            y = 0 if (d == d_min) else int(d)\n",
    "            answer = 10 * answer + (x - y)\n",
    "        \n",
    "        return answer"
   ]
  },
  {
   "cell_type": "markdown",
   "id": "3fd4bc44-0912-4c28-99f5-7ca48441619f",
   "metadata": {},
   "source": [
    "<a href=\"#contents\">Back to top</a>"
   ]
  },
  {
   "cell_type": "markdown",
   "id": "7e74a1f6-56ff-4662-84ec-2ddf6b8de45b",
   "metadata": {
    "editable": true,
    "slideshow": {
     "slide_type": ""
    },
    "tags": []
   },
   "source": [
    "<a id=\"2593\"></a>\n",
    "<div style=\"background-color:#F6C249; padding: 8px; border-radius: 5px; font-size: 20px;\">\n",
    "<b style=\"color: white;\">2593. Find Score of an Array After Marking All Elements</b>\n",
    "</div>"
   ]
  },
  {
   "cell_type": "markdown",
   "id": "400c369f-0f21-4d5f-88a2-04a2bf68e1e8",
   "metadata": {},
   "source": [
    "[https://leetcode.com/problems/find-score-of-an-array-after-marking-all-elements/](https://leetcode.com/problems/find-score-of-an-array-after-marking-all-elements/)"
   ]
  },
  {
   "cell_type": "code",
   "execution_count": null,
   "id": "5cb54c0e-f949-49a0-a40b-784aee198e08",
   "metadata": {},
   "outputs": [],
   "source": [
    "class Solution(object):\n",
    "    def findScore(self, nums):\n",
    "        \"\"\"\n",
    "        :type nums: List[int]\n",
    "        :rtype: int\n",
    "        \"\"\"\n",
    "        \n",
    "        score = 0\n",
    "        marked = (len(nums) + 1) * [False]\n",
    "        \n",
    "        heap = []\n",
    "        for i, x in enumerate(nums):\n",
    "            heapq.heappush(heap, (x, i))\n",
    "        \n",
    "        while heap:\n",
    "            x, i = heapq.heappop(heap)\n",
    "            if not marked[i]:\n",
    "                score += x\n",
    "                marked[i] = marked[i - 1] = marked[i + 1] = True\n",
    "        \n",
    "        return score"
   ]
  },
  {
   "cell_type": "markdown",
   "id": "5ea67df4-7080-46f8-9930-45d4ebbc466c",
   "metadata": {},
   "source": [
    "<a href=\"#contents\">Back to top</a>"
   ]
  },
  {
   "cell_type": "markdown",
   "id": "99817584-f067-4484-ac6e-c66bf5139d3c",
   "metadata": {
    "editable": true,
    "slideshow": {
     "slide_type": ""
    },
    "tags": []
   },
   "source": [
    "<a id=\"2616\"></a>\n",
    "<div style=\"background-color:#F6C249; padding: 8px; border-radius: 5px; font-size: 20px;\">\n",
    "<b style=\"color: white;\">2616. Minimize the Maximum Difference of Pairs</b>\n",
    "</div>"
   ]
  },
  {
   "cell_type": "markdown",
   "id": "9c66f5fb-1462-4b91-bd3e-41ddcbb40c0f",
   "metadata": {},
   "source": [
    "[https://leetcode.com/problems/minimize-the-maximum-difference-of-pairs/](https://leetcode.com/problems/minimize-the-maximum-difference-of-pairs/)"
   ]
  },
  {
   "cell_type": "code",
   "execution_count": null,
   "id": "218a8c5f-5488-4c45-a39a-f441d0cb023e",
   "metadata": {},
   "outputs": [],
   "source": [
    "class Solution(object):\n",
    "    def minimizeMax(self, nums, p):\n",
    "        \"\"\"\n",
    "        :type nums: List[int]\n",
    "        :type p: int\n",
    "        :rtype: int\n",
    "        \"\"\"\n",
    "        \n",
    "        n = len(nums)\n",
    "        if (p == 0) or (n < 2 * p):\n",
    "            return 0\n",
    "        \n",
    "        nums.sort()\n",
    "        left, right = 0, nums[n - 1] - nums[0]\n",
    "        while left < right:\n",
    "            mid = left + (right - left) // 2\n",
    "            count, i = 0, 0\n",
    "            while i < n - 1:\n",
    "                if nums[i + 1] - nums[i] <= mid:\n",
    "                    count += 1\n",
    "                    i += 2\n",
    "                else:\n",
    "                    i += 1\n",
    "            \n",
    "            if count < p:\n",
    "                left = mid + 1\n",
    "            else:\n",
    "                right = mid\n",
    "        \n",
    "        return left"
   ]
  },
  {
   "cell_type": "markdown",
   "id": "29b640c4-adca-4729-8de8-8812dd7a7767",
   "metadata": {},
   "source": [
    "<a href=\"#contents\">Back to top</a>"
   ]
  },
  {
   "cell_type": "markdown",
   "id": "e04e0c39-9517-4be3-be2b-144040117848",
   "metadata": {
    "editable": true,
    "slideshow": {
     "slide_type": ""
    },
    "tags": []
   },
   "source": [
    "<a id=\"2769\"></a>\n",
    "<div style=\"background-color:#52B6A3; padding: 8px; border-radius: 5px; font-size: 20px;\">\n",
    "<b style=\"color: white;\">2769. Find the Maximum Achievable Number</b>\n",
    "</div>"
   ]
  },
  {
   "cell_type": "markdown",
   "id": "3b3c0c4a-b453-4ec8-8fd7-d4262905ad04",
   "metadata": {},
   "source": [
    "[https://leetcode.com/problems/find-the-maximum-achievable-number/](https://leetcode.com/problems/find-the-maximum-achievable-number/)"
   ]
  },
  {
   "cell_type": "code",
   "execution_count": null,
   "id": "9509a5da-c263-44f7-bf0d-27fa21ce1b53",
   "metadata": {},
   "outputs": [],
   "source": [
    "class Solution(object):\n",
    "    def theMaximumAchievableX(self, num, t):\n",
    "        \"\"\"\n",
    "        :type num: int\n",
    "        :type t: int\n",
    "        :rtype: int\n",
    "        \"\"\"\n",
    "        \n",
    "        return num + 2 * t"
   ]
  },
  {
   "cell_type": "markdown",
   "id": "ea76fa11-1646-4ec9-882d-8e9412931064",
   "metadata": {},
   "source": [
    "<a href=\"#contents\">Back to top</a>"
   ]
  },
  {
   "cell_type": "markdown",
   "id": "9c389165-f5c7-4786-a116-908dcc08521d",
   "metadata": {
    "editable": true,
    "slideshow": {
     "slide_type": ""
    },
    "tags": []
   },
   "source": [
    "<a id=\"2923\"></a>\n",
    "<div style=\"background-color:#52B6A3; padding: 8px; border-radius: 5px; font-size: 20px;\">\n",
    "<b style=\"color: white;\">2923. Find Champion I</b>\n",
    "</div>"
   ]
  },
  {
   "cell_type": "markdown",
   "id": "f086861e-1674-4f29-97f7-0338ea5892a9",
   "metadata": {},
   "source": [
    "[https://leetcode.com/problems/find-champion-i/](https://leetcode.com/problems/find-champion-i/)"
   ]
  },
  {
   "cell_type": "code",
   "execution_count": null,
   "id": "5ad70496-e0f0-4804-a805-0f14f15d0b1e",
   "metadata": {},
   "outputs": [],
   "source": [
    "class Solution(object):\n",
    "    def findChampion(self, grid):\n",
    "        \"\"\"\n",
    "        :type grid: List[List[int]]\n",
    "        :rtype: int\n",
    "        \"\"\"\n",
    "        \n",
    "        n = len(grid)\n",
    "        for i in range(n):\n",
    "            if grid[i].count(1) == n - 1:\n",
    "                return i"
   ]
  },
  {
   "cell_type": "markdown",
   "id": "a43f1ae7-6f7c-4ed3-906f-30e4954473ca",
   "metadata": {},
   "source": [
    "<a href=\"#contents\">Back to top</a>"
   ]
  },
  {
   "cell_type": "markdown",
   "id": "479866df-f017-440b-b261-1c6e2b1d8737",
   "metadata": {
    "editable": true,
    "slideshow": {
     "slide_type": ""
    },
    "tags": []
   },
   "source": [
    "<a id=\"2924\"></a>\n",
    "<div style=\"background-color:#F6C249; padding: 8px; border-radius: 5px; font-size: 20px;\">\n",
    "<b style=\"color: white;\">2924. Find Champion II</b>\n",
    "</div>"
   ]
  },
  {
   "cell_type": "markdown",
   "id": "5d48936e-301c-4baf-8674-97d81a73b5a2",
   "metadata": {},
   "source": [
    "[https://leetcode.com/problems/find-champion-ii/](https://leetcode.com/problems/find-champion-ii/)"
   ]
  },
  {
   "cell_type": "code",
   "execution_count": null,
   "id": "508042bc-c54e-42b5-93d2-18e1044e7fc1",
   "metadata": {},
   "outputs": [],
   "source": [
    "class Solution(object):\n",
    "    def findChampion(self, n, edges):\n",
    "        \"\"\"\n",
    "        :type n: int\n",
    "        :type edges: List[List[int]]\n",
    "        :rtype: int\n",
    "        \"\"\"\n",
    "        \n",
    "        champions = set(range(n)) - {v for u, v in edges}\n",
    "        output = champions.pop() if (len(champions) == 1) else -1\n",
    "        \n",
    "        return output"
   ]
  },
  {
   "cell_type": "markdown",
   "id": "e03855a9-36fc-42fc-ba82-45f7aa9836ae",
   "metadata": {},
   "source": [
    "<a href=\"#contents\">Back to top</a>"
   ]
  },
  {
   "cell_type": "markdown",
   "id": "48be5e99-6024-4382-9605-6ebc0c98eba3",
   "metadata": {
    "editable": true,
    "slideshow": {
     "slide_type": ""
    },
    "tags": []
   },
   "source": [
    "<a id=\"2928\"></a>\n",
    "<div style=\"background-color:#52B6A3; padding: 8px; border-radius: 5px; font-size: 20px;\">\n",
    "<b style=\"color: white;\">2928. Distribute Candies Among Children I</b>\n",
    "</div>"
   ]
  },
  {
   "cell_type": "markdown",
   "id": "f1005adc-1477-4697-a98b-e8e56bc3bf9d",
   "metadata": {},
   "source": [
    "[https://leetcode.com/problems/distribute-candies-among-children-i/](https://leetcode.com/problems/distribute-candies-among-children-i/)"
   ]
  },
  {
   "cell_type": "code",
   "execution_count": null,
   "id": "6478fede-41ff-4402-8e3f-8d99035d3287",
   "metadata": {},
   "outputs": [],
   "source": [
    "class Solution(object):\n",
    "    def distributeCandies(self, n, limit):\n",
    "        \"\"\"\n",
    "        :type n: int\n",
    "        :type limit: int\n",
    "        :rtype: int\n",
    "        \"\"\"\n",
    "        \n",
    "        count = 0\n",
    "        for i in range(limit + 1):\n",
    "            for j in range(limit + 1):\n",
    "                if 0 <= n - i - j <= limit:\n",
    "                    count += 1\n",
    "        \n",
    "        return count"
   ]
  },
  {
   "cell_type": "markdown",
   "id": "23f0cd66-a5b8-4567-a56b-b41c077bab21",
   "metadata": {},
   "source": [
    "<a href=\"#contents\">Back to top</a>"
   ]
  },
  {
   "cell_type": "markdown",
   "id": "3753f1de-4bf2-4003-88b4-d9fb97109935",
   "metadata": {
    "editable": true,
    "slideshow": {
     "slide_type": ""
    },
    "tags": []
   },
   "source": [
    "<a id=\"2929\"></a>\n",
    "<div style=\"background-color:#F6C249; padding: 8px; border-radius: 5px; font-size: 20px;\">\n",
    "<b style=\"color: white;\">2929. Distribute Candies Among Children II</b>\n",
    "</div>"
   ]
  },
  {
   "cell_type": "markdown",
   "id": "c7c832e9-6a31-4f6b-9b2d-bb5ab80a36cf",
   "metadata": {},
   "source": [
    "[https://leetcode.com/problems/distribute-candies-among-children-ii/](https://leetcode.com/problems/distribute-candies-among-children-ii/)"
   ]
  },
  {
   "cell_type": "code",
   "execution_count": null,
   "id": "2224499b-38fc-49ea-a73e-ebcd0feb0ea7",
   "metadata": {},
   "outputs": [],
   "source": [
    "class Solution(object):\n",
    "    def distributeCandies(self, n, limit):\n",
    "        \"\"\"\n",
    "        :type n: int\n",
    "        :type limit: int\n",
    "        :rtype: int\n",
    "        \"\"\"\n",
    "        \n",
    "        def comb2(n):\n",
    "            return (n * (n - 1) / 2) if (n >= 2) else 0\n",
    "        \n",
    "        count = comb2(n + 2)\n",
    "        count -= 3 * comb2(n - (limit + 1) + 2)\n",
    "        count += 3 * comb2(n - 2 * (limit + 1) + 2)\n",
    "        count -= comb2(n - 3 * (limit + 1) + 2)\n",
    "        \n",
    "        return count"
   ]
  },
  {
   "cell_type": "markdown",
   "id": "ec188f18-42b1-45f9-8626-6a810b0e8804",
   "metadata": {},
   "source": [
    "<a href=\"#contents\">Back to top</a>"
   ]
  },
  {
   "cell_type": "markdown",
   "id": "0ec5ebe9-900a-43fc-ada0-647e80a6bcf8",
   "metadata": {
    "editable": true,
    "slideshow": {
     "slide_type": ""
    },
    "tags": []
   },
   "source": [
    "<a id=\"2966\"></a>\n",
    "<div style=\"background-color:#F6C249; padding: 8px; border-radius: 5px; font-size: 20px;\">\n",
    "<b style=\"color: white;\">2966. Divide Array Into Arrays With Max Difference</b>\n",
    "</div>"
   ]
  },
  {
   "cell_type": "markdown",
   "id": "47a7e02c-7d94-4f82-af67-af7b6576d86a",
   "metadata": {},
   "source": [
    "[https://leetcode.com/problems/divide-array-into-arrays-with-max-difference/](https://leetcode.com/problems/divide-array-into-arrays-with-max-difference/)"
   ]
  },
  {
   "cell_type": "code",
   "execution_count": null,
   "id": "95e0a960-5837-4d02-8411-df0b0d447f87",
   "metadata": {},
   "outputs": [],
   "source": [
    "class Solution(object):\n",
    "    def divideArray(self, nums, k):\n",
    "        \"\"\"\n",
    "        :type nums: List[int]\n",
    "        :type k: int\n",
    "        :rtype: List[List[int]]\n",
    "        \"\"\"\n",
    "        \n",
    "        nums.sort()\n",
    "        \n",
    "        n = len(nums)\n",
    "        answer = []\n",
    "        for i in range(0, n, 3):\n",
    "            if nums[i + 2] - nums[i] <= k:\n",
    "                answer.append(nums[i:i+3])\n",
    "            else:\n",
    "                answer = []\n",
    "                break\n",
    "        \n",
    "        return answer"
   ]
  },
  {
   "cell_type": "markdown",
   "id": "57c67493-6f66-49e4-9e09-f801d76e6615",
   "metadata": {},
   "source": [
    "<a href=\"#contents\">Back to top</a>"
   ]
  },
  {
   "cell_type": "markdown",
   "id": "52a1bbdd-abd0-4168-9353-03cd94e4ee96",
   "metadata": {
    "editable": true,
    "slideshow": {
     "slide_type": ""
    },
    "tags": []
   },
   "source": [
    "<a id=\"2974\"></a>\n",
    "<div style=\"background-color:#52B6A3; padding: 8px; border-radius: 5px; font-size: 20px;\">\n",
    "<b style=\"color: white;\">2974. Minimum Number Game</b>\n",
    "</div>"
   ]
  },
  {
   "cell_type": "markdown",
   "id": "843cd092-bd40-4add-987e-ec71ae8c4297",
   "metadata": {},
   "source": [
    "[https://leetcode.com/problems/minimum-number-game/](https://leetcode.com/problems/minimum-number-game/)"
   ]
  },
  {
   "cell_type": "code",
   "execution_count": null,
   "id": "fba09a5a-65e8-4e47-97bb-c1c80f9e1b9a",
   "metadata": {},
   "outputs": [],
   "source": [
    "class Solution(object):\n",
    "    def numberGame(self, nums):\n",
    "        \"\"\"\n",
    "        :type nums: List[int]\n",
    "        :rtype: List[int]\n",
    "        \"\"\"\n",
    "        \n",
    "        nums.sort()\n",
    "        arr = [num for i in range(0, len(nums), 2) for num in nums[i:i+2][::-1]]\n",
    "        \n",
    "        return arr"
   ]
  },
  {
   "cell_type": "markdown",
   "id": "5fc0620a-dc5d-498c-ac97-fdd1465b29f6",
   "metadata": {},
   "source": [
    "<a href=\"#contents\">Back to top</a>"
   ]
  },
  {
   "cell_type": "markdown",
   "id": "f55a3eae-2947-475f-b38b-c59c3f0a0745",
   "metadata": {
    "editable": true,
    "slideshow": {
     "slide_type": ""
    },
    "tags": []
   },
   "source": [
    "<a id=\"3085\"></a>\n",
    "<div style=\"background-color:#F6C249; padding: 8px; border-radius: 5px; font-size: 20px;\">\n",
    "<b style=\"color: white;\">3085. Minimum Deletions to Make String K-Special</b>\n",
    "</div>"
   ]
  },
  {
   "cell_type": "markdown",
   "id": "20a98389-623c-4079-ae1d-a631472f1afc",
   "metadata": {},
   "source": [
    "[https://leetcode.com/problems/minimum-deletions-to-make-string-k-special/](https://leetcode.com/problems/minimum-deletions-to-make-string-k-special/)"
   ]
  },
  {
   "cell_type": "code",
   "execution_count": null,
   "id": "17bd84ff-4c5e-4741-a0e7-2530bece95c3",
   "metadata": {},
   "outputs": [],
   "source": [
    "class Solution(object):\n",
    "    def minimumDeletions(self, word, k):\n",
    "        \"\"\"\n",
    "        :type word: str\n",
    "        :type k: int\n",
    "        :rtype: int\n",
    "        \"\"\"\n",
    "        \n",
    "        freq = defaultdict(int)\n",
    "        for x in word:\n",
    "            freq[x] += 1\n",
    "        \n",
    "        answer = len(word)\n",
    "        for x in freq:\n",
    "            count = 0\n",
    "            for y in freq:\n",
    "                if freq[y] < freq[x]:\n",
    "                    count += freq[y]\n",
    "                elif freq[y] > freq[x] + k:\n",
    "                    count += freq[y] - freq[x] - k\n",
    "            \n",
    "            answer = min(answer, count)\n",
    "        \n",
    "        return answer"
   ]
  },
  {
   "cell_type": "markdown",
   "id": "a685eca9-1137-45f1-8e6b-4cf16061775d",
   "metadata": {},
   "source": [
    "<a href=\"#contents\">Back to top</a>"
   ]
  },
  {
   "cell_type": "markdown",
   "id": "8319962c-48d1-4d95-aaaf-7c63aaa9c98a",
   "metadata": {
    "editable": true,
    "slideshow": {
     "slide_type": ""
    },
    "tags": []
   },
   "source": [
    "<a id=\"3151\"></a>\n",
    "<div style=\"background-color:#52B6A3; padding: 8px; border-radius: 5px; font-size: 20px;\">\n",
    "<b style=\"color: white;\">3151. Special Array I</b>\n",
    "</div>"
   ]
  },
  {
   "cell_type": "markdown",
   "id": "ee700772-debe-42ec-98a3-e6497d56eb05",
   "metadata": {},
   "source": [
    "[https://leetcode.com/problems/special-array-i/](https://leetcode.com/problems/special-array-i/)"
   ]
  },
  {
   "cell_type": "code",
   "execution_count": null,
   "id": "222e9c86-f204-4082-9841-387c79f7c47a",
   "metadata": {},
   "outputs": [],
   "source": [
    "class Solution(object):\n",
    "    def isArraySpecial(self, nums):\n",
    "        \"\"\"\n",
    "        :type nums: List[int]\n",
    "        :rtype: bool\n",
    "        \"\"\"\n",
    "        \n",
    "        n = len(nums)\n",
    "        if n == 1:\n",
    "            return True\n",
    "        else:\n",
    "            return all((nums[i] % 2) ^ (nums[i - 1] % 2) for i in range(1, n))"
   ]
  },
  {
   "cell_type": "markdown",
   "id": "0f14de73-3695-4f8c-842c-539a2a85d5cf",
   "metadata": {},
   "source": [
    "<a href=\"#contents\">Back to top</a>"
   ]
  },
  {
   "cell_type": "markdown",
   "id": "9e22f668-a587-429f-bd56-32eec72d0cdb",
   "metadata": {
    "editable": true,
    "slideshow": {
     "slide_type": ""
    },
    "tags": []
   },
   "source": [
    "<a id=\"3170\"></a>\n",
    "<div style=\"background-color:#F6C249; padding: 8px; border-radius: 5px; font-size: 20px;\">\n",
    "<b style=\"color: white;\">3170. Lexicographically Minimum String After Removing Stars</b>\n",
    "</div>"
   ]
  },
  {
   "cell_type": "markdown",
   "id": "5b7d851f-20df-4af8-ad66-3bf7c94520bf",
   "metadata": {},
   "source": [
    "[https://leetcode.com/problems/lexicographically-minimum-string-after-removing-stars/](https://leetcode.com/problems/lexicographically-minimum-string-after-removing-stars/)"
   ]
  },
  {
   "cell_type": "code",
   "execution_count": null,
   "id": "bf1a8e35-c748-4c6e-be8d-cf47d449d5ec",
   "metadata": {},
   "outputs": [],
   "source": [
    "class Solution(object):\n",
    "    def clearStars(self, s):\n",
    "        \"\"\"\n",
    "        :type s: str\n",
    "        :rtype: str\n",
    "        \"\"\"\n",
    "        \n",
    "        answer = list(s)\n",
    "        stack = [deque() for _ in range(26)]\n",
    "        for i, char in enumerate(s):\n",
    "            if char != \"*\":\n",
    "                stack[ord(char) - ord(\"a\")].append(i)\n",
    "            else:\n",
    "                for j in range(26):\n",
    "                    if stack[j]:\n",
    "                        answer[stack[j].pop()] = \"*\"\n",
    "                        break\n",
    "        \n",
    "        answer = \"\".join(char for char in answer if char != \"*\")\n",
    "        \n",
    "        return answer"
   ]
  },
  {
   "cell_type": "markdown",
   "id": "8be9afeb-4fe0-41da-a6b6-24871e395934",
   "metadata": {},
   "source": [
    "<a href=\"#contents\">Back to top</a>"
   ]
  },
  {
   "cell_type": "markdown",
   "id": "3bd6e032-99e0-4f70-abed-aa515919b4b2",
   "metadata": {
    "editable": true,
    "slideshow": {
     "slide_type": ""
    },
    "tags": []
   },
   "source": [
    "<a id=\"3330\"></a>\n",
    "<div style=\"background-color:#52B6A3; padding: 8px; border-radius: 5px; font-size: 20px;\">\n",
    "<b style=\"color: white;\">3330. Find the Original Typed String I</b>\n",
    "</div>"
   ]
  },
  {
   "cell_type": "markdown",
   "id": "6275c1f6-748c-48b0-b526-10168c06618d",
   "metadata": {},
   "source": [
    "[https://leetcode.com/problems/find-the-original-typed-string-i/](https://leetcode.com/problems/find-the-original-typed-string-i/)"
   ]
  },
  {
   "cell_type": "code",
   "execution_count": null,
   "id": "8fe13323-4af1-437f-bd43-6ff7386956f2",
   "metadata": {},
   "outputs": [],
   "source": [
    "class Solution(object):\n",
    "    def possibleStringCount(self, word):\n",
    "        \"\"\"\n",
    "        :type word: str\n",
    "        :rtype: int\n",
    "        \"\"\"\n",
    "        \n",
    "        n = len(word)\n",
    "        answer = 1\n",
    "        for i in range(1, n):\n",
    "            if word[i] == word[i - 1]:\n",
    "                answer += 1\n",
    "        \n",
    "        return answer"
   ]
  },
  {
   "cell_type": "markdown",
   "id": "bea54545-ba45-4f4b-87d5-9c4c0ef60610",
   "metadata": {},
   "source": [
    "<a href=\"#contents\">Back to top</a>"
   ]
  },
  {
   "cell_type": "markdown",
   "id": "d04bd81d-0e69-419b-9612-b544e29cf431",
   "metadata": {
    "editable": true,
    "slideshow": {
     "slide_type": ""
    },
    "tags": []
   },
   "source": [
    "<a id=\"3340\"></a>\n",
    "<div style=\"background-color:#52B6A3; padding: 8px; border-radius: 5px; font-size: 20px;\">\n",
    "<b style=\"color: white;\">3340. Check Balanced String</b>\n",
    "</div>"
   ]
  },
  {
   "cell_type": "markdown",
   "id": "f10f46f6-45ae-420f-bf7f-a9038fbb680c",
   "metadata": {},
   "source": [
    "[https://leetcode.com/problems/check-balanced-string/](https://leetcode.com/problems/check-balanced-string/)"
   ]
  },
  {
   "cell_type": "code",
   "execution_count": null,
   "id": "ef7b6d0e-7b12-45f1-8cff-f62ecf2535dc",
   "metadata": {},
   "outputs": [],
   "source": [
    "class Solution(object):\n",
    "    def isBalanced(self, num):\n",
    "        \"\"\"\n",
    "        :type num: str\n",
    "        :rtype: bool\n",
    "        \"\"\"\n",
    "        \n",
    "        return (sum(s if (i & 1 == 0) else -s for i, s in enumerate(map(int, num))) == 0)"
   ]
  },
  {
   "cell_type": "markdown",
   "id": "db334c1a-3061-4b19-b861-b5111c7e554f",
   "metadata": {},
   "source": [
    "<a href=\"#contents\">Back to top</a>"
   ]
  },
  {
   "cell_type": "markdown",
   "id": "e88a258d-2c3b-4090-93d4-67fdb9321670",
   "metadata": {
    "editable": true,
    "slideshow": {
     "slide_type": ""
    },
    "tags": []
   },
   "source": [
    "<a id=\"3354\"></a>\n",
    "<div style=\"background-color:#52B6A3; padding: 8px; border-radius: 5px; font-size: 20px;\">\n",
    "<b style=\"color: white;\">3354. Make Array Elements Equal to Zero</b>\n",
    "</div>"
   ]
  },
  {
   "cell_type": "markdown",
   "id": "52109f08-688e-4da2-8b33-99e486d084d8",
   "metadata": {},
   "source": [
    "[https://leetcode.com/problems/make-array-elements-equal-to-zero/](https://leetcode.com/problems/make-array-elements-equal-to-zero/)"
   ]
  },
  {
   "cell_type": "code",
   "execution_count": null,
   "id": "a002700e-ab77-43fa-b8cb-d376685f37b8",
   "metadata": {},
   "outputs": [],
   "source": [
    "class Solution(object):\n",
    "    def countValidSelections(self, nums):\n",
    "        \"\"\"\n",
    "        :type nums: List[int]\n",
    "        :rtype: int\n",
    "        \"\"\"\n",
    "        \n",
    "        n = len(nums)\n",
    "        prefix = (n + 1) * [0]\n",
    "        for i in range(n):\n",
    "            prefix[i + 1] = prefix[i] + nums[i]\n",
    "        \n",
    "        output = 0\n",
    "        starts = [i for i, x in enumerate(nums) if x == 0]\n",
    "        for i in starts:\n",
    "            left, right = prefix[i], prefix[-1] - prefix[i + 1]\n",
    "            output += max(2 - abs(left - right), 0)\n",
    "        \n",
    "        return output"
   ]
  },
  {
   "cell_type": "markdown",
   "id": "8ca2b401-4799-42f3-b10e-677022eee036",
   "metadata": {},
   "source": [
    "<a href=\"#contents\">Back to top</a>"
   ]
  },
  {
   "cell_type": "markdown",
   "id": "5e656cf3-a3e7-4350-b8a3-fbd43e2f50b1",
   "metadata": {
    "editable": true,
    "slideshow": {
     "slide_type": ""
    },
    "tags": []
   },
   "source": [
    "<a id=\"3364\"></a>\n",
    "<div style=\"background-color:#52B6A3; padding: 8px; border-radius: 5px; font-size: 20px;\">\n",
    "<b style=\"color: white;\">3364. Minimum Positive Sum Subarray</b>\n",
    "</div>"
   ]
  },
  {
   "cell_type": "markdown",
   "id": "8c48c82f-083a-4e7e-ba16-916324b62a15",
   "metadata": {},
   "source": [
    "[https://leetcode.com/problems/minimum-positive-sum-subarray/](https://leetcode.com/problems/minimum-positive-sum-subarray/)"
   ]
  },
  {
   "cell_type": "code",
   "execution_count": null,
   "id": "bb574b19-3ff7-4b77-aac5-01b1fb5260ac",
   "metadata": {},
   "outputs": [],
   "source": [
    "class Solution(object):\n",
    "    def minimumSumSubarray(self, nums, l, r):\n",
    "        \"\"\"\n",
    "        :type nums: List[int]\n",
    "        :type l: int\n",
    "        :type r: int\n",
    "        :rtype: int\n",
    "        \"\"\"\n",
    "        \n",
    "        n = len(nums)\n",
    "        prefix = (n + 1) * [0]\n",
    "        for i in range(n):\n",
    "            prefix[i+1] = prefix[i] + nums[i]\n",
    "        \n",
    "        output = float(\"inf\")\n",
    "        for k in range(l, r + 1):\n",
    "            for i in range(n - k + 1):\n",
    "                val = prefix[i + k] - prefix[i]\n",
    "                if val > 0:\n",
    "                    output = min(output, val)\n",
    "        \n",
    "        return output if (output != float(\"inf\")) else -1"
   ]
  },
  {
   "cell_type": "markdown",
   "id": "f8c21895-43cd-4f18-bffe-e3c2285100d1",
   "metadata": {},
   "source": [
    "<a href=\"#contents\">Back to top</a>"
   ]
  },
  {
   "cell_type": "markdown",
   "id": "b18e7453-832e-45d8-bcc6-5e37e8649a8d",
   "metadata": {
    "editable": true,
    "slideshow": {
     "slide_type": ""
    },
    "tags": []
   },
   "source": [
    "<a id=\"3393\"></a>\n",
    "<div style=\"background-color:#F6C249; padding: 8px; border-radius: 5px; font-size: 20px;\">\n",
    "<b style=\"color: white;\">3393. Count Paths With the Given XOR Value</b>\n",
    "</div>"
   ]
  },
  {
   "cell_type": "markdown",
   "id": "3e958751-deec-4370-911f-ba4000ac284f",
   "metadata": {},
   "source": [
    "[https://leetcode.com/problems/count-paths-with-the-given-xor-value/](https://leetcode.com/problems/count-paths-with-the-given-xor-value/)"
   ]
  },
  {
   "cell_type": "code",
   "execution_count": null,
   "id": "e36ce6b5-b34b-48fa-ac05-93984cc8d11e",
   "metadata": {},
   "outputs": [],
   "source": [
    "class Solution(object):\n",
    "    def countPathsWithXorValue(self, grid, k):\n",
    "        \"\"\"\n",
    "        :type grid: List[List[int]]\n",
    "        :type k: int\n",
    "        :rtype: int\n",
    "        \"\"\"\n",
    "        \n",
    "        m, n = len(grid), len(grid[0])\n",
    "        mod = 10**9 + 7\n",
    "        \n",
    "        dp = [[16 * [0] for _ in range(n)] for _ in range(m)]\n",
    "        dp[0][0][grid[0][0]] = 1\n",
    "        for d in range(1, m + n - 1):\n",
    "            i_min, i_max = max(d - n + 1, 0), min(d, m - 1) + 1\n",
    "            for i in range(i_min, i_max):\n",
    "                j = d - i\n",
    "                x = grid[i][j]\n",
    "                if i - 1 >= 0:\n",
    "                    for y in range(16):\n",
    "                        dp[i][j][x ^ y] += dp[i - 1][j][y]\n",
    "                if j - 1 >= 0:\n",
    "                    for y in range(16):\n",
    "                        dp[i][j][x ^ y] += dp[i][j - 1][y]\n",
    "        \n",
    "        return dp[m - 1][n - 1][k] % mod"
   ]
  },
  {
   "cell_type": "markdown",
   "id": "5d7ab4da-7fe9-4639-8765-649c52fd3b72",
   "metadata": {},
   "source": [
    "<a href=\"#contents\">Back to top</a>"
   ]
  },
  {
   "cell_type": "markdown",
   "id": "7102e4e9-ffdb-4327-b411-124a156ff6c1",
   "metadata": {
    "editable": true,
    "slideshow": {
     "slide_type": ""
    },
    "tags": []
   },
   "source": [
    "<a id=\"3402\"></a>\n",
    "<div style=\"background-color:#52B6A3; padding: 8px; border-radius: 5px; font-size: 20px;\">\n",
    "<b style=\"color: white;\">3402. Minimum Operations to Make Columns Strictly Increasing</b>\n",
    "</div>"
   ]
  },
  {
   "cell_type": "markdown",
   "id": "a74da1bf-a22d-46c5-8698-3948248c6e09",
   "metadata": {},
   "source": [
    "[https://leetcode.com/problems/minimum-operations-to-make-columns-strictly-increasing/](https://leetcode.com/problems/minimum-operations-to-make-columns-strictly-increasing/)"
   ]
  },
  {
   "cell_type": "code",
   "execution_count": null,
   "id": "bb062ee9-518f-4cad-b153-67e80f12082f",
   "metadata": {},
   "outputs": [],
   "source": [
    "class Solution(object):\n",
    "    def minimumOperations(self, grid):\n",
    "        \"\"\"\n",
    "        :type grid: List[List[int]]\n",
    "        :rtype: int\n",
    "        \"\"\"\n",
    "        \n",
    "        m, n = len(grid), len(grid[0])\n",
    "        count = 0\n",
    "        for i in range(1, m):\n",
    "            for j in range(n):\n",
    "                if grid[i - 1][j] >= grid[i][j]:\n",
    "                    count += grid[i - 1][j] - grid[i][j] + 1\n",
    "                    grid[i][j] = grid[i - 1][j] + 1\n",
    "        \n",
    "        return count"
   ]
  },
  {
   "cell_type": "markdown",
   "id": "1587d810-9562-4576-993e-a251edf9f9a4",
   "metadata": {},
   "source": [
    "<a href=\"#contents\">Back to top</a>"
   ]
  },
  {
   "cell_type": "markdown",
   "id": "604be620-3069-4329-8e58-063bd7de7a03",
   "metadata": {
    "editable": true,
    "slideshow": {
     "slide_type": ""
    },
    "tags": []
   },
   "source": [
    "<a id=\"3405\"></a>\n",
    "<div style=\"background-color:#EB4B62; padding: 8px; border-radius: 5px; font-size: 20px;\">\n",
    "<b style=\"color: white;\">3405. Count the Number of Arrays with K Matching Adjacent Elements</b>\n",
    "</div>"
   ]
  },
  {
   "cell_type": "markdown",
   "id": "0b30a5f7-8bc3-48e7-a558-253d636a276b",
   "metadata": {},
   "source": [
    "[https://leetcode.com/problems/count-the-number-of-arrays-with-k-matching-adjacent-elements/](https://leetcode.com/problems/count-the-number-of-arrays-with-k-matching-adjacent-elements/)"
   ]
  },
  {
   "cell_type": "code",
   "execution_count": null,
   "id": "8cfb53f5-6b94-42de-b0d6-3d45fcc08ca4",
   "metadata": {},
   "outputs": [],
   "source": [
    "class Solution(object):\n",
    "    def countGoodArrays(self, n, m, k):\n",
    "        \"\"\"\n",
    "        :type n: int\n",
    "        :type m: int\n",
    "        :type k: int\n",
    "        :rtype: int\n",
    "        \"\"\"\n",
    "        \n",
    "        MOD = 10 ** 9 + 7\n",
    "        \n",
    "        if m == 1:\n",
    "            answer = 1 if (k == n - 1) else 0\n",
    "        else:\n",
    "            answer = (m * pow(m - 1, n - k - 1, MOD)) % MOD\n",
    "            answer = (self.binom(n - 1, k, MOD) * answer) % MOD\n",
    "        \n",
    "        return answer\n",
    "    \n",
    "    \n",
    "    def binom(self, n, k, mod):\n",
    "        numerator, denominator = 1, 1\n",
    "\n",
    "        for i in range(1, k + 1):\n",
    "            numerator = (numerator * (n - i + 1)) % mod\n",
    "            denominator = (denominator * i) % mod\n",
    "        \n",
    "        inv_denominator = pow(denominator, mod - 2, mod)\n",
    "        val = (numerator * inv_denominator) % mod\n",
    "        \n",
    "        return val"
   ]
  },
  {
   "cell_type": "markdown",
   "id": "3de392ce-51e0-427e-8cd0-09ea2a8cce13",
   "metadata": {},
   "source": [
    "<a href=\"#contents\">Back to top</a>"
   ]
  },
  {
   "cell_type": "markdown",
   "id": "27aaa928-9eab-4bb7-8cbc-c31c293b438d",
   "metadata": {
    "editable": true,
    "slideshow": {
     "slide_type": ""
    },
    "tags": []
   },
   "source": [
    "<a id=\"3407\"></a>\n",
    "<div style=\"background-color:#52B6A3; padding: 8px; border-radius: 5px; font-size: 20px;\">\n",
    "<b style=\"color: white;\">3407. Substring Matching Pattern</b>\n",
    "</div>"
   ]
  },
  {
   "cell_type": "markdown",
   "id": "03b103f7-f1aa-43a9-965a-e25289bb85d6",
   "metadata": {},
   "source": [
    "[https://leetcode.com/problems/substring-matching-pattern/](https://leetcode.com/problems/substring-matching-pattern/)"
   ]
  },
  {
   "cell_type": "code",
   "execution_count": null,
   "id": "f27344ac-6b7f-4720-9fa1-5a8ddce1cd0f",
   "metadata": {},
   "outputs": [],
   "source": [
    "class Solution(object):\n",
    "    def hasMatch(self, s, p):\n",
    "        \"\"\"\n",
    "        :type s: str\n",
    "        :type p: str\n",
    "        :rtype: bool\n",
    "        \"\"\"\n",
    "        \n",
    "        left, right = p.split(\"*\")\n",
    "        n, n_left = len(s), len(left)\n",
    "        idx_left = None\n",
    "        for i in range(n):\n",
    "            if s[i:i+n_left] == left:\n",
    "                idx_left = i\n",
    "                break\n",
    "        else:\n",
    "            return False\n",
    "        \n",
    "        return right in s[idx_left+n_left:]"
   ]
  },
  {
   "cell_type": "markdown",
   "id": "704948df-22a6-42cd-8e37-68259312158f",
   "metadata": {},
   "source": [
    "<a href=\"#contents\">Back to top</a>"
   ]
  },
  {
   "cell_type": "markdown",
   "id": "6b4b1655-f272-4b04-b06f-1e5f50b0a882",
   "metadata": {
    "editable": true,
    "slideshow": {
     "slide_type": ""
    },
    "tags": []
   },
   "source": [
    "<a id=\"3423\"></a>\n",
    "<div style=\"background-color:#52B6A3; padding: 8px; border-radius: 5px; font-size: 20px;\">\n",
    "<b style=\"color: white;\">3423. Maximum Difference Between Adjacent Elements in a Circular Array</b>\n",
    "</div>"
   ]
  },
  {
   "cell_type": "markdown",
   "id": "242ccf57-b339-4b6b-a52d-23f9122c1079",
   "metadata": {},
   "source": [
    "[https://leetcode.com/problems/maximum-difference-between-adjacent-elements-in-a-circular-array/](https://leetcode.com/problems/maximum-difference-between-adjacent-elements-in-a-circular-array/)"
   ]
  },
  {
   "cell_type": "code",
   "execution_count": null,
   "id": "b6ddea66-6b35-44d6-8d52-d8042d9ef114",
   "metadata": {},
   "outputs": [],
   "source": [
    "class Solution(object):\n",
    "    def maxAdjacentDistance(self, nums):\n",
    "        \"\"\"\n",
    "        :type nums: List[int]\n",
    "        :rtype: int\n",
    "        \"\"\"\n",
    "        \n",
    "        n = len(nums)\n",
    "        answer = max(abs(nums[i] - nums[i - 1]) for i in range(n))\n",
    "        \n",
    "        return answer"
   ]
  },
  {
   "cell_type": "markdown",
   "id": "836ce680-06db-4e04-9f48-bb969013836e",
   "metadata": {},
   "source": [
    "<a href=\"#contents\">Back to top</a>"
   ]
  },
  {
   "cell_type": "markdown",
   "id": "b1d14e17-951a-4253-abab-d1176e64cff7",
   "metadata": {
    "editable": true,
    "slideshow": {
     "slide_type": ""
    },
    "tags": []
   },
   "source": [
    "<a id=\"3442\"></a>\n",
    "<div style=\"background-color:#52B6A3; padding: 8px; border-radius: 5px; font-size: 20px;\">\n",
    "<b style=\"color: white;\">3442. Maximum Difference Between Even and Odd Frequency I</b>\n",
    "</div>"
   ]
  },
  {
   "cell_type": "markdown",
   "id": "32a4cff8-be64-4dac-92e7-6a18b107ec1a",
   "metadata": {},
   "source": [
    "[https://leetcode.com/problems/maximum-difference-between-even-and-odd-frequency-i/](https://leetcode.com/problems/maximum-difference-between-even-and-odd-frequency-i/)"
   ]
  },
  {
   "cell_type": "code",
   "execution_count": null,
   "id": "bbf9d19c-f783-43c5-bb36-4d002fa8bb4d",
   "metadata": {},
   "outputs": [],
   "source": [
    "class Solution(object):\n",
    "    def maxDifference(self, s):\n",
    "        \"\"\"\n",
    "        :type s: str\n",
    "        :rtype: int\n",
    "        \"\"\"\n",
    "        \n",
    "        d = defaultdict(int)\n",
    "        for char in s:\n",
    "            d[char] += 1\n",
    "        \n",
    "        a1, a2 = 0, len(s)\n",
    "        for char in d:\n",
    "            if d[char] % 2 == 1:\n",
    "                a1 = max(a1, d[char])\n",
    "            else:\n",
    "                a2 = min(a2, d[char])\n",
    "        \n",
    "        answer = a1 - a2\n",
    "        \n",
    "        return answer"
   ]
  },
  {
   "cell_type": "markdown",
   "id": "32218cfb-2648-400f-8b20-030648f3d048",
   "metadata": {},
   "source": [
    "<a href=\"#contents\">Back to top</a>"
   ]
  },
  {
   "cell_type": "markdown",
   "id": "9fc61a96-5363-4077-a98e-23a34560c226",
   "metadata": {
    "editable": true,
    "slideshow": {
     "slide_type": ""
    },
    "tags": []
   },
   "source": [
    "<a id=\"3443\"></a>\n",
    "<div style=\"background-color:#F6C249; padding: 8px; border-radius: 5px; font-size: 20px;\">\n",
    "<b style=\"color: white;\">3443. Maximum Manhattan Distance After K Changes</b>\n",
    "</div>"
   ]
  },
  {
   "cell_type": "markdown",
   "id": "5322af55-94cc-476a-b2a6-932796a94848",
   "metadata": {},
   "source": [
    "[https://leetcode.com/problems/maximum-manhattan-distance-after-k-changes/](https://leetcode.com/problems/maximum-manhattan-distance-after-k-changes/)"
   ]
  },
  {
   "cell_type": "code",
   "execution_count": null,
   "id": "cb2ebcac-1ee3-428f-9e85-4b29b2a27935",
   "metadata": {},
   "outputs": [],
   "source": [
    "class Solution(object):\n",
    "    def maxDistance(self, s, k):\n",
    "        \"\"\"\n",
    "        :type s: str\n",
    "        :type k: int\n",
    "        :rtype: int\n",
    "        \"\"\"\n",
    "        \n",
    "        max_dist = 0\n",
    "        latitude, longitude = 0, 0\n",
    "        for i, x in enumerate(s):\n",
    "            if x == \"N\":\n",
    "                latitude += 1\n",
    "            elif x == \"S\":\n",
    "                latitude -= 1\n",
    "            elif x == \"E\":\n",
    "                longitude += 1\n",
    "            elif x == \"W\":\n",
    "                longitude -= 1\n",
    "            \n",
    "            max_curr_dist = min(abs(latitude) + abs(longitude) + 2 * k, i + 1)\n",
    "            max_dist = max(max_dist, max_curr_dist)\n",
    "        \n",
    "        return max_dist"
   ]
  },
  {
   "cell_type": "markdown",
   "id": "225eae34-116f-4e69-a1b5-87f48775e9fd",
   "metadata": {},
   "source": [
    "<a href=\"#contents\">Back to top</a>"
   ]
  },
  {
   "cell_type": "markdown",
   "id": "50c51235-87bc-40d4-9d8a-23ea35d5d368",
   "metadata": {
    "editable": true,
    "slideshow": {
     "slide_type": ""
    },
    "tags": []
   },
   "source": [
    "<a id=\"3445\"></a>\n",
    "<div style=\"background-color:#EB4B62; padding: 8px; border-radius: 5px; font-size: 20px;\">\n",
    "<b style=\"color: white;\">3445. Maximum Difference Between Even and Odd Frequency II</b>\n",
    "</div>"
   ]
  },
  {
   "cell_type": "markdown",
   "id": "a8c6af38-fba0-4822-bdc7-16ed0882e6e7",
   "metadata": {},
   "source": [
    "[https://leetcode.com/problems/maximum-difference-between-even-and-odd-frequency-ii/](https://leetcode.com/problems/maximum-difference-between-even-and-odd-frequency-ii/)"
   ]
  },
  {
   "cell_type": "code",
   "execution_count": null,
   "id": "207a646f-97d0-4bf1-8760-5c6ba4ec2567",
   "metadata": {},
   "outputs": [],
   "source": [
    "class Solution(object):\n",
    "    def maxDifference(self, s, k):\n",
    "        \"\"\"\n",
    "        :type s: str\n",
    "        :type k: int\n",
    "        :rtype: int\n",
    "        \"\"\"\n",
    "        \n",
    "        n = len(s)\n",
    "        answer = -n\n",
    "        for a, b in product(\"01234\", repeat=2):\n",
    "            if a == b:\n",
    "                continue\n",
    "            \n",
    "            min_diff = 4 * [n]\n",
    "            left = -1\n",
    "            left_a, left_b, right_a, right_b = 0, 0, 0, 0\n",
    "            for right in range(n):\n",
    "                if s[right] == a:\n",
    "                    right_a += 1\n",
    "                elif s[right] == b:\n",
    "                    right_b += 1\n",
    "                \n",
    "                while (right - left >= k) and (right_b - left_b >= 2):\n",
    "                    left_status = 2 * (left_a & 1) + (left_b & 1)\n",
    "                    min_diff[left_status] = min(min_diff[left_status], left_a - left_b)\n",
    "                    \n",
    "                    left += 1\n",
    "                    if s[left] == a:\n",
    "                        left_a += 1\n",
    "                    elif s[left] == b:\n",
    "                        left_b += 1\n",
    "                \n",
    "                right_status = 2 * (right_a & 1) + (right_b & 1)\n",
    "                status = right_status ^ 2\n",
    "                answer = max(answer, (right_a - right_b) - min_diff[status])\n",
    "        \n",
    "        return answer"
   ]
  },
  {
   "cell_type": "markdown",
   "id": "628d85d8-0d55-4f5b-8581-469ec556fb6d",
   "metadata": {},
   "source": [
    "<a href=\"#contents\">Back to top</a>"
   ]
  },
  {
   "cell_type": "markdown",
   "id": "b43fb336-a8c6-4fce-88b0-6607f2226e9e",
   "metadata": {
    "editable": true,
    "slideshow": {
     "slide_type": ""
    },
    "tags": []
   },
   "source": [
    "<a id=\"3587\"></a>\n",
    "<div style=\"background-color:#F6C249; padding: 8px; border-radius: 5px; font-size: 20px;\">\n",
    "<b style=\"color: white;\">3587. Minimum Adjacent Swaps to Alternate Parity</b>\n",
    "</div>"
   ]
  },
  {
   "cell_type": "markdown",
   "id": "3ea7b722-fbf9-4317-a84f-9140fa0b2c81",
   "metadata": {},
   "source": [
    "[https://leetcode.com/problems/minimum-adjacent-swaps-to-alternate-parity/](https://leetcode.com/problems/minimum-adjacent-swaps-to-alternate-parity/)"
   ]
  },
  {
   "cell_type": "code",
   "execution_count": null,
   "id": "52c57783-8d30-455f-99ef-09b6b8d6804d",
   "metadata": {},
   "outputs": [],
   "source": [
    "class Solution(object):\n",
    "    def minSwaps(self, nums):\n",
    "        \"\"\"\n",
    "        :type nums: List[int]\n",
    "        :rtype: int\n",
    "        \"\"\"\n",
    "        \n",
    "        diff01 = 0\n",
    "        swaps0, swaps1 = 0, 0\n",
    "        w0, w1 = 0, 0\n",
    "        for i, num in enumerate(nums):\n",
    "            if num & 1 == 0:\n",
    "                diff01 += 1\n",
    "                swaps0 += abs(i - w0)\n",
    "                w0 += 2\n",
    "            else:\n",
    "                diff01 -= 1\n",
    "                swaps1 += abs(i - w1)\n",
    "                w1 += 2\n",
    "        \n",
    "        if diff01 == 1:\n",
    "            swaps = swaps0\n",
    "        elif diff01 == 0:\n",
    "            swaps = min(swaps0, swaps1)\n",
    "        elif diff01 == -1:\n",
    "            swaps = swaps1\n",
    "        else:\n",
    "            swaps = -1\n",
    "        \n",
    "        return swaps"
   ]
  },
  {
   "cell_type": "markdown",
   "id": "b97a2b3d-6e2b-46b0-8067-24ea14294823",
   "metadata": {},
   "source": [
    "<a href=\"#contents\">Back to top</a>"
   ]
  },
  {
   "cell_type": "markdown",
   "id": "9aa08320-711d-4159-bf7d-b6b675b05e75",
   "metadata": {
    "editable": true,
    "slideshow": {
     "slide_type": ""
    },
    "tags": []
   },
   "source": [
    "<a id=\"3588\"></a>\n",
    "<div style=\"background-color:#F6C249; padding: 8px; border-radius: 5px; font-size: 20px;\">\n",
    "<b style=\"color: white;\">3588. Find Maximum Area of a Triangle</b>\n",
    "</div>"
   ]
  },
  {
   "cell_type": "markdown",
   "id": "aeaacbb4-f78d-4eb0-be9f-9fa77dd5629c",
   "metadata": {},
   "source": [
    "[https://leetcode.com/problems/find-maximum-area-of-a-triangle/](https://leetcode.com/problems/find-maximum-area-of-a-triangle/)"
   ]
  },
  {
   "cell_type": "code",
   "execution_count": null,
   "id": "ec0dff46-c03b-4216-af19-ba009a89aaf2",
   "metadata": {},
   "outputs": [],
   "source": [
    "class Solution(object):\n",
    "    def maxArea(self, coords):\n",
    "        \"\"\"\n",
    "        :type coords: List[List[int]]\n",
    "        :rtype: int\n",
    "        \"\"\"\n",
    "        \n",
    "        dx, dy = {}, {}\n",
    "        x_min, x_max = 10 ** 6, 0\n",
    "        y_min, y_max = 10 ** 6, 0\n",
    "        for x, y in coords:\n",
    "            if x in dx:\n",
    "                if y < dx[x][0]:\n",
    "                    dx[x][0] = y\n",
    "                elif y > dx[x][1]:\n",
    "                    dx[x][1] = y\n",
    "            else:\n",
    "                dx[x] = [y, y]\n",
    "                x_min = min(x_min, x)\n",
    "                x_max = max(x_max, x)\n",
    "            \n",
    "            if y in dy:\n",
    "                if x < dy[y][0]:\n",
    "                    dy[y][0] = x\n",
    "                elif x > dy[y][1]:\n",
    "                    dy[y][1] = x\n",
    "            else:\n",
    "                dy[y] = [x, x]\n",
    "                y_min = min(y_min, y)\n",
    "                y_max = max(y_max, y)\n",
    "        \n",
    "        answer = 0\n",
    "        for x in dx:\n",
    "            s = max(abs(x_min - x), abs(x_max - x)) * (dx[x][1] - dx[x][0])\n",
    "            answer = max(answer, s)\n",
    "        for y in dy:\n",
    "            s = max(abs(y_min - y), abs(y_max - y)) * (dy[y][1] - dy[y][0])\n",
    "            answer = max(answer, s)\n",
    "        \n",
    "        answer = answer if (answer > 0) else -1\n",
    "        \n",
    "        return answer"
   ]
  },
  {
   "cell_type": "markdown",
   "id": "8dd86424-ef05-4914-bca3-93b03b47db20",
   "metadata": {},
   "source": [
    "<a href=\"#contents\">Back to top</a>"
   ]
  }
 ],
 "metadata": {
  "kernelspec": {
   "display_name": "Python 3 (ipykernel)",
   "language": "python",
   "name": "python3"
  },
  "language_info": {
   "codemirror_mode": {
    "name": "ipython",
    "version": 3
   },
   "file_extension": ".py",
   "mimetype": "text/x-python",
   "name": "python",
   "nbconvert_exporter": "python",
   "pygments_lexer": "ipython3",
   "version": "3.10.9"
  }
 },
 "nbformat": 4,
 "nbformat_minor": 5
}
